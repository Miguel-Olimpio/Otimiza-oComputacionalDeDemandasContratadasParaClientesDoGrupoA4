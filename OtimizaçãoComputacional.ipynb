{
 "cells": [
  {
   "cell_type": "code",
   "execution_count": 31,
   "id": "4277da23",
   "metadata": {},
   "outputs": [],
   "source": [
    "import pandas as pd\n",
    "import numpy as np"
   ]
  },
  {
   "cell_type": "code",
   "execution_count": 32,
   "id": "a2093a3f",
   "metadata": {},
   "outputs": [],
   "source": [
    "def read(icms,tarifa_i,demanda_inicial):\n",
    "\n",
    "    data = pd.read_csv(\"tarifas.csv\", sep=\";\", header=None, dtype='float')\n",
    "    data1 = pd.read_csv(\"dados.csv\", sep=\" \", header=None)\n",
    "\n",
    "    # icms = int(input(\"Qual a taxa de ICMS da instalação? \\n -> 0 - s/ICMS \\n -> 1 - 18% \\n -> 2 - 25% \\n --->\" ))\n",
    "    # tarifa_i = input(\"Qual a tarifa da instalação: \\n Azul ou Verde? \\n --->\")\n",
    "\n",
    "\n",
    "    dhfp = []\n",
    "    dhp = []\n",
    "    ehfp = []\n",
    "    ehp = []\n",
    "    Mes = []\n",
    "    # demanda_inicial = []\n",
    "    tarifa = {}\n",
    "\n",
    "    # if tarifa_i=='verde':\n",
    "    #     demanda_inicial.append(float(input(\"Qual a demanda única contratada Atualalmente? \\n --->\")))\n",
    "    # elif tarifa_i=='azul':\n",
    "    #     demanda_inicial.append(float(input(\"Qual a demanda HFP contratada Atualmente? \\n --->\")))\n",
    "    #     demanda_inicial.append(float(input(\"Qual a demanda HP contratada Atualmente? \\n  --->\")))\n",
    "\n",
    "\n",
    "    for i in range(1,13):\n",
    "\n",
    "        dhfp.append(float(data1[2][13-i]))\n",
    "        dhp.append(float(data1[1][13-i]))\n",
    "        ehfp.append(float(data1[4][13-i])*1000)\n",
    "        ehp.append(float(data1[3][13-i])*1000)\n",
    "        Mes.append(data1[0][13-i])\n",
    "\n",
    "    consumo =    {\n",
    "                'demanda HFP': dhfp,\n",
    "                'demanda HP': dhp, \n",
    "                'consumo HFP': ehfp,\n",
    "                'consumo HP': ehp,    \n",
    "                'mes' :  Mes                  \n",
    "                }\n",
    "\n",
    "\n",
    "    TA =    {\n",
    "                'demanda HFP': float(data[icms][2]) ,\n",
    "                'demanda HFP s/icms': float(data[0][2]),\n",
    "                'demanda HFP ultrapassagem': float(data[icms][2])*2,\n",
    "                'demanda HP': float(data[icms][1]),\n",
    "                'demanda HP s/icms': float(data[0][1]),\n",
    "                'demanda HP ultrapassagem':float(data[icms][1])*2 , \n",
    "                'consumo HFP': float(data[icms][4]),\n",
    "                'consumo HP': float(data[icms][3])                       \n",
    "            }\n",
    "\n",
    "    TV =    {\n",
    "                'demanda unica': data[icms][7],\n",
    "                'demanda unica s/icms': data[0][7],\n",
    "                'demanda unica ultrapassagem':data[icms][7]*2 ,\n",
    "                'consumo HFP': data[icms][9],\n",
    "                'consumo HP': data[icms][8]\n",
    "            }\n",
    "    \n",
    "    tarifa.update({\"Tarifa Azul\":TA})\n",
    "    tarifa.update({\"Tarifa Verde\":TV})    \n",
    "    tarifa.update({\"Tarifa Atual\":tarifa_i})\n",
    "\n",
    "    #______________________________________________________________________________________________________________________________________________\n",
    "    # CRIAÇÃO DOS VETORES DE DEMANDAS PARA CALCULO DOS CUSTOS MINIMOS\n",
    "    # demanda HFP: Vetor com registros entre os minimos valores registrados -10 e os máximos valores registrados +10 (MELHORAR ESSE +/- 10)\n",
    "    # demanda HP: Vetor com registros entre os minimos valores registrados -10 e os máximos valores registrados +10  (MELHORAR ESSE +/- 10)\n",
    "    # demanda atual HFP: Demanda atualmente contratada HFP, para utilizar em calculo de economia\n",
    "    # demanda atual HP: Demanda atualmente contratada HFP, para utilizar em calculo de economia\n",
    "\n",
    "    contratado = {'demanda HFP': np.arange(min(dhfp)-10,max(dhfp)+10,1,dtype='float'),\n",
    "                  'demanda HP': np.arange(min(dhp)-10,max(dhp)+10,1,dtype='float'),\n",
    "                  'demanda atual HFP/unica': demanda_inicial[0],\n",
    "                  'demanda atual HP': demanda_inicial[1],}\n",
    "\n",
    "    return consumo, tarifa, contratado\n",
    "\n"
   ]
  },
  {
   "cell_type": "code",
   "execution_count": 33,
   "id": "8153cde0",
   "metadata": {},
   "outputs": [],
   "source": [
    "#______________________________________________________________________________________________________________\n",
    "#IMPORTAÇÃO DAS BIBLIOTECAS NECESSÁRIAS\n",
    "\n",
    "#_________________________________________________________________________________________________________________\n",
    "# FUNÇÃO QUE CALCULA OS CUSTOS PARA TARIFA AZUL\n",
    "\n",
    "def calc_azul(consumo, tarifa, contratado):\n",
    "\n",
    "#_________________________________________________________________________________________________________________\n",
    "# FUNÇÃO QUE CALCULA MÊS A MÊS AS DEMANDAS\n",
    "\n",
    "    def calc_mes(consumo, tarifa, contratado):\n",
    "\n",
    "        c = []\n",
    "        cS = []\n",
    "        cU = []\n",
    "        custos = {}\n",
    "        \n",
    "        if(consumo <= 1.05*contratado):\n",
    "            c.append(consumo*tarifa[0])\n",
    "            if (contratado - consumo)>=0:\n",
    "                cS.append((contratado - consumo)*tarifa[1])\n",
    "            else:\n",
    "                cS.append(0)\n",
    "            cU.append(0)\n",
    "\n",
    "\n",
    "        else:\n",
    "            c.append(consumo*tarifa[0])\n",
    "            cS.append(0)\n",
    "            cU.append((consumo - contratado)*tarifa[2])\n",
    "\n",
    "        custos={'Custo demanda':c[0],\n",
    "                'Custo demanda s/ICMS':cS[0],\n",
    "                'Custo demanda Ultrapassagem':cU[0],\n",
    "                'Custo Total mensal':c[0]+cS[0]+cU[0]}  \n",
    "        \n",
    "        return custos\n",
    "\n",
    "#_________________________________________________________________________________________________________________\n",
    "# CALCULO DA DEMANDA HFP\n",
    "\n",
    "    tarifa1 = []\n",
    "    ano = []\n",
    "    ano1 = []\n",
    "    x =[]\n",
    "    a = 0\n",
    "    output = {}\n",
    "    demanda = []\n",
    "    custo = []\n",
    "    \n",
    "    tarifa1.append(tarifa['Tarifa Azul']['demanda HFP'])\n",
    "    tarifa1.append(tarifa['Tarifa Azul']['demanda HFP s/icms'])\n",
    "    tarifa1.append(tarifa['Tarifa Azul']['demanda HFP ultrapassagem'])\n",
    "\n",
    "    \n",
    "\n",
    "    for k in range(len(contratado['demanda HFP'])):\n",
    "        mes = []\n",
    "        mes1 = []\n",
    "        for i in range(len(consumo['demanda HFP'])):\n",
    "            mes.append(float(calc_mes(consumo['demanda HFP'][i],tarifa1,contratado['demanda HFP'][k])['Custo Total mensal']))\n",
    "            mes1.append(calc_mes(consumo['demanda HFP'][i],tarifa1,contratado['demanda HFP'][k]))\n",
    "        ano.append(sum(mes))\n",
    "        ano1.append(mes1)\n",
    "        demanda.append(contratado['demanda HFP'][k])\n",
    "        custo.append(sum(mes))\n",
    "\n",
    "    for i in range(len(consumo['demanda HFP'])):\n",
    "                x.append(calc_mes(consumo['demanda HFP'][i],tarifa1,contratado['demanda atual HFP/unica']))\n",
    "\n",
    "    a = ano.index(min(ano))\n",
    "    output.update({'Anual Ótima HFP': ano1[a]})\n",
    "    output.update({'Anual Atual HFP': x})\n",
    "    output.update({'Demanda HFP Ótima': contratado['demanda HFP'][a]})\n",
    "    output.update({'Demanda HFP':demanda})\n",
    "    output.update({'Custo HFP':custo})\n",
    "#_________________________________________________________________________________________________________________\n",
    "# CALCULO DA DEMANDA HP\n",
    "\n",
    "    tarifa1 = []\n",
    "    ano = []\n",
    "    ano1 = []\n",
    "    x =[]\n",
    "    a = 0\n",
    "    demanda = []\n",
    "    custo = []\n",
    "\n",
    "    tarifa1.append(tarifa['Tarifa Azul']['demanda HP'])\n",
    "    tarifa1.append(tarifa['Tarifa Azul']['demanda HP s/icms'])\n",
    "    tarifa1.append(tarifa['Tarifa Azul']['demanda HP ultrapassagem'])\n",
    "\n",
    "    \n",
    "\n",
    "    for k in range(len(contratado['demanda HP'])):\n",
    "        mes = []\n",
    "        mes1 = []\n",
    "        for i in range(len(consumo['demanda HP'])):\n",
    "            mes.append(float(calc_mes(consumo['demanda HP'][i],tarifa1,contratado['demanda HP'][k])['Custo Total mensal']))\n",
    "            mes1.append(calc_mes(consumo['demanda HP'][i],tarifa1,contratado['demanda HP'][k]))\n",
    "        ano.append(sum(mes))\n",
    "        ano1.append(mes1)\n",
    "        demanda.append(contratado['demanda HP'][k])\n",
    "        custo.append(sum(mes))\n",
    "\n",
    "    for i in range(len(consumo['demanda HP'])):\n",
    "        x.append(calc_mes(consumo['demanda HP'][i],tarifa1,contratado['demanda atual HP']))\n",
    "\n",
    "    a = ano.index(min(ano))\n",
    "    ano = []\n",
    "    ano.append(ano1[a])\n",
    "    ano.append(x)\n",
    "    ano.append(contratado['demanda HP'][a])\n",
    "    output.update({'Anual Ótima HP': ano1[a]})\n",
    "    output.update({'Anual Atual HP': x})\n",
    "    output.update({'Demanda HP Ótima': contratado['demanda HP'][a]})\n",
    "    output.update({'Demanda HP':demanda})\n",
    "    output.update({'Custo HP':custo})\n",
    "    \n",
    "    return output\n",
    "\n"
   ]
  },
  {
   "cell_type": "code",
   "execution_count": 34,
   "id": "7a340d8e",
   "metadata": {},
   "outputs": [],
   "source": [
    "icms = 1\n",
    "tarifa_i = 'azul'\n",
    "demanda_inicial = [145,145]"
   ]
  },
  {
   "cell_type": "code",
   "execution_count": 35,
   "id": "7e1648d6",
   "metadata": {},
   "outputs": [
    {
     "name": "stdout",
     "output_type": "stream",
     "text": [
      "{'Tarifa Azul': {'demanda HFP': 21.0365981, 'demanda HFP s/icms': 16.54, 'demanda HFP ultrapassagem': 42.0731962, 'demanda HP': 63.4913529, 'demanda HP s/icms': 49.92, 'demanda HP ultrapassagem': 126.9827058, 'consumo HFP': 0.4445158, 'consumo HP': 0.6322681}, 'Tarifa Verde': {'demanda unica': 21.0365981, 'demanda unica s/icms': 16.54, 'demanda unica ultrapassagem': 42.0731962, 'consumo HFP': 0.4445158, 'consumo HP': 2.1688936}, 'Tarifa Atual': 'azul'}\n",
      "A demanda ótima para o posto HP é de:  82.0  kW\n",
      "A demanda ótima para o posto HFP é de:  93.0  kW\n"
     ]
    }
   ],
   "source": [
    "input = read(icms,tarifa_i,demanda_inicial)\n",
    "print(input[1])\n",
    "a = calc_azul(input[0],input[1],input[2])\n",
    "print('A demanda ótima para o posto HP é de: ', a['Demanda HP Ótima'],' kW')\n",
    "print('A demanda ótima para o posto HFP é de: ', a['Demanda HFP Ótima'], ' kW')"
   ]
  },
  {
   "cell_type": "code",
   "execution_count": 36,
   "id": "e120de19",
   "metadata": {},
   "outputs": [
    {
     "data": {
      "application/vnd.plotly.v1+json": {
       "config": {
        "plotlyServerURL": "https://plot.ly"
       },
       "data": [
        {
         "marker": {
          "color": "darkred"
         },
         "name": "Demanda Média               ",
         "type": "scatter",
         "x": [
          "MAR/22",
          "ABR/22",
          "MAI/22",
          "JUN/22",
          "JUL/22",
          "AGO/22",
          "SET/22",
          "OUT/22",
          "NOV/22",
          "DEZ/22",
          "JAN/23",
          "FEV/23"
         ],
         "y": [
          97.91666666666667,
          97.91666666666667,
          97.91666666666667,
          97.91666666666667,
          97.91666666666667,
          97.91666666666667,
          97.91666666666667,
          97.91666666666667,
          97.91666666666667,
          97.91666666666667,
          97.91666666666667,
          97.91666666666667
         ]
        },
        {
         "marker": {
          "color": "blue"
         },
         "name": "Demandas Registradas",
         "type": "bar",
         "x": [
          "MAR/22",
          "ABR/22",
          "MAI/22",
          "JUN/22",
          "JUL/22",
          "AGO/22",
          "SET/22",
          "OUT/22",
          "NOV/22",
          "DEZ/22",
          "JAN/23",
          "FEV/23"
         ],
         "y": [
          100,
          91,
          93,
          105,
          98,
          100,
          95,
          90,
          105,
          99,
          101,
          98,
          100,
          91,
          93,
          105,
          98,
          100,
          95,
          90,
          105,
          99,
          101,
          98
         ]
        }
       ],
       "layout": {
        "annotations": [
         {
          "arrowhead": 5,
          "font": {
           "size": 20
          },
          "showarrow": true,
          "text": "Fator de Carga = 0.9325",
          "x": 4,
          "y": 97.91666666666667
         }
        ],
        "font": {
         "size": 15
        },
        "legend": {
         "bgcolor": "rgba(255, 255, 255,0.95)",
         "x": 0.01,
         "y": 0.01
        },
        "template": {
         "data": {
          "bar": [
           {
            "error_x": {
             "color": "#2a3f5f"
            },
            "error_y": {
             "color": "#2a3f5f"
            },
            "marker": {
             "line": {
              "color": "#E5ECF6",
              "width": 0.5
             },
             "pattern": {
              "fillmode": "overlay",
              "size": 10,
              "solidity": 0.2
             }
            },
            "type": "bar"
           }
          ],
          "barpolar": [
           {
            "marker": {
             "line": {
              "color": "#E5ECF6",
              "width": 0.5
             },
             "pattern": {
              "fillmode": "overlay",
              "size": 10,
              "solidity": 0.2
             }
            },
            "type": "barpolar"
           }
          ],
          "carpet": [
           {
            "aaxis": {
             "endlinecolor": "#2a3f5f",
             "gridcolor": "white",
             "linecolor": "white",
             "minorgridcolor": "white",
             "startlinecolor": "#2a3f5f"
            },
            "baxis": {
             "endlinecolor": "#2a3f5f",
             "gridcolor": "white",
             "linecolor": "white",
             "minorgridcolor": "white",
             "startlinecolor": "#2a3f5f"
            },
            "type": "carpet"
           }
          ],
          "choropleth": [
           {
            "colorbar": {
             "outlinewidth": 0,
             "ticks": ""
            },
            "type": "choropleth"
           }
          ],
          "contour": [
           {
            "colorbar": {
             "outlinewidth": 0,
             "ticks": ""
            },
            "colorscale": [
             [
              0,
              "#0d0887"
             ],
             [
              0.1111111111111111,
              "#46039f"
             ],
             [
              0.2222222222222222,
              "#7201a8"
             ],
             [
              0.3333333333333333,
              "#9c179e"
             ],
             [
              0.4444444444444444,
              "#bd3786"
             ],
             [
              0.5555555555555556,
              "#d8576b"
             ],
             [
              0.6666666666666666,
              "#ed7953"
             ],
             [
              0.7777777777777778,
              "#fb9f3a"
             ],
             [
              0.8888888888888888,
              "#fdca26"
             ],
             [
              1,
              "#f0f921"
             ]
            ],
            "type": "contour"
           }
          ],
          "contourcarpet": [
           {
            "colorbar": {
             "outlinewidth": 0,
             "ticks": ""
            },
            "type": "contourcarpet"
           }
          ],
          "heatmap": [
           {
            "colorbar": {
             "outlinewidth": 0,
             "ticks": ""
            },
            "colorscale": [
             [
              0,
              "#0d0887"
             ],
             [
              0.1111111111111111,
              "#46039f"
             ],
             [
              0.2222222222222222,
              "#7201a8"
             ],
             [
              0.3333333333333333,
              "#9c179e"
             ],
             [
              0.4444444444444444,
              "#bd3786"
             ],
             [
              0.5555555555555556,
              "#d8576b"
             ],
             [
              0.6666666666666666,
              "#ed7953"
             ],
             [
              0.7777777777777778,
              "#fb9f3a"
             ],
             [
              0.8888888888888888,
              "#fdca26"
             ],
             [
              1,
              "#f0f921"
             ]
            ],
            "type": "heatmap"
           }
          ],
          "heatmapgl": [
           {
            "colorbar": {
             "outlinewidth": 0,
             "ticks": ""
            },
            "colorscale": [
             [
              0,
              "#0d0887"
             ],
             [
              0.1111111111111111,
              "#46039f"
             ],
             [
              0.2222222222222222,
              "#7201a8"
             ],
             [
              0.3333333333333333,
              "#9c179e"
             ],
             [
              0.4444444444444444,
              "#bd3786"
             ],
             [
              0.5555555555555556,
              "#d8576b"
             ],
             [
              0.6666666666666666,
              "#ed7953"
             ],
             [
              0.7777777777777778,
              "#fb9f3a"
             ],
             [
              0.8888888888888888,
              "#fdca26"
             ],
             [
              1,
              "#f0f921"
             ]
            ],
            "type": "heatmapgl"
           }
          ],
          "histogram": [
           {
            "marker": {
             "pattern": {
              "fillmode": "overlay",
              "size": 10,
              "solidity": 0.2
             }
            },
            "type": "histogram"
           }
          ],
          "histogram2d": [
           {
            "colorbar": {
             "outlinewidth": 0,
             "ticks": ""
            },
            "colorscale": [
             [
              0,
              "#0d0887"
             ],
             [
              0.1111111111111111,
              "#46039f"
             ],
             [
              0.2222222222222222,
              "#7201a8"
             ],
             [
              0.3333333333333333,
              "#9c179e"
             ],
             [
              0.4444444444444444,
              "#bd3786"
             ],
             [
              0.5555555555555556,
              "#d8576b"
             ],
             [
              0.6666666666666666,
              "#ed7953"
             ],
             [
              0.7777777777777778,
              "#fb9f3a"
             ],
             [
              0.8888888888888888,
              "#fdca26"
             ],
             [
              1,
              "#f0f921"
             ]
            ],
            "type": "histogram2d"
           }
          ],
          "histogram2dcontour": [
           {
            "colorbar": {
             "outlinewidth": 0,
             "ticks": ""
            },
            "colorscale": [
             [
              0,
              "#0d0887"
             ],
             [
              0.1111111111111111,
              "#46039f"
             ],
             [
              0.2222222222222222,
              "#7201a8"
             ],
             [
              0.3333333333333333,
              "#9c179e"
             ],
             [
              0.4444444444444444,
              "#bd3786"
             ],
             [
              0.5555555555555556,
              "#d8576b"
             ],
             [
              0.6666666666666666,
              "#ed7953"
             ],
             [
              0.7777777777777778,
              "#fb9f3a"
             ],
             [
              0.8888888888888888,
              "#fdca26"
             ],
             [
              1,
              "#f0f921"
             ]
            ],
            "type": "histogram2dcontour"
           }
          ],
          "mesh3d": [
           {
            "colorbar": {
             "outlinewidth": 0,
             "ticks": ""
            },
            "type": "mesh3d"
           }
          ],
          "parcoords": [
           {
            "line": {
             "colorbar": {
              "outlinewidth": 0,
              "ticks": ""
             }
            },
            "type": "parcoords"
           }
          ],
          "pie": [
           {
            "automargin": true,
            "type": "pie"
           }
          ],
          "scatter": [
           {
            "fillpattern": {
             "fillmode": "overlay",
             "size": 10,
             "solidity": 0.2
            },
            "type": "scatter"
           }
          ],
          "scatter3d": [
           {
            "line": {
             "colorbar": {
              "outlinewidth": 0,
              "ticks": ""
             }
            },
            "marker": {
             "colorbar": {
              "outlinewidth": 0,
              "ticks": ""
             }
            },
            "type": "scatter3d"
           }
          ],
          "scattercarpet": [
           {
            "marker": {
             "colorbar": {
              "outlinewidth": 0,
              "ticks": ""
             }
            },
            "type": "scattercarpet"
           }
          ],
          "scattergeo": [
           {
            "marker": {
             "colorbar": {
              "outlinewidth": 0,
              "ticks": ""
             }
            },
            "type": "scattergeo"
           }
          ],
          "scattergl": [
           {
            "marker": {
             "colorbar": {
              "outlinewidth": 0,
              "ticks": ""
             }
            },
            "type": "scattergl"
           }
          ],
          "scattermapbox": [
           {
            "marker": {
             "colorbar": {
              "outlinewidth": 0,
              "ticks": ""
             }
            },
            "type": "scattermapbox"
           }
          ],
          "scatterpolar": [
           {
            "marker": {
             "colorbar": {
              "outlinewidth": 0,
              "ticks": ""
             }
            },
            "type": "scatterpolar"
           }
          ],
          "scatterpolargl": [
           {
            "marker": {
             "colorbar": {
              "outlinewidth": 0,
              "ticks": ""
             }
            },
            "type": "scatterpolargl"
           }
          ],
          "scatterternary": [
           {
            "marker": {
             "colorbar": {
              "outlinewidth": 0,
              "ticks": ""
             }
            },
            "type": "scatterternary"
           }
          ],
          "surface": [
           {
            "colorbar": {
             "outlinewidth": 0,
             "ticks": ""
            },
            "colorscale": [
             [
              0,
              "#0d0887"
             ],
             [
              0.1111111111111111,
              "#46039f"
             ],
             [
              0.2222222222222222,
              "#7201a8"
             ],
             [
              0.3333333333333333,
              "#9c179e"
             ],
             [
              0.4444444444444444,
              "#bd3786"
             ],
             [
              0.5555555555555556,
              "#d8576b"
             ],
             [
              0.6666666666666666,
              "#ed7953"
             ],
             [
              0.7777777777777778,
              "#fb9f3a"
             ],
             [
              0.8888888888888888,
              "#fdca26"
             ],
             [
              1,
              "#f0f921"
             ]
            ],
            "type": "surface"
           }
          ],
          "table": [
           {
            "cells": {
             "fill": {
              "color": "#EBF0F8"
             },
             "line": {
              "color": "white"
             }
            },
            "header": {
             "fill": {
              "color": "#C8D4E3"
             },
             "line": {
              "color": "white"
             }
            },
            "type": "table"
           }
          ]
         },
         "layout": {
          "annotationdefaults": {
           "arrowcolor": "#2a3f5f",
           "arrowhead": 0,
           "arrowwidth": 1
          },
          "autotypenumbers": "strict",
          "coloraxis": {
           "colorbar": {
            "outlinewidth": 0,
            "ticks": ""
           }
          },
          "colorscale": {
           "diverging": [
            [
             0,
             "#8e0152"
            ],
            [
             0.1,
             "#c51b7d"
            ],
            [
             0.2,
             "#de77ae"
            ],
            [
             0.3,
             "#f1b6da"
            ],
            [
             0.4,
             "#fde0ef"
            ],
            [
             0.5,
             "#f7f7f7"
            ],
            [
             0.6,
             "#e6f5d0"
            ],
            [
             0.7,
             "#b8e186"
            ],
            [
             0.8,
             "#7fbc41"
            ],
            [
             0.9,
             "#4d9221"
            ],
            [
             1,
             "#276419"
            ]
           ],
           "sequential": [
            [
             0,
             "#0d0887"
            ],
            [
             0.1111111111111111,
             "#46039f"
            ],
            [
             0.2222222222222222,
             "#7201a8"
            ],
            [
             0.3333333333333333,
             "#9c179e"
            ],
            [
             0.4444444444444444,
             "#bd3786"
            ],
            [
             0.5555555555555556,
             "#d8576b"
            ],
            [
             0.6666666666666666,
             "#ed7953"
            ],
            [
             0.7777777777777778,
             "#fb9f3a"
            ],
            [
             0.8888888888888888,
             "#fdca26"
            ],
            [
             1,
             "#f0f921"
            ]
           ],
           "sequentialminus": [
            [
             0,
             "#0d0887"
            ],
            [
             0.1111111111111111,
             "#46039f"
            ],
            [
             0.2222222222222222,
             "#7201a8"
            ],
            [
             0.3333333333333333,
             "#9c179e"
            ],
            [
             0.4444444444444444,
             "#bd3786"
            ],
            [
             0.5555555555555556,
             "#d8576b"
            ],
            [
             0.6666666666666666,
             "#ed7953"
            ],
            [
             0.7777777777777778,
             "#fb9f3a"
            ],
            [
             0.8888888888888888,
             "#fdca26"
            ],
            [
             1,
             "#f0f921"
            ]
           ]
          },
          "colorway": [
           "#636efa",
           "#EF553B",
           "#00cc96",
           "#ab63fa",
           "#FFA15A",
           "#19d3f3",
           "#FF6692",
           "#B6E880",
           "#FF97FF",
           "#FECB52"
          ],
          "font": {
           "color": "#2a3f5f"
          },
          "geo": {
           "bgcolor": "white",
           "lakecolor": "white",
           "landcolor": "#E5ECF6",
           "showlakes": true,
           "showland": true,
           "subunitcolor": "white"
          },
          "hoverlabel": {
           "align": "left"
          },
          "hovermode": "closest",
          "mapbox": {
           "style": "light"
          },
          "paper_bgcolor": "white",
          "plot_bgcolor": "#E5ECF6",
          "polar": {
           "angularaxis": {
            "gridcolor": "white",
            "linecolor": "white",
            "ticks": ""
           },
           "bgcolor": "#E5ECF6",
           "radialaxis": {
            "gridcolor": "white",
            "linecolor": "white",
            "ticks": ""
           }
          },
          "scene": {
           "xaxis": {
            "backgroundcolor": "#E5ECF6",
            "gridcolor": "white",
            "gridwidth": 2,
            "linecolor": "white",
            "showbackground": true,
            "ticks": "",
            "zerolinecolor": "white"
           },
           "yaxis": {
            "backgroundcolor": "#E5ECF6",
            "gridcolor": "white",
            "gridwidth": 2,
            "linecolor": "white",
            "showbackground": true,
            "ticks": "",
            "zerolinecolor": "white"
           },
           "zaxis": {
            "backgroundcolor": "#E5ECF6",
            "gridcolor": "white",
            "gridwidth": 2,
            "linecolor": "white",
            "showbackground": true,
            "ticks": "",
            "zerolinecolor": "white"
           }
          },
          "shapedefaults": {
           "line": {
            "color": "#2a3f5f"
           }
          },
          "ternary": {
           "aaxis": {
            "gridcolor": "white",
            "linecolor": "white",
            "ticks": ""
           },
           "baxis": {
            "gridcolor": "white",
            "linecolor": "white",
            "ticks": ""
           },
           "bgcolor": "#E5ECF6",
           "caxis": {
            "gridcolor": "white",
            "linecolor": "white",
            "ticks": ""
           }
          },
          "title": {
           "x": 0.05
          },
          "xaxis": {
           "automargin": true,
           "gridcolor": "white",
           "linecolor": "white",
           "ticks": "",
           "title": {
            "standoff": 15
           },
           "zerolinecolor": "white",
           "zerolinewidth": 2
          },
          "yaxis": {
           "automargin": true,
           "gridcolor": "white",
           "linecolor": "white",
           "ticks": "",
           "title": {
            "standoff": 15
           },
           "zerolinecolor": "white",
           "zerolinewidth": 2
          }
         }
        },
        "title": {
         "text": "Demanda Média e Fator de Carga - Ex 1"
        },
        "xaxis": {
         "title": {
          "text": "Tempo (Meses)"
         }
        },
        "yaxis": {
         "range": [
          0,
          120
         ],
         "title": {
          "text": "Demanda (kW)"
         }
        }
       }
      }
     },
     "metadata": {},
     "output_type": "display_data"
    }
   ],
   "source": [
    "#Exemplo de Fator de Carga alto\n",
    "import plotly.graph_objs as go\n",
    "\n",
    "x       = []\n",
    "y1      = [100,91,93,105,98,100,95,90,105,99,101,98]\n",
    "y3 = []\n",
    "y2 = 0\n",
    "for i in range(len(y1)):\n",
    "    y1.append(float(y1[i]))\n",
    "    x.append(input[0]['mes'][i])\n",
    "    y2 = y2 + float(y1[i])\n",
    "for i in range(len(input[0]['demanda HFP'])):\n",
    "    y3.append(y2/12)\n",
    "\n",
    "FC = y3[0]/max(y1)\n",
    "    \n",
    "plot = go.Figure()\n",
    "plot.add_trace(go.Scatter(x=x, y=y3, name='Demanda Média               ', marker=dict(color='darkred')))\n",
    "plot.add_trace(go.Bar(x=x, y=y1, name='Demandas Registradas', marker=dict(color='blue')))\n",
    "plot.add_annotation(x=4, y=y2/12, text=str(f'Fator de Carga = {round(FC,4)}'), font=dict(size=20),\n",
    "                   showarrow=True, arrowhead=5)\n",
    "plot.update_layout(yaxis_range=[0,120], \n",
    "                   title='Demanda Média e Fator de Carga - Ex 1',\n",
    "                   yaxis_title='Demanda (kW)',\n",
    "                   xaxis_title='Tempo (Meses)')\n",
    "plot.update_layout(font=dict(size=15)) \n",
    "plot.update_layout(legend=dict(x=0.01, y=0.01, bgcolor='rgba(255, 255, 255,0.95)'))\n",
    "plot.write_image(\"Demanda Média Ex 1.jpg\", format=\"jpg\", scale=10, width=854, height=480)\n",
    "\n",
    "plot.show()"
   ]
  },
  {
   "cell_type": "code",
   "execution_count": 37,
   "id": "ac4bcd80",
   "metadata": {},
   "outputs": [
    {
     "data": {
      "application/vnd.plotly.v1+json": {
       "config": {
        "plotlyServerURL": "https://plot.ly"
       },
       "data": [
        {
         "marker": {
          "color": "darkred"
         },
         "name": "Demanda Média               ",
         "type": "scatter",
         "x": [
          "MAR/22",
          "ABR/22",
          "MAI/22",
          "JUN/22",
          "JUL/22",
          "AGO/22",
          "SET/22",
          "OUT/22",
          "NOV/22",
          "DEZ/22",
          "JAN/23",
          "FEV/23"
         ],
         "y": [
          66.16666666666667,
          66.16666666666667,
          66.16666666666667,
          66.16666666666667,
          66.16666666666667,
          66.16666666666667,
          66.16666666666667,
          66.16666666666667,
          66.16666666666667,
          66.16666666666667,
          66.16666666666667,
          66.16666666666667
         ]
        },
        {
         "marker": {
          "color": "blue"
         },
         "name": "Demandas Registradas",
         "type": "bar",
         "x": [
          "MAR/22",
          "ABR/22",
          "MAI/22",
          "JUN/22",
          "JUL/22",
          "AGO/22",
          "SET/22",
          "OUT/22",
          "NOV/22",
          "DEZ/22",
          "JAN/23",
          "FEV/23"
         ],
         "y": [
          52,
          45,
          47,
          42,
          45,
          50,
          79,
          102,
          100,
          99,
          72,
          61,
          52,
          45,
          47,
          42,
          45,
          50,
          79,
          102,
          100,
          99,
          72,
          61
         ]
        }
       ],
       "layout": {
        "annotations": [
         {
          "arrowhead": 5,
          "font": {
           "size": 20
          },
          "showarrow": true,
          "text": "Fator de Carga = 0.6487",
          "x": 3,
          "y": 66.16666666666667
         }
        ],
        "font": {
         "size": 15
        },
        "legend": {
         "bgcolor": "rgba(255, 255, 255,0.95)",
         "x": 0.01,
         "y": 0.01
        },
        "template": {
         "data": {
          "bar": [
           {
            "error_x": {
             "color": "#2a3f5f"
            },
            "error_y": {
             "color": "#2a3f5f"
            },
            "marker": {
             "line": {
              "color": "#E5ECF6",
              "width": 0.5
             },
             "pattern": {
              "fillmode": "overlay",
              "size": 10,
              "solidity": 0.2
             }
            },
            "type": "bar"
           }
          ],
          "barpolar": [
           {
            "marker": {
             "line": {
              "color": "#E5ECF6",
              "width": 0.5
             },
             "pattern": {
              "fillmode": "overlay",
              "size": 10,
              "solidity": 0.2
             }
            },
            "type": "barpolar"
           }
          ],
          "carpet": [
           {
            "aaxis": {
             "endlinecolor": "#2a3f5f",
             "gridcolor": "white",
             "linecolor": "white",
             "minorgridcolor": "white",
             "startlinecolor": "#2a3f5f"
            },
            "baxis": {
             "endlinecolor": "#2a3f5f",
             "gridcolor": "white",
             "linecolor": "white",
             "minorgridcolor": "white",
             "startlinecolor": "#2a3f5f"
            },
            "type": "carpet"
           }
          ],
          "choropleth": [
           {
            "colorbar": {
             "outlinewidth": 0,
             "ticks": ""
            },
            "type": "choropleth"
           }
          ],
          "contour": [
           {
            "colorbar": {
             "outlinewidth": 0,
             "ticks": ""
            },
            "colorscale": [
             [
              0,
              "#0d0887"
             ],
             [
              0.1111111111111111,
              "#46039f"
             ],
             [
              0.2222222222222222,
              "#7201a8"
             ],
             [
              0.3333333333333333,
              "#9c179e"
             ],
             [
              0.4444444444444444,
              "#bd3786"
             ],
             [
              0.5555555555555556,
              "#d8576b"
             ],
             [
              0.6666666666666666,
              "#ed7953"
             ],
             [
              0.7777777777777778,
              "#fb9f3a"
             ],
             [
              0.8888888888888888,
              "#fdca26"
             ],
             [
              1,
              "#f0f921"
             ]
            ],
            "type": "contour"
           }
          ],
          "contourcarpet": [
           {
            "colorbar": {
             "outlinewidth": 0,
             "ticks": ""
            },
            "type": "contourcarpet"
           }
          ],
          "heatmap": [
           {
            "colorbar": {
             "outlinewidth": 0,
             "ticks": ""
            },
            "colorscale": [
             [
              0,
              "#0d0887"
             ],
             [
              0.1111111111111111,
              "#46039f"
             ],
             [
              0.2222222222222222,
              "#7201a8"
             ],
             [
              0.3333333333333333,
              "#9c179e"
             ],
             [
              0.4444444444444444,
              "#bd3786"
             ],
             [
              0.5555555555555556,
              "#d8576b"
             ],
             [
              0.6666666666666666,
              "#ed7953"
             ],
             [
              0.7777777777777778,
              "#fb9f3a"
             ],
             [
              0.8888888888888888,
              "#fdca26"
             ],
             [
              1,
              "#f0f921"
             ]
            ],
            "type": "heatmap"
           }
          ],
          "heatmapgl": [
           {
            "colorbar": {
             "outlinewidth": 0,
             "ticks": ""
            },
            "colorscale": [
             [
              0,
              "#0d0887"
             ],
             [
              0.1111111111111111,
              "#46039f"
             ],
             [
              0.2222222222222222,
              "#7201a8"
             ],
             [
              0.3333333333333333,
              "#9c179e"
             ],
             [
              0.4444444444444444,
              "#bd3786"
             ],
             [
              0.5555555555555556,
              "#d8576b"
             ],
             [
              0.6666666666666666,
              "#ed7953"
             ],
             [
              0.7777777777777778,
              "#fb9f3a"
             ],
             [
              0.8888888888888888,
              "#fdca26"
             ],
             [
              1,
              "#f0f921"
             ]
            ],
            "type": "heatmapgl"
           }
          ],
          "histogram": [
           {
            "marker": {
             "pattern": {
              "fillmode": "overlay",
              "size": 10,
              "solidity": 0.2
             }
            },
            "type": "histogram"
           }
          ],
          "histogram2d": [
           {
            "colorbar": {
             "outlinewidth": 0,
             "ticks": ""
            },
            "colorscale": [
             [
              0,
              "#0d0887"
             ],
             [
              0.1111111111111111,
              "#46039f"
             ],
             [
              0.2222222222222222,
              "#7201a8"
             ],
             [
              0.3333333333333333,
              "#9c179e"
             ],
             [
              0.4444444444444444,
              "#bd3786"
             ],
             [
              0.5555555555555556,
              "#d8576b"
             ],
             [
              0.6666666666666666,
              "#ed7953"
             ],
             [
              0.7777777777777778,
              "#fb9f3a"
             ],
             [
              0.8888888888888888,
              "#fdca26"
             ],
             [
              1,
              "#f0f921"
             ]
            ],
            "type": "histogram2d"
           }
          ],
          "histogram2dcontour": [
           {
            "colorbar": {
             "outlinewidth": 0,
             "ticks": ""
            },
            "colorscale": [
             [
              0,
              "#0d0887"
             ],
             [
              0.1111111111111111,
              "#46039f"
             ],
             [
              0.2222222222222222,
              "#7201a8"
             ],
             [
              0.3333333333333333,
              "#9c179e"
             ],
             [
              0.4444444444444444,
              "#bd3786"
             ],
             [
              0.5555555555555556,
              "#d8576b"
             ],
             [
              0.6666666666666666,
              "#ed7953"
             ],
             [
              0.7777777777777778,
              "#fb9f3a"
             ],
             [
              0.8888888888888888,
              "#fdca26"
             ],
             [
              1,
              "#f0f921"
             ]
            ],
            "type": "histogram2dcontour"
           }
          ],
          "mesh3d": [
           {
            "colorbar": {
             "outlinewidth": 0,
             "ticks": ""
            },
            "type": "mesh3d"
           }
          ],
          "parcoords": [
           {
            "line": {
             "colorbar": {
              "outlinewidth": 0,
              "ticks": ""
             }
            },
            "type": "parcoords"
           }
          ],
          "pie": [
           {
            "automargin": true,
            "type": "pie"
           }
          ],
          "scatter": [
           {
            "fillpattern": {
             "fillmode": "overlay",
             "size": 10,
             "solidity": 0.2
            },
            "type": "scatter"
           }
          ],
          "scatter3d": [
           {
            "line": {
             "colorbar": {
              "outlinewidth": 0,
              "ticks": ""
             }
            },
            "marker": {
             "colorbar": {
              "outlinewidth": 0,
              "ticks": ""
             }
            },
            "type": "scatter3d"
           }
          ],
          "scattercarpet": [
           {
            "marker": {
             "colorbar": {
              "outlinewidth": 0,
              "ticks": ""
             }
            },
            "type": "scattercarpet"
           }
          ],
          "scattergeo": [
           {
            "marker": {
             "colorbar": {
              "outlinewidth": 0,
              "ticks": ""
             }
            },
            "type": "scattergeo"
           }
          ],
          "scattergl": [
           {
            "marker": {
             "colorbar": {
              "outlinewidth": 0,
              "ticks": ""
             }
            },
            "type": "scattergl"
           }
          ],
          "scattermapbox": [
           {
            "marker": {
             "colorbar": {
              "outlinewidth": 0,
              "ticks": ""
             }
            },
            "type": "scattermapbox"
           }
          ],
          "scatterpolar": [
           {
            "marker": {
             "colorbar": {
              "outlinewidth": 0,
              "ticks": ""
             }
            },
            "type": "scatterpolar"
           }
          ],
          "scatterpolargl": [
           {
            "marker": {
             "colorbar": {
              "outlinewidth": 0,
              "ticks": ""
             }
            },
            "type": "scatterpolargl"
           }
          ],
          "scatterternary": [
           {
            "marker": {
             "colorbar": {
              "outlinewidth": 0,
              "ticks": ""
             }
            },
            "type": "scatterternary"
           }
          ],
          "surface": [
           {
            "colorbar": {
             "outlinewidth": 0,
             "ticks": ""
            },
            "colorscale": [
             [
              0,
              "#0d0887"
             ],
             [
              0.1111111111111111,
              "#46039f"
             ],
             [
              0.2222222222222222,
              "#7201a8"
             ],
             [
              0.3333333333333333,
              "#9c179e"
             ],
             [
              0.4444444444444444,
              "#bd3786"
             ],
             [
              0.5555555555555556,
              "#d8576b"
             ],
             [
              0.6666666666666666,
              "#ed7953"
             ],
             [
              0.7777777777777778,
              "#fb9f3a"
             ],
             [
              0.8888888888888888,
              "#fdca26"
             ],
             [
              1,
              "#f0f921"
             ]
            ],
            "type": "surface"
           }
          ],
          "table": [
           {
            "cells": {
             "fill": {
              "color": "#EBF0F8"
             },
             "line": {
              "color": "white"
             }
            },
            "header": {
             "fill": {
              "color": "#C8D4E3"
             },
             "line": {
              "color": "white"
             }
            },
            "type": "table"
           }
          ]
         },
         "layout": {
          "annotationdefaults": {
           "arrowcolor": "#2a3f5f",
           "arrowhead": 0,
           "arrowwidth": 1
          },
          "autotypenumbers": "strict",
          "coloraxis": {
           "colorbar": {
            "outlinewidth": 0,
            "ticks": ""
           }
          },
          "colorscale": {
           "diverging": [
            [
             0,
             "#8e0152"
            ],
            [
             0.1,
             "#c51b7d"
            ],
            [
             0.2,
             "#de77ae"
            ],
            [
             0.3,
             "#f1b6da"
            ],
            [
             0.4,
             "#fde0ef"
            ],
            [
             0.5,
             "#f7f7f7"
            ],
            [
             0.6,
             "#e6f5d0"
            ],
            [
             0.7,
             "#b8e186"
            ],
            [
             0.8,
             "#7fbc41"
            ],
            [
             0.9,
             "#4d9221"
            ],
            [
             1,
             "#276419"
            ]
           ],
           "sequential": [
            [
             0,
             "#0d0887"
            ],
            [
             0.1111111111111111,
             "#46039f"
            ],
            [
             0.2222222222222222,
             "#7201a8"
            ],
            [
             0.3333333333333333,
             "#9c179e"
            ],
            [
             0.4444444444444444,
             "#bd3786"
            ],
            [
             0.5555555555555556,
             "#d8576b"
            ],
            [
             0.6666666666666666,
             "#ed7953"
            ],
            [
             0.7777777777777778,
             "#fb9f3a"
            ],
            [
             0.8888888888888888,
             "#fdca26"
            ],
            [
             1,
             "#f0f921"
            ]
           ],
           "sequentialminus": [
            [
             0,
             "#0d0887"
            ],
            [
             0.1111111111111111,
             "#46039f"
            ],
            [
             0.2222222222222222,
             "#7201a8"
            ],
            [
             0.3333333333333333,
             "#9c179e"
            ],
            [
             0.4444444444444444,
             "#bd3786"
            ],
            [
             0.5555555555555556,
             "#d8576b"
            ],
            [
             0.6666666666666666,
             "#ed7953"
            ],
            [
             0.7777777777777778,
             "#fb9f3a"
            ],
            [
             0.8888888888888888,
             "#fdca26"
            ],
            [
             1,
             "#f0f921"
            ]
           ]
          },
          "colorway": [
           "#636efa",
           "#EF553B",
           "#00cc96",
           "#ab63fa",
           "#FFA15A",
           "#19d3f3",
           "#FF6692",
           "#B6E880",
           "#FF97FF",
           "#FECB52"
          ],
          "font": {
           "color": "#2a3f5f"
          },
          "geo": {
           "bgcolor": "white",
           "lakecolor": "white",
           "landcolor": "#E5ECF6",
           "showlakes": true,
           "showland": true,
           "subunitcolor": "white"
          },
          "hoverlabel": {
           "align": "left"
          },
          "hovermode": "closest",
          "mapbox": {
           "style": "light"
          },
          "paper_bgcolor": "white",
          "plot_bgcolor": "#E5ECF6",
          "polar": {
           "angularaxis": {
            "gridcolor": "white",
            "linecolor": "white",
            "ticks": ""
           },
           "bgcolor": "#E5ECF6",
           "radialaxis": {
            "gridcolor": "white",
            "linecolor": "white",
            "ticks": ""
           }
          },
          "scene": {
           "xaxis": {
            "backgroundcolor": "#E5ECF6",
            "gridcolor": "white",
            "gridwidth": 2,
            "linecolor": "white",
            "showbackground": true,
            "ticks": "",
            "zerolinecolor": "white"
           },
           "yaxis": {
            "backgroundcolor": "#E5ECF6",
            "gridcolor": "white",
            "gridwidth": 2,
            "linecolor": "white",
            "showbackground": true,
            "ticks": "",
            "zerolinecolor": "white"
           },
           "zaxis": {
            "backgroundcolor": "#E5ECF6",
            "gridcolor": "white",
            "gridwidth": 2,
            "linecolor": "white",
            "showbackground": true,
            "ticks": "",
            "zerolinecolor": "white"
           }
          },
          "shapedefaults": {
           "line": {
            "color": "#2a3f5f"
           }
          },
          "ternary": {
           "aaxis": {
            "gridcolor": "white",
            "linecolor": "white",
            "ticks": ""
           },
           "baxis": {
            "gridcolor": "white",
            "linecolor": "white",
            "ticks": ""
           },
           "bgcolor": "#E5ECF6",
           "caxis": {
            "gridcolor": "white",
            "linecolor": "white",
            "ticks": ""
           }
          },
          "title": {
           "x": 0.05
          },
          "xaxis": {
           "automargin": true,
           "gridcolor": "white",
           "linecolor": "white",
           "ticks": "",
           "title": {
            "standoff": 15
           },
           "zerolinecolor": "white",
           "zerolinewidth": 2
          },
          "yaxis": {
           "automargin": true,
           "gridcolor": "white",
           "linecolor": "white",
           "ticks": "",
           "title": {
            "standoff": 15
           },
           "zerolinecolor": "white",
           "zerolinewidth": 2
          }
         }
        },
        "title": {
         "text": "Demanda Média e Fator de Carga - Ex 2"
        },
        "xaxis": {
         "title": {
          "text": "Tempo (Meses)"
         }
        },
        "yaxis": {
         "range": [
          0,
          120
         ],
         "title": {
          "text": "Demanda (kW)"
         }
        }
       }
      }
     },
     "metadata": {},
     "output_type": "display_data"
    }
   ],
   "source": [
    "#Exemplo de Fator de Carga Baixo\n",
    "import plotly.graph_objs as go\n",
    "x       = []\n",
    "y1      = [52,45,47,42,45,50,79,102,100,99,72,61]\n",
    "y3 = []\n",
    "y2 = 0\n",
    "for i in range(len(y1)):\n",
    "    y1.append(float(y1[i]))\n",
    "    x.append(input[0]['mes'][i])\n",
    "    y2 = y2 + float(y1[i])\n",
    "for i in range(len(input[0]['demanda HFP'])):\n",
    "    y3.append(y2/12)\n",
    "\n",
    "FC = y3[0]/max(y1)\n",
    "    \n",
    "plot = go.Figure()\n",
    "plot.add_trace(go.Scatter(x=x, y=y3, name='Demanda Média               ', marker=dict(color='darkred')))\n",
    "plot.add_trace(go.Bar(x=x, y=y1, name='Demandas Registradas', marker=dict(color='blue')))\n",
    "plot.add_annotation(x=3, y=y2/12, text=str(f'Fator de Carga = {round(FC,4)}'), font=dict(size=20),\n",
    "                   showarrow=True, arrowhead=5)\n",
    "plot.update_layout(yaxis_range=[0,120], \n",
    "                   title='Demanda Média e Fator de Carga - Ex 2',\n",
    "                   yaxis_title='Demanda (kW)',\n",
    "                   xaxis_title='Tempo (Meses)')\n",
    "plot.update_layout(font=dict(size=15)) \n",
    "plot.update_layout(legend=dict(x=0.01, y=0.01, bgcolor='rgba(255, 255, 255,0.95)'))\n",
    "plot.write_image(\"Demanda Média Ex 2.jpg\", format=\"jpg\", scale=10, width=854, height=480)\n",
    "\n",
    "plot.show()"
   ]
  },
  {
   "cell_type": "code",
   "execution_count": 38,
   "id": "88f63ce5",
   "metadata": {
    "scrolled": true
   },
   "outputs": [
    {
     "data": {
      "application/vnd.plotly.v1+json": {
       "config": {
        "plotlyServerURL": "https://plot.ly"
       },
       "data": [
        {
         "marker": {
          "color": "green"
         },
         "mode": "lines",
         "name": "Custo Variavél",
         "type": "scatter",
         "x": [
          67,
          68,
          69,
          70,
          71,
          72,
          73,
          74,
          75,
          76,
          77,
          78,
          79,
          80,
          81,
          82,
          83,
          84,
          85,
          86,
          87,
          88,
          89,
          90,
          91,
          92,
          93,
          94,
          95,
          96,
          97,
          98,
          99,
          100,
          101,
          102,
          103,
          104,
          105,
          106,
          107,
          108,
          109,
          110,
          111,
          112,
          113,
          114,
          115
         ],
         "y": [
          33448.190979,
          32943.312624599996,
          32438.4342702,
          31933.5559158,
          31428.6775614,
          30923.799207,
          30418.9208526,
          29787.8229096,
          29325.0177514,
          28609.773416,
          28231.114650199997,
          27868.9958844,
          27380.65753,
          27093.6919604,
          26806.7263908,
          26519.760821199998,
          26249.3352516,
          25978.909682,
          25203.605757999998,
          25059.399777,
          24746.9010112,
          24644.7682264,
          24542.6354416,
          24153.5370872,
          24185.1706948,
          24233.344302399997,
          24113.2251252,
          24203.471929,
          24326.798732799998,
          24450.1255366,
          24573.4523404,
          24713.3191442,
          24853.185948,
          24993.052751799998,
          24922.5535746,
          25104.4935746,
          25286.4335746,
          25468.3735746,
          25650.313574599997,
          25832.2535746,
          26030.7335746,
          26229.2135746,
          26427.693574599998,
          26626.173574599998,
          26824.653574599997,
          27023.133574599997,
          27221.6135746,
          27420.0935746,
          27618.5735746
         ]
        }
       ],
       "layout": {
        "annotations": [
         {
          "arrowhead": 5,
          "font": {
           "size": 16
          },
          "showarrow": true,
          "text": "Ponto ótimo = 93 kW",
          "x": 93,
          "y": 24113.23
         }
        ],
        "font": {
         "size": 12
        },
        "legend": {
         "bgcolor": "rgba(255, 255, 255,0.95)",
         "x": 0.01,
         "y": 0.01
        },
        "template": {
         "data": {
          "bar": [
           {
            "error_x": {
             "color": "#2a3f5f"
            },
            "error_y": {
             "color": "#2a3f5f"
            },
            "marker": {
             "line": {
              "color": "#E5ECF6",
              "width": 0.5
             },
             "pattern": {
              "fillmode": "overlay",
              "size": 10,
              "solidity": 0.2
             }
            },
            "type": "bar"
           }
          ],
          "barpolar": [
           {
            "marker": {
             "line": {
              "color": "#E5ECF6",
              "width": 0.5
             },
             "pattern": {
              "fillmode": "overlay",
              "size": 10,
              "solidity": 0.2
             }
            },
            "type": "barpolar"
           }
          ],
          "carpet": [
           {
            "aaxis": {
             "endlinecolor": "#2a3f5f",
             "gridcolor": "white",
             "linecolor": "white",
             "minorgridcolor": "white",
             "startlinecolor": "#2a3f5f"
            },
            "baxis": {
             "endlinecolor": "#2a3f5f",
             "gridcolor": "white",
             "linecolor": "white",
             "minorgridcolor": "white",
             "startlinecolor": "#2a3f5f"
            },
            "type": "carpet"
           }
          ],
          "choropleth": [
           {
            "colorbar": {
             "outlinewidth": 0,
             "ticks": ""
            },
            "type": "choropleth"
           }
          ],
          "contour": [
           {
            "colorbar": {
             "outlinewidth": 0,
             "ticks": ""
            },
            "colorscale": [
             [
              0,
              "#0d0887"
             ],
             [
              0.1111111111111111,
              "#46039f"
             ],
             [
              0.2222222222222222,
              "#7201a8"
             ],
             [
              0.3333333333333333,
              "#9c179e"
             ],
             [
              0.4444444444444444,
              "#bd3786"
             ],
             [
              0.5555555555555556,
              "#d8576b"
             ],
             [
              0.6666666666666666,
              "#ed7953"
             ],
             [
              0.7777777777777778,
              "#fb9f3a"
             ],
             [
              0.8888888888888888,
              "#fdca26"
             ],
             [
              1,
              "#f0f921"
             ]
            ],
            "type": "contour"
           }
          ],
          "contourcarpet": [
           {
            "colorbar": {
             "outlinewidth": 0,
             "ticks": ""
            },
            "type": "contourcarpet"
           }
          ],
          "heatmap": [
           {
            "colorbar": {
             "outlinewidth": 0,
             "ticks": ""
            },
            "colorscale": [
             [
              0,
              "#0d0887"
             ],
             [
              0.1111111111111111,
              "#46039f"
             ],
             [
              0.2222222222222222,
              "#7201a8"
             ],
             [
              0.3333333333333333,
              "#9c179e"
             ],
             [
              0.4444444444444444,
              "#bd3786"
             ],
             [
              0.5555555555555556,
              "#d8576b"
             ],
             [
              0.6666666666666666,
              "#ed7953"
             ],
             [
              0.7777777777777778,
              "#fb9f3a"
             ],
             [
              0.8888888888888888,
              "#fdca26"
             ],
             [
              1,
              "#f0f921"
             ]
            ],
            "type": "heatmap"
           }
          ],
          "heatmapgl": [
           {
            "colorbar": {
             "outlinewidth": 0,
             "ticks": ""
            },
            "colorscale": [
             [
              0,
              "#0d0887"
             ],
             [
              0.1111111111111111,
              "#46039f"
             ],
             [
              0.2222222222222222,
              "#7201a8"
             ],
             [
              0.3333333333333333,
              "#9c179e"
             ],
             [
              0.4444444444444444,
              "#bd3786"
             ],
             [
              0.5555555555555556,
              "#d8576b"
             ],
             [
              0.6666666666666666,
              "#ed7953"
             ],
             [
              0.7777777777777778,
              "#fb9f3a"
             ],
             [
              0.8888888888888888,
              "#fdca26"
             ],
             [
              1,
              "#f0f921"
             ]
            ],
            "type": "heatmapgl"
           }
          ],
          "histogram": [
           {
            "marker": {
             "pattern": {
              "fillmode": "overlay",
              "size": 10,
              "solidity": 0.2
             }
            },
            "type": "histogram"
           }
          ],
          "histogram2d": [
           {
            "colorbar": {
             "outlinewidth": 0,
             "ticks": ""
            },
            "colorscale": [
             [
              0,
              "#0d0887"
             ],
             [
              0.1111111111111111,
              "#46039f"
             ],
             [
              0.2222222222222222,
              "#7201a8"
             ],
             [
              0.3333333333333333,
              "#9c179e"
             ],
             [
              0.4444444444444444,
              "#bd3786"
             ],
             [
              0.5555555555555556,
              "#d8576b"
             ],
             [
              0.6666666666666666,
              "#ed7953"
             ],
             [
              0.7777777777777778,
              "#fb9f3a"
             ],
             [
              0.8888888888888888,
              "#fdca26"
             ],
             [
              1,
              "#f0f921"
             ]
            ],
            "type": "histogram2d"
           }
          ],
          "histogram2dcontour": [
           {
            "colorbar": {
             "outlinewidth": 0,
             "ticks": ""
            },
            "colorscale": [
             [
              0,
              "#0d0887"
             ],
             [
              0.1111111111111111,
              "#46039f"
             ],
             [
              0.2222222222222222,
              "#7201a8"
             ],
             [
              0.3333333333333333,
              "#9c179e"
             ],
             [
              0.4444444444444444,
              "#bd3786"
             ],
             [
              0.5555555555555556,
              "#d8576b"
             ],
             [
              0.6666666666666666,
              "#ed7953"
             ],
             [
              0.7777777777777778,
              "#fb9f3a"
             ],
             [
              0.8888888888888888,
              "#fdca26"
             ],
             [
              1,
              "#f0f921"
             ]
            ],
            "type": "histogram2dcontour"
           }
          ],
          "mesh3d": [
           {
            "colorbar": {
             "outlinewidth": 0,
             "ticks": ""
            },
            "type": "mesh3d"
           }
          ],
          "parcoords": [
           {
            "line": {
             "colorbar": {
              "outlinewidth": 0,
              "ticks": ""
             }
            },
            "type": "parcoords"
           }
          ],
          "pie": [
           {
            "automargin": true,
            "type": "pie"
           }
          ],
          "scatter": [
           {
            "fillpattern": {
             "fillmode": "overlay",
             "size": 10,
             "solidity": 0.2
            },
            "type": "scatter"
           }
          ],
          "scatter3d": [
           {
            "line": {
             "colorbar": {
              "outlinewidth": 0,
              "ticks": ""
             }
            },
            "marker": {
             "colorbar": {
              "outlinewidth": 0,
              "ticks": ""
             }
            },
            "type": "scatter3d"
           }
          ],
          "scattercarpet": [
           {
            "marker": {
             "colorbar": {
              "outlinewidth": 0,
              "ticks": ""
             }
            },
            "type": "scattercarpet"
           }
          ],
          "scattergeo": [
           {
            "marker": {
             "colorbar": {
              "outlinewidth": 0,
              "ticks": ""
             }
            },
            "type": "scattergeo"
           }
          ],
          "scattergl": [
           {
            "marker": {
             "colorbar": {
              "outlinewidth": 0,
              "ticks": ""
             }
            },
            "type": "scattergl"
           }
          ],
          "scattermapbox": [
           {
            "marker": {
             "colorbar": {
              "outlinewidth": 0,
              "ticks": ""
             }
            },
            "type": "scattermapbox"
           }
          ],
          "scatterpolar": [
           {
            "marker": {
             "colorbar": {
              "outlinewidth": 0,
              "ticks": ""
             }
            },
            "type": "scatterpolar"
           }
          ],
          "scatterpolargl": [
           {
            "marker": {
             "colorbar": {
              "outlinewidth": 0,
              "ticks": ""
             }
            },
            "type": "scatterpolargl"
           }
          ],
          "scatterternary": [
           {
            "marker": {
             "colorbar": {
              "outlinewidth": 0,
              "ticks": ""
             }
            },
            "type": "scatterternary"
           }
          ],
          "surface": [
           {
            "colorbar": {
             "outlinewidth": 0,
             "ticks": ""
            },
            "colorscale": [
             [
              0,
              "#0d0887"
             ],
             [
              0.1111111111111111,
              "#46039f"
             ],
             [
              0.2222222222222222,
              "#7201a8"
             ],
             [
              0.3333333333333333,
              "#9c179e"
             ],
             [
              0.4444444444444444,
              "#bd3786"
             ],
             [
              0.5555555555555556,
              "#d8576b"
             ],
             [
              0.6666666666666666,
              "#ed7953"
             ],
             [
              0.7777777777777778,
              "#fb9f3a"
             ],
             [
              0.8888888888888888,
              "#fdca26"
             ],
             [
              1,
              "#f0f921"
             ]
            ],
            "type": "surface"
           }
          ],
          "table": [
           {
            "cells": {
             "fill": {
              "color": "#EBF0F8"
             },
             "line": {
              "color": "white"
             }
            },
            "header": {
             "fill": {
              "color": "#C8D4E3"
             },
             "line": {
              "color": "white"
             }
            },
            "type": "table"
           }
          ]
         },
         "layout": {
          "annotationdefaults": {
           "arrowcolor": "#2a3f5f",
           "arrowhead": 0,
           "arrowwidth": 1
          },
          "autotypenumbers": "strict",
          "coloraxis": {
           "colorbar": {
            "outlinewidth": 0,
            "ticks": ""
           }
          },
          "colorscale": {
           "diverging": [
            [
             0,
             "#8e0152"
            ],
            [
             0.1,
             "#c51b7d"
            ],
            [
             0.2,
             "#de77ae"
            ],
            [
             0.3,
             "#f1b6da"
            ],
            [
             0.4,
             "#fde0ef"
            ],
            [
             0.5,
             "#f7f7f7"
            ],
            [
             0.6,
             "#e6f5d0"
            ],
            [
             0.7,
             "#b8e186"
            ],
            [
             0.8,
             "#7fbc41"
            ],
            [
             0.9,
             "#4d9221"
            ],
            [
             1,
             "#276419"
            ]
           ],
           "sequential": [
            [
             0,
             "#0d0887"
            ],
            [
             0.1111111111111111,
             "#46039f"
            ],
            [
             0.2222222222222222,
             "#7201a8"
            ],
            [
             0.3333333333333333,
             "#9c179e"
            ],
            [
             0.4444444444444444,
             "#bd3786"
            ],
            [
             0.5555555555555556,
             "#d8576b"
            ],
            [
             0.6666666666666666,
             "#ed7953"
            ],
            [
             0.7777777777777778,
             "#fb9f3a"
            ],
            [
             0.8888888888888888,
             "#fdca26"
            ],
            [
             1,
             "#f0f921"
            ]
           ],
           "sequentialminus": [
            [
             0,
             "#0d0887"
            ],
            [
             0.1111111111111111,
             "#46039f"
            ],
            [
             0.2222222222222222,
             "#7201a8"
            ],
            [
             0.3333333333333333,
             "#9c179e"
            ],
            [
             0.4444444444444444,
             "#bd3786"
            ],
            [
             0.5555555555555556,
             "#d8576b"
            ],
            [
             0.6666666666666666,
             "#ed7953"
            ],
            [
             0.7777777777777778,
             "#fb9f3a"
            ],
            [
             0.8888888888888888,
             "#fdca26"
            ],
            [
             1,
             "#f0f921"
            ]
           ]
          },
          "colorway": [
           "#636efa",
           "#EF553B",
           "#00cc96",
           "#ab63fa",
           "#FFA15A",
           "#19d3f3",
           "#FF6692",
           "#B6E880",
           "#FF97FF",
           "#FECB52"
          ],
          "font": {
           "color": "#2a3f5f"
          },
          "geo": {
           "bgcolor": "white",
           "lakecolor": "white",
           "landcolor": "#E5ECF6",
           "showlakes": true,
           "showland": true,
           "subunitcolor": "white"
          },
          "hoverlabel": {
           "align": "left"
          },
          "hovermode": "closest",
          "mapbox": {
           "style": "light"
          },
          "paper_bgcolor": "white",
          "plot_bgcolor": "#E5ECF6",
          "polar": {
           "angularaxis": {
            "gridcolor": "white",
            "linecolor": "white",
            "ticks": ""
           },
           "bgcolor": "#E5ECF6",
           "radialaxis": {
            "gridcolor": "white",
            "linecolor": "white",
            "ticks": ""
           }
          },
          "scene": {
           "xaxis": {
            "backgroundcolor": "#E5ECF6",
            "gridcolor": "white",
            "gridwidth": 2,
            "linecolor": "white",
            "showbackground": true,
            "ticks": "",
            "zerolinecolor": "white"
           },
           "yaxis": {
            "backgroundcolor": "#E5ECF6",
            "gridcolor": "white",
            "gridwidth": 2,
            "linecolor": "white",
            "showbackground": true,
            "ticks": "",
            "zerolinecolor": "white"
           },
           "zaxis": {
            "backgroundcolor": "#E5ECF6",
            "gridcolor": "white",
            "gridwidth": 2,
            "linecolor": "white",
            "showbackground": true,
            "ticks": "",
            "zerolinecolor": "white"
           }
          },
          "shapedefaults": {
           "line": {
            "color": "#2a3f5f"
           }
          },
          "ternary": {
           "aaxis": {
            "gridcolor": "white",
            "linecolor": "white",
            "ticks": ""
           },
           "baxis": {
            "gridcolor": "white",
            "linecolor": "white",
            "ticks": ""
           },
           "bgcolor": "#E5ECF6",
           "caxis": {
            "gridcolor": "white",
            "linecolor": "white",
            "ticks": ""
           }
          },
          "title": {
           "x": 0.05
          },
          "xaxis": {
           "automargin": true,
           "gridcolor": "white",
           "linecolor": "white",
           "ticks": "",
           "title": {
            "standoff": 15
           },
           "zerolinecolor": "white",
           "zerolinewidth": 2
          },
          "yaxis": {
           "automargin": true,
           "gridcolor": "white",
           "linecolor": "white",
           "ticks": "",
           "title": {
            "standoff": 15
           },
           "zerolinecolor": "white",
           "zerolinewidth": 2
          }
         }
        },
        "title": {
         "text": "Variação Custo x Demanda Contratada HFP"
        },
        "xaxis": {
         "title": {
          "text": "Demanda Contratada HFP (kW)"
         }
        },
        "yaxis": {
         "dtick": 2000,
         "tickmode": "linear",
         "title": {
          "text": "Custo (R$)"
         }
        }
       }
      }
     },
     "metadata": {},
     "output_type": "display_data"
    }
   ],
   "source": [
    "import plotly.graph_objs as go\n",
    "plot = go.Figure()\n",
    "plot.add_trace(go.Scatter(x=a['Demanda HFP'], y=a['Custo HFP'] ,mode='lines', name='Custo Variavél', marker=dict(color='green')))\n",
    "plot.add_annotation(x=93, y=24113.23, text=str(f'Ponto ótimo = 93 kW'), font=dict(size=16),\n",
    "                   showarrow=True, arrowhead=5)\n",
    "plot.update_layout(title='Variação Custo x Demanda Contratada HFP',\n",
    "                   yaxis_title='Custo (R$)',\n",
    "                   xaxis_title='Demanda Contratada HFP (kW)',\n",
    "                   yaxis=dict(tickmode='linear',dtick=2000))\n",
    "plot.update_layout(font=dict(size=12))\n",
    "plot.update_layout(legend=dict(x=0.01, y=0.01, bgcolor='rgba(255, 255, 255,0.95)'))\n",
    "plot.write_image(\"Custos HFP.png\", format=\"png\", scale=10, width=854, height=480)                    \n",
    "plot.show()"
   ]
  },
  {
   "cell_type": "code",
   "execution_count": 39,
   "id": "d512456c",
   "metadata": {},
   "outputs": [
    {
     "data": {
      "application/vnd.plotly.v1+json": {
       "config": {
        "plotlyServerURL": "https://plot.ly"
       },
       "data": [
        {
         "marker": {
          "color": "blue"
         },
         "mode": "lines",
         "name": "Custo Variavél",
         "type": "scatter",
         "x": [
          62,
          63,
          64,
          65,
          66,
          67,
          68,
          69,
          70,
          71,
          72,
          73,
          74,
          75,
          76,
          77,
          78,
          79,
          80,
          81,
          82,
          83,
          84,
          85,
          86,
          87,
          88,
          89,
          90,
          91,
          92,
          93,
          94,
          95,
          96,
          97,
          98,
          99,
          100,
          101,
          102,
          103,
          104,
          105
         ],
         "y": [
          90665.6519412,
          89141.85947160001,
          87618.067002,
          86094.2745324,
          84570.4820628,
          83046.6895932,
          81522.8971236,
          79237.2084192,
          77967.38136120001,
          76316.6061858,
          75173.7618336,
          74130.7574814,
          72325.8568944,
          71586.7379538,
          70085.7227784,
          69600.5692494,
          69215.2557204,
          68448.994074,
          67782.5724276,
          67751.0643102,
          67211.6253696,
          67357.019958,
          67502.4145464,
          67697.7291348,
          67893.0437232,
          68138.2783116,
          68383.5129,
          68628.7474884,
          68366.0512536,
          68738.2685478,
          68602.5550188,
          69101.7550188,
          69600.9550188,
          70150.0750188,
          70699.1950188,
          71298.2350188,
          71897.2750188,
          72496.3150188,
          73095.35501880001,
          73694.3950188,
          74293.4350188,
          74892.4750188,
          75491.5150188,
          76090.5550188
         ]
        }
       ],
       "layout": {
        "annotations": [
         {
          "arrowhead": 5,
          "ax": 30,
          "font": {
           "size": 16
          },
          "showarrow": true,
          "text": "Ponto ótimo = 82 kW",
          "x": 82,
          "y": 67211.63
         }
        ],
        "font": {
         "size": 12
        },
        "legend": {
         "bgcolor": "rgba(255, 255, 255,0.95)",
         "x": 0.8,
         "y": 0.99
        },
        "template": {
         "data": {
          "bar": [
           {
            "error_x": {
             "color": "#2a3f5f"
            },
            "error_y": {
             "color": "#2a3f5f"
            },
            "marker": {
             "line": {
              "color": "#E5ECF6",
              "width": 0.5
             },
             "pattern": {
              "fillmode": "overlay",
              "size": 10,
              "solidity": 0.2
             }
            },
            "type": "bar"
           }
          ],
          "barpolar": [
           {
            "marker": {
             "line": {
              "color": "#E5ECF6",
              "width": 0.5
             },
             "pattern": {
              "fillmode": "overlay",
              "size": 10,
              "solidity": 0.2
             }
            },
            "type": "barpolar"
           }
          ],
          "carpet": [
           {
            "aaxis": {
             "endlinecolor": "#2a3f5f",
             "gridcolor": "white",
             "linecolor": "white",
             "minorgridcolor": "white",
             "startlinecolor": "#2a3f5f"
            },
            "baxis": {
             "endlinecolor": "#2a3f5f",
             "gridcolor": "white",
             "linecolor": "white",
             "minorgridcolor": "white",
             "startlinecolor": "#2a3f5f"
            },
            "type": "carpet"
           }
          ],
          "choropleth": [
           {
            "colorbar": {
             "outlinewidth": 0,
             "ticks": ""
            },
            "type": "choropleth"
           }
          ],
          "contour": [
           {
            "colorbar": {
             "outlinewidth": 0,
             "ticks": ""
            },
            "colorscale": [
             [
              0,
              "#0d0887"
             ],
             [
              0.1111111111111111,
              "#46039f"
             ],
             [
              0.2222222222222222,
              "#7201a8"
             ],
             [
              0.3333333333333333,
              "#9c179e"
             ],
             [
              0.4444444444444444,
              "#bd3786"
             ],
             [
              0.5555555555555556,
              "#d8576b"
             ],
             [
              0.6666666666666666,
              "#ed7953"
             ],
             [
              0.7777777777777778,
              "#fb9f3a"
             ],
             [
              0.8888888888888888,
              "#fdca26"
             ],
             [
              1,
              "#f0f921"
             ]
            ],
            "type": "contour"
           }
          ],
          "contourcarpet": [
           {
            "colorbar": {
             "outlinewidth": 0,
             "ticks": ""
            },
            "type": "contourcarpet"
           }
          ],
          "heatmap": [
           {
            "colorbar": {
             "outlinewidth": 0,
             "ticks": ""
            },
            "colorscale": [
             [
              0,
              "#0d0887"
             ],
             [
              0.1111111111111111,
              "#46039f"
             ],
             [
              0.2222222222222222,
              "#7201a8"
             ],
             [
              0.3333333333333333,
              "#9c179e"
             ],
             [
              0.4444444444444444,
              "#bd3786"
             ],
             [
              0.5555555555555556,
              "#d8576b"
             ],
             [
              0.6666666666666666,
              "#ed7953"
             ],
             [
              0.7777777777777778,
              "#fb9f3a"
             ],
             [
              0.8888888888888888,
              "#fdca26"
             ],
             [
              1,
              "#f0f921"
             ]
            ],
            "type": "heatmap"
           }
          ],
          "heatmapgl": [
           {
            "colorbar": {
             "outlinewidth": 0,
             "ticks": ""
            },
            "colorscale": [
             [
              0,
              "#0d0887"
             ],
             [
              0.1111111111111111,
              "#46039f"
             ],
             [
              0.2222222222222222,
              "#7201a8"
             ],
             [
              0.3333333333333333,
              "#9c179e"
             ],
             [
              0.4444444444444444,
              "#bd3786"
             ],
             [
              0.5555555555555556,
              "#d8576b"
             ],
             [
              0.6666666666666666,
              "#ed7953"
             ],
             [
              0.7777777777777778,
              "#fb9f3a"
             ],
             [
              0.8888888888888888,
              "#fdca26"
             ],
             [
              1,
              "#f0f921"
             ]
            ],
            "type": "heatmapgl"
           }
          ],
          "histogram": [
           {
            "marker": {
             "pattern": {
              "fillmode": "overlay",
              "size": 10,
              "solidity": 0.2
             }
            },
            "type": "histogram"
           }
          ],
          "histogram2d": [
           {
            "colorbar": {
             "outlinewidth": 0,
             "ticks": ""
            },
            "colorscale": [
             [
              0,
              "#0d0887"
             ],
             [
              0.1111111111111111,
              "#46039f"
             ],
             [
              0.2222222222222222,
              "#7201a8"
             ],
             [
              0.3333333333333333,
              "#9c179e"
             ],
             [
              0.4444444444444444,
              "#bd3786"
             ],
             [
              0.5555555555555556,
              "#d8576b"
             ],
             [
              0.6666666666666666,
              "#ed7953"
             ],
             [
              0.7777777777777778,
              "#fb9f3a"
             ],
             [
              0.8888888888888888,
              "#fdca26"
             ],
             [
              1,
              "#f0f921"
             ]
            ],
            "type": "histogram2d"
           }
          ],
          "histogram2dcontour": [
           {
            "colorbar": {
             "outlinewidth": 0,
             "ticks": ""
            },
            "colorscale": [
             [
              0,
              "#0d0887"
             ],
             [
              0.1111111111111111,
              "#46039f"
             ],
             [
              0.2222222222222222,
              "#7201a8"
             ],
             [
              0.3333333333333333,
              "#9c179e"
             ],
             [
              0.4444444444444444,
              "#bd3786"
             ],
             [
              0.5555555555555556,
              "#d8576b"
             ],
             [
              0.6666666666666666,
              "#ed7953"
             ],
             [
              0.7777777777777778,
              "#fb9f3a"
             ],
             [
              0.8888888888888888,
              "#fdca26"
             ],
             [
              1,
              "#f0f921"
             ]
            ],
            "type": "histogram2dcontour"
           }
          ],
          "mesh3d": [
           {
            "colorbar": {
             "outlinewidth": 0,
             "ticks": ""
            },
            "type": "mesh3d"
           }
          ],
          "parcoords": [
           {
            "line": {
             "colorbar": {
              "outlinewidth": 0,
              "ticks": ""
             }
            },
            "type": "parcoords"
           }
          ],
          "pie": [
           {
            "automargin": true,
            "type": "pie"
           }
          ],
          "scatter": [
           {
            "fillpattern": {
             "fillmode": "overlay",
             "size": 10,
             "solidity": 0.2
            },
            "type": "scatter"
           }
          ],
          "scatter3d": [
           {
            "line": {
             "colorbar": {
              "outlinewidth": 0,
              "ticks": ""
             }
            },
            "marker": {
             "colorbar": {
              "outlinewidth": 0,
              "ticks": ""
             }
            },
            "type": "scatter3d"
           }
          ],
          "scattercarpet": [
           {
            "marker": {
             "colorbar": {
              "outlinewidth": 0,
              "ticks": ""
             }
            },
            "type": "scattercarpet"
           }
          ],
          "scattergeo": [
           {
            "marker": {
             "colorbar": {
              "outlinewidth": 0,
              "ticks": ""
             }
            },
            "type": "scattergeo"
           }
          ],
          "scattergl": [
           {
            "marker": {
             "colorbar": {
              "outlinewidth": 0,
              "ticks": ""
             }
            },
            "type": "scattergl"
           }
          ],
          "scattermapbox": [
           {
            "marker": {
             "colorbar": {
              "outlinewidth": 0,
              "ticks": ""
             }
            },
            "type": "scattermapbox"
           }
          ],
          "scatterpolar": [
           {
            "marker": {
             "colorbar": {
              "outlinewidth": 0,
              "ticks": ""
             }
            },
            "type": "scatterpolar"
           }
          ],
          "scatterpolargl": [
           {
            "marker": {
             "colorbar": {
              "outlinewidth": 0,
              "ticks": ""
             }
            },
            "type": "scatterpolargl"
           }
          ],
          "scatterternary": [
           {
            "marker": {
             "colorbar": {
              "outlinewidth": 0,
              "ticks": ""
             }
            },
            "type": "scatterternary"
           }
          ],
          "surface": [
           {
            "colorbar": {
             "outlinewidth": 0,
             "ticks": ""
            },
            "colorscale": [
             [
              0,
              "#0d0887"
             ],
             [
              0.1111111111111111,
              "#46039f"
             ],
             [
              0.2222222222222222,
              "#7201a8"
             ],
             [
              0.3333333333333333,
              "#9c179e"
             ],
             [
              0.4444444444444444,
              "#bd3786"
             ],
             [
              0.5555555555555556,
              "#d8576b"
             ],
             [
              0.6666666666666666,
              "#ed7953"
             ],
             [
              0.7777777777777778,
              "#fb9f3a"
             ],
             [
              0.8888888888888888,
              "#fdca26"
             ],
             [
              1,
              "#f0f921"
             ]
            ],
            "type": "surface"
           }
          ],
          "table": [
           {
            "cells": {
             "fill": {
              "color": "#EBF0F8"
             },
             "line": {
              "color": "white"
             }
            },
            "header": {
             "fill": {
              "color": "#C8D4E3"
             },
             "line": {
              "color": "white"
             }
            },
            "type": "table"
           }
          ]
         },
         "layout": {
          "annotationdefaults": {
           "arrowcolor": "#2a3f5f",
           "arrowhead": 0,
           "arrowwidth": 1
          },
          "autotypenumbers": "strict",
          "coloraxis": {
           "colorbar": {
            "outlinewidth": 0,
            "ticks": ""
           }
          },
          "colorscale": {
           "diverging": [
            [
             0,
             "#8e0152"
            ],
            [
             0.1,
             "#c51b7d"
            ],
            [
             0.2,
             "#de77ae"
            ],
            [
             0.3,
             "#f1b6da"
            ],
            [
             0.4,
             "#fde0ef"
            ],
            [
             0.5,
             "#f7f7f7"
            ],
            [
             0.6,
             "#e6f5d0"
            ],
            [
             0.7,
             "#b8e186"
            ],
            [
             0.8,
             "#7fbc41"
            ],
            [
             0.9,
             "#4d9221"
            ],
            [
             1,
             "#276419"
            ]
           ],
           "sequential": [
            [
             0,
             "#0d0887"
            ],
            [
             0.1111111111111111,
             "#46039f"
            ],
            [
             0.2222222222222222,
             "#7201a8"
            ],
            [
             0.3333333333333333,
             "#9c179e"
            ],
            [
             0.4444444444444444,
             "#bd3786"
            ],
            [
             0.5555555555555556,
             "#d8576b"
            ],
            [
             0.6666666666666666,
             "#ed7953"
            ],
            [
             0.7777777777777778,
             "#fb9f3a"
            ],
            [
             0.8888888888888888,
             "#fdca26"
            ],
            [
             1,
             "#f0f921"
            ]
           ],
           "sequentialminus": [
            [
             0,
             "#0d0887"
            ],
            [
             0.1111111111111111,
             "#46039f"
            ],
            [
             0.2222222222222222,
             "#7201a8"
            ],
            [
             0.3333333333333333,
             "#9c179e"
            ],
            [
             0.4444444444444444,
             "#bd3786"
            ],
            [
             0.5555555555555556,
             "#d8576b"
            ],
            [
             0.6666666666666666,
             "#ed7953"
            ],
            [
             0.7777777777777778,
             "#fb9f3a"
            ],
            [
             0.8888888888888888,
             "#fdca26"
            ],
            [
             1,
             "#f0f921"
            ]
           ]
          },
          "colorway": [
           "#636efa",
           "#EF553B",
           "#00cc96",
           "#ab63fa",
           "#FFA15A",
           "#19d3f3",
           "#FF6692",
           "#B6E880",
           "#FF97FF",
           "#FECB52"
          ],
          "font": {
           "color": "#2a3f5f"
          },
          "geo": {
           "bgcolor": "white",
           "lakecolor": "white",
           "landcolor": "#E5ECF6",
           "showlakes": true,
           "showland": true,
           "subunitcolor": "white"
          },
          "hoverlabel": {
           "align": "left"
          },
          "hovermode": "closest",
          "mapbox": {
           "style": "light"
          },
          "paper_bgcolor": "white",
          "plot_bgcolor": "#E5ECF6",
          "polar": {
           "angularaxis": {
            "gridcolor": "white",
            "linecolor": "white",
            "ticks": ""
           },
           "bgcolor": "#E5ECF6",
           "radialaxis": {
            "gridcolor": "white",
            "linecolor": "white",
            "ticks": ""
           }
          },
          "scene": {
           "xaxis": {
            "backgroundcolor": "#E5ECF6",
            "gridcolor": "white",
            "gridwidth": 2,
            "linecolor": "white",
            "showbackground": true,
            "ticks": "",
            "zerolinecolor": "white"
           },
           "yaxis": {
            "backgroundcolor": "#E5ECF6",
            "gridcolor": "white",
            "gridwidth": 2,
            "linecolor": "white",
            "showbackground": true,
            "ticks": "",
            "zerolinecolor": "white"
           },
           "zaxis": {
            "backgroundcolor": "#E5ECF6",
            "gridcolor": "white",
            "gridwidth": 2,
            "linecolor": "white",
            "showbackground": true,
            "ticks": "",
            "zerolinecolor": "white"
           }
          },
          "shapedefaults": {
           "line": {
            "color": "#2a3f5f"
           }
          },
          "ternary": {
           "aaxis": {
            "gridcolor": "white",
            "linecolor": "white",
            "ticks": ""
           },
           "baxis": {
            "gridcolor": "white",
            "linecolor": "white",
            "ticks": ""
           },
           "bgcolor": "#E5ECF6",
           "caxis": {
            "gridcolor": "white",
            "linecolor": "white",
            "ticks": ""
           }
          },
          "title": {
           "x": 0.05
          },
          "xaxis": {
           "automargin": true,
           "gridcolor": "white",
           "linecolor": "white",
           "ticks": "",
           "title": {
            "standoff": 15
           },
           "zerolinecolor": "white",
           "zerolinewidth": 2
          },
          "yaxis": {
           "automargin": true,
           "gridcolor": "white",
           "linecolor": "white",
           "ticks": "",
           "title": {
            "standoff": 15
           },
           "zerolinecolor": "white",
           "zerolinewidth": 2
          }
         }
        },
        "title": {
         "text": "Variação Custo x Demanda Contratada HP"
        },
        "xaxis": {
         "title": {
          "text": "Demanda Contratada HP (kW)"
         }
        },
        "yaxis": {
         "dtick": 3000,
         "tickmode": "linear",
         "title": {
          "text": "Custo (R$)"
         }
        }
       }
      }
     },
     "metadata": {},
     "output_type": "display_data"
    }
   ],
   "source": [
    "plot = go.Figure()\n",
    "plot.add_trace(go.Scatter(x=a['Demanda HP'], y=a['Custo HP'] ,mode='lines', name='Custo Variavél', marker=dict(color='blue')))\n",
    "plot.add_annotation(x=82, y=67211.63, text=str(f'Ponto ótimo = 82 kW'), font=dict(size=16),\n",
    "                   showarrow=True, arrowhead=5,ax=30)\n",
    "plot.update_layout(title='Variação Custo x Demanda Contratada HP', \n",
    "                   yaxis_title='Custo (R$)',\n",
    "                   xaxis_title='Demanda Contratada HP (kW)',\n",
    "                   yaxis=dict(tickmode='linear',dtick=3000))\n",
    "plot.update_layout(font=dict(size=12))\n",
    "plot.update_layout(legend=dict(x=0.80, y=0.99, bgcolor='rgba(255, 255, 255,0.95)'))\n",
    "plot.write_image(\"Custos HP.png\", format=\"png\", scale=10, width=854, height=480)                    \n",
    "plot.show()"
   ]
  },
  {
   "cell_type": "code",
   "execution_count": 40,
   "id": "caf012df",
   "metadata": {},
   "outputs": [
    {
     "data": {
      "application/vnd.plotly.v1+json": {
       "config": {
        "plotlyServerURL": "https://plot.ly"
       },
       "data": [
        {
         "marker": {
          "color": "darkred"
         },
         "name": "Demanda Média               ",
         "type": "scatter",
         "x": [
          "MAR/22",
          "ABR/22",
          "MAI/22",
          "JUN/22",
          "JUL/22",
          "AGO/22",
          "SET/22",
          "OUT/22",
          "NOV/22",
          "DEZ/22",
          "JAN/23",
          "FEV/23"
         ],
         "y": [
          88.83333333333333,
          88.83333333333333,
          88.83333333333333,
          88.83333333333333,
          88.83333333333333,
          88.83333333333333,
          88.83333333333333,
          88.83333333333333,
          88.83333333333333,
          88.83333333333333,
          88.83333333333333,
          88.83333333333333
         ]
        },
        {
         "marker": {
          "color": "blue"
         },
         "name": "Demandas Registradas HFP",
         "type": "bar",
         "x": [
          "MAR/22",
          "ABR/22",
          "MAI/22",
          "JUN/22",
          "JUL/22",
          "AGO/22",
          "SET/22",
          "OUT/22",
          "NOV/22",
          "DEZ/22",
          "JAN/23",
          "FEV/23"
         ],
         "y": [
          106,
          94,
          89,
          79,
          77,
          82,
          89,
          91,
          79,
          94,
          89,
          97
         ]
        }
       ],
       "layout": {
        "annotations": [
         {
          "arrowhead": 5,
          "font": {
           "size": 20
          },
          "showarrow": true,
          "text": "Fator de Carga = 0.8381",
          "x": 4,
          "y": 88.83333333333333
         }
        ],
        "font": {
         "size": 15
        },
        "legend": {
         "bgcolor": "rgba(255, 255, 255,0.95)",
         "x": 0.01,
         "y": 0.01
        },
        "template": {
         "data": {
          "bar": [
           {
            "error_x": {
             "color": "#2a3f5f"
            },
            "error_y": {
             "color": "#2a3f5f"
            },
            "marker": {
             "line": {
              "color": "#E5ECF6",
              "width": 0.5
             },
             "pattern": {
              "fillmode": "overlay",
              "size": 10,
              "solidity": 0.2
             }
            },
            "type": "bar"
           }
          ],
          "barpolar": [
           {
            "marker": {
             "line": {
              "color": "#E5ECF6",
              "width": 0.5
             },
             "pattern": {
              "fillmode": "overlay",
              "size": 10,
              "solidity": 0.2
             }
            },
            "type": "barpolar"
           }
          ],
          "carpet": [
           {
            "aaxis": {
             "endlinecolor": "#2a3f5f",
             "gridcolor": "white",
             "linecolor": "white",
             "minorgridcolor": "white",
             "startlinecolor": "#2a3f5f"
            },
            "baxis": {
             "endlinecolor": "#2a3f5f",
             "gridcolor": "white",
             "linecolor": "white",
             "minorgridcolor": "white",
             "startlinecolor": "#2a3f5f"
            },
            "type": "carpet"
           }
          ],
          "choropleth": [
           {
            "colorbar": {
             "outlinewidth": 0,
             "ticks": ""
            },
            "type": "choropleth"
           }
          ],
          "contour": [
           {
            "colorbar": {
             "outlinewidth": 0,
             "ticks": ""
            },
            "colorscale": [
             [
              0,
              "#0d0887"
             ],
             [
              0.1111111111111111,
              "#46039f"
             ],
             [
              0.2222222222222222,
              "#7201a8"
             ],
             [
              0.3333333333333333,
              "#9c179e"
             ],
             [
              0.4444444444444444,
              "#bd3786"
             ],
             [
              0.5555555555555556,
              "#d8576b"
             ],
             [
              0.6666666666666666,
              "#ed7953"
             ],
             [
              0.7777777777777778,
              "#fb9f3a"
             ],
             [
              0.8888888888888888,
              "#fdca26"
             ],
             [
              1,
              "#f0f921"
             ]
            ],
            "type": "contour"
           }
          ],
          "contourcarpet": [
           {
            "colorbar": {
             "outlinewidth": 0,
             "ticks": ""
            },
            "type": "contourcarpet"
           }
          ],
          "heatmap": [
           {
            "colorbar": {
             "outlinewidth": 0,
             "ticks": ""
            },
            "colorscale": [
             [
              0,
              "#0d0887"
             ],
             [
              0.1111111111111111,
              "#46039f"
             ],
             [
              0.2222222222222222,
              "#7201a8"
             ],
             [
              0.3333333333333333,
              "#9c179e"
             ],
             [
              0.4444444444444444,
              "#bd3786"
             ],
             [
              0.5555555555555556,
              "#d8576b"
             ],
             [
              0.6666666666666666,
              "#ed7953"
             ],
             [
              0.7777777777777778,
              "#fb9f3a"
             ],
             [
              0.8888888888888888,
              "#fdca26"
             ],
             [
              1,
              "#f0f921"
             ]
            ],
            "type": "heatmap"
           }
          ],
          "heatmapgl": [
           {
            "colorbar": {
             "outlinewidth": 0,
             "ticks": ""
            },
            "colorscale": [
             [
              0,
              "#0d0887"
             ],
             [
              0.1111111111111111,
              "#46039f"
             ],
             [
              0.2222222222222222,
              "#7201a8"
             ],
             [
              0.3333333333333333,
              "#9c179e"
             ],
             [
              0.4444444444444444,
              "#bd3786"
             ],
             [
              0.5555555555555556,
              "#d8576b"
             ],
             [
              0.6666666666666666,
              "#ed7953"
             ],
             [
              0.7777777777777778,
              "#fb9f3a"
             ],
             [
              0.8888888888888888,
              "#fdca26"
             ],
             [
              1,
              "#f0f921"
             ]
            ],
            "type": "heatmapgl"
           }
          ],
          "histogram": [
           {
            "marker": {
             "pattern": {
              "fillmode": "overlay",
              "size": 10,
              "solidity": 0.2
             }
            },
            "type": "histogram"
           }
          ],
          "histogram2d": [
           {
            "colorbar": {
             "outlinewidth": 0,
             "ticks": ""
            },
            "colorscale": [
             [
              0,
              "#0d0887"
             ],
             [
              0.1111111111111111,
              "#46039f"
             ],
             [
              0.2222222222222222,
              "#7201a8"
             ],
             [
              0.3333333333333333,
              "#9c179e"
             ],
             [
              0.4444444444444444,
              "#bd3786"
             ],
             [
              0.5555555555555556,
              "#d8576b"
             ],
             [
              0.6666666666666666,
              "#ed7953"
             ],
             [
              0.7777777777777778,
              "#fb9f3a"
             ],
             [
              0.8888888888888888,
              "#fdca26"
             ],
             [
              1,
              "#f0f921"
             ]
            ],
            "type": "histogram2d"
           }
          ],
          "histogram2dcontour": [
           {
            "colorbar": {
             "outlinewidth": 0,
             "ticks": ""
            },
            "colorscale": [
             [
              0,
              "#0d0887"
             ],
             [
              0.1111111111111111,
              "#46039f"
             ],
             [
              0.2222222222222222,
              "#7201a8"
             ],
             [
              0.3333333333333333,
              "#9c179e"
             ],
             [
              0.4444444444444444,
              "#bd3786"
             ],
             [
              0.5555555555555556,
              "#d8576b"
             ],
             [
              0.6666666666666666,
              "#ed7953"
             ],
             [
              0.7777777777777778,
              "#fb9f3a"
             ],
             [
              0.8888888888888888,
              "#fdca26"
             ],
             [
              1,
              "#f0f921"
             ]
            ],
            "type": "histogram2dcontour"
           }
          ],
          "mesh3d": [
           {
            "colorbar": {
             "outlinewidth": 0,
             "ticks": ""
            },
            "type": "mesh3d"
           }
          ],
          "parcoords": [
           {
            "line": {
             "colorbar": {
              "outlinewidth": 0,
              "ticks": ""
             }
            },
            "type": "parcoords"
           }
          ],
          "pie": [
           {
            "automargin": true,
            "type": "pie"
           }
          ],
          "scatter": [
           {
            "fillpattern": {
             "fillmode": "overlay",
             "size": 10,
             "solidity": 0.2
            },
            "type": "scatter"
           }
          ],
          "scatter3d": [
           {
            "line": {
             "colorbar": {
              "outlinewidth": 0,
              "ticks": ""
             }
            },
            "marker": {
             "colorbar": {
              "outlinewidth": 0,
              "ticks": ""
             }
            },
            "type": "scatter3d"
           }
          ],
          "scattercarpet": [
           {
            "marker": {
             "colorbar": {
              "outlinewidth": 0,
              "ticks": ""
             }
            },
            "type": "scattercarpet"
           }
          ],
          "scattergeo": [
           {
            "marker": {
             "colorbar": {
              "outlinewidth": 0,
              "ticks": ""
             }
            },
            "type": "scattergeo"
           }
          ],
          "scattergl": [
           {
            "marker": {
             "colorbar": {
              "outlinewidth": 0,
              "ticks": ""
             }
            },
            "type": "scattergl"
           }
          ],
          "scattermapbox": [
           {
            "marker": {
             "colorbar": {
              "outlinewidth": 0,
              "ticks": ""
             }
            },
            "type": "scattermapbox"
           }
          ],
          "scatterpolar": [
           {
            "marker": {
             "colorbar": {
              "outlinewidth": 0,
              "ticks": ""
             }
            },
            "type": "scatterpolar"
           }
          ],
          "scatterpolargl": [
           {
            "marker": {
             "colorbar": {
              "outlinewidth": 0,
              "ticks": ""
             }
            },
            "type": "scatterpolargl"
           }
          ],
          "scatterternary": [
           {
            "marker": {
             "colorbar": {
              "outlinewidth": 0,
              "ticks": ""
             }
            },
            "type": "scatterternary"
           }
          ],
          "surface": [
           {
            "colorbar": {
             "outlinewidth": 0,
             "ticks": ""
            },
            "colorscale": [
             [
              0,
              "#0d0887"
             ],
             [
              0.1111111111111111,
              "#46039f"
             ],
             [
              0.2222222222222222,
              "#7201a8"
             ],
             [
              0.3333333333333333,
              "#9c179e"
             ],
             [
              0.4444444444444444,
              "#bd3786"
             ],
             [
              0.5555555555555556,
              "#d8576b"
             ],
             [
              0.6666666666666666,
              "#ed7953"
             ],
             [
              0.7777777777777778,
              "#fb9f3a"
             ],
             [
              0.8888888888888888,
              "#fdca26"
             ],
             [
              1,
              "#f0f921"
             ]
            ],
            "type": "surface"
           }
          ],
          "table": [
           {
            "cells": {
             "fill": {
              "color": "#EBF0F8"
             },
             "line": {
              "color": "white"
             }
            },
            "header": {
             "fill": {
              "color": "#C8D4E3"
             },
             "line": {
              "color": "white"
             }
            },
            "type": "table"
           }
          ]
         },
         "layout": {
          "annotationdefaults": {
           "arrowcolor": "#2a3f5f",
           "arrowhead": 0,
           "arrowwidth": 1
          },
          "autotypenumbers": "strict",
          "coloraxis": {
           "colorbar": {
            "outlinewidth": 0,
            "ticks": ""
           }
          },
          "colorscale": {
           "diverging": [
            [
             0,
             "#8e0152"
            ],
            [
             0.1,
             "#c51b7d"
            ],
            [
             0.2,
             "#de77ae"
            ],
            [
             0.3,
             "#f1b6da"
            ],
            [
             0.4,
             "#fde0ef"
            ],
            [
             0.5,
             "#f7f7f7"
            ],
            [
             0.6,
             "#e6f5d0"
            ],
            [
             0.7,
             "#b8e186"
            ],
            [
             0.8,
             "#7fbc41"
            ],
            [
             0.9,
             "#4d9221"
            ],
            [
             1,
             "#276419"
            ]
           ],
           "sequential": [
            [
             0,
             "#0d0887"
            ],
            [
             0.1111111111111111,
             "#46039f"
            ],
            [
             0.2222222222222222,
             "#7201a8"
            ],
            [
             0.3333333333333333,
             "#9c179e"
            ],
            [
             0.4444444444444444,
             "#bd3786"
            ],
            [
             0.5555555555555556,
             "#d8576b"
            ],
            [
             0.6666666666666666,
             "#ed7953"
            ],
            [
             0.7777777777777778,
             "#fb9f3a"
            ],
            [
             0.8888888888888888,
             "#fdca26"
            ],
            [
             1,
             "#f0f921"
            ]
           ],
           "sequentialminus": [
            [
             0,
             "#0d0887"
            ],
            [
             0.1111111111111111,
             "#46039f"
            ],
            [
             0.2222222222222222,
             "#7201a8"
            ],
            [
             0.3333333333333333,
             "#9c179e"
            ],
            [
             0.4444444444444444,
             "#bd3786"
            ],
            [
             0.5555555555555556,
             "#d8576b"
            ],
            [
             0.6666666666666666,
             "#ed7953"
            ],
            [
             0.7777777777777778,
             "#fb9f3a"
            ],
            [
             0.8888888888888888,
             "#fdca26"
            ],
            [
             1,
             "#f0f921"
            ]
           ]
          },
          "colorway": [
           "#636efa",
           "#EF553B",
           "#00cc96",
           "#ab63fa",
           "#FFA15A",
           "#19d3f3",
           "#FF6692",
           "#B6E880",
           "#FF97FF",
           "#FECB52"
          ],
          "font": {
           "color": "#2a3f5f"
          },
          "geo": {
           "bgcolor": "white",
           "lakecolor": "white",
           "landcolor": "#E5ECF6",
           "showlakes": true,
           "showland": true,
           "subunitcolor": "white"
          },
          "hoverlabel": {
           "align": "left"
          },
          "hovermode": "closest",
          "mapbox": {
           "style": "light"
          },
          "paper_bgcolor": "white",
          "plot_bgcolor": "#E5ECF6",
          "polar": {
           "angularaxis": {
            "gridcolor": "white",
            "linecolor": "white",
            "ticks": ""
           },
           "bgcolor": "#E5ECF6",
           "radialaxis": {
            "gridcolor": "white",
            "linecolor": "white",
            "ticks": ""
           }
          },
          "scene": {
           "xaxis": {
            "backgroundcolor": "#E5ECF6",
            "gridcolor": "white",
            "gridwidth": 2,
            "linecolor": "white",
            "showbackground": true,
            "ticks": "",
            "zerolinecolor": "white"
           },
           "yaxis": {
            "backgroundcolor": "#E5ECF6",
            "gridcolor": "white",
            "gridwidth": 2,
            "linecolor": "white",
            "showbackground": true,
            "ticks": "",
            "zerolinecolor": "white"
           },
           "zaxis": {
            "backgroundcolor": "#E5ECF6",
            "gridcolor": "white",
            "gridwidth": 2,
            "linecolor": "white",
            "showbackground": true,
            "ticks": "",
            "zerolinecolor": "white"
           }
          },
          "shapedefaults": {
           "line": {
            "color": "#2a3f5f"
           }
          },
          "ternary": {
           "aaxis": {
            "gridcolor": "white",
            "linecolor": "white",
            "ticks": ""
           },
           "baxis": {
            "gridcolor": "white",
            "linecolor": "white",
            "ticks": ""
           },
           "bgcolor": "#E5ECF6",
           "caxis": {
            "gridcolor": "white",
            "linecolor": "white",
            "ticks": ""
           }
          },
          "title": {
           "x": 0.05
          },
          "xaxis": {
           "automargin": true,
           "gridcolor": "white",
           "linecolor": "white",
           "ticks": "",
           "title": {
            "standoff": 15
           },
           "zerolinecolor": "white",
           "zerolinewidth": 2
          },
          "yaxis": {
           "automargin": true,
           "gridcolor": "white",
           "linecolor": "white",
           "ticks": "",
           "title": {
            "standoff": 15
           },
           "zerolinecolor": "white",
           "zerolinewidth": 2
          }
         }
        },
        "title": {
         "text": "Demanda Média e Fator de Carga - HFP"
        },
        "xaxis": {
         "title": {
          "text": "Tempo (Meses)"
         }
        },
        "yaxis": {
         "range": [
          0,
          120
         ],
         "title": {
          "text": "Demanda (kW)"
         }
        }
       }
      }
     },
     "metadata": {},
     "output_type": "display_data"
    }
   ],
   "source": [
    "#Fator de Carga HFP\n",
    "x       = []\n",
    "y1      = []\n",
    "y3      = []\n",
    "y2 = 0\n",
    "for i in range(len(input[0]['demanda HFP'])):\n",
    "    y1.append(float(input[0]['demanda HFP'][i]))\n",
    "    x.append(input[0]['mes'][i])\n",
    "    y2 = y2 + float(input[0]['demanda HFP'][i])\n",
    "for i in range(len(input[0]['demanda HFP'])):\n",
    "    y3.append(y2/12)\n",
    "\n",
    "FC = y3[0]/max(y1)\n",
    "    \n",
    "plot = go.Figure()\n",
    "plot.add_trace(go.Scatter(x=x, y=y3, name='Demanda Média               ', marker=dict(color='darkred')))\n",
    "plot.add_trace(go.Bar(x=x, y=y1, name='Demandas Registradas HFP', marker=dict(color='blue')))\n",
    "plot.add_annotation(x=4, y=y2/12, text=str(f'Fator de Carga = {round(FC,4)}'), font=dict(size=20),\n",
    "                   showarrow=True, arrowhead=5)\n",
    "plot.update_layout(yaxis_range=[0,120], \n",
    "                   title='Demanda Média e Fator de Carga - HFP',\n",
    "                   yaxis_title='Demanda (kW)',\n",
    "                   xaxis_title='Tempo (Meses)')\n",
    "plot.update_layout(font=dict(size=15)) \n",
    "plot.update_layout(legend=dict(x=0.01, y=0.01, bgcolor='rgba(255, 255, 255,0.95)'))\n",
    "plot.write_image(\"Demanda Média HFP.jpg\", format=\"jpg\", scale=10, width=854, height=480)\n",
    "\n",
    "plot.show()\n"
   ]
  },
  {
   "cell_type": "code",
   "execution_count": 41,
   "id": "097a0b05",
   "metadata": {},
   "outputs": [
    {
     "data": {
      "application/vnd.plotly.v1+json": {
       "config": {
        "plotlyServerURL": "https://plot.ly"
       },
       "data": [
        {
         "marker": {
          "color": "darkred"
         },
         "name": "Demanda Média               ",
         "type": "scatter",
         "x": [
          "MAR/22",
          "ABR/22",
          "MAI/22",
          "JUN/22",
          "JUL/22",
          "AGO/22",
          "SET/22",
          "OUT/22",
          "NOV/22",
          "DEZ/22",
          "JAN/23",
          "FEV/23"
         ],
         "y": [
          81,
          81,
          81,
          81,
          81,
          81,
          81,
          81,
          81,
          81,
          81,
          81
         ]
        },
        {
         "marker": {
          "color": "darkblue"
         },
         "name": "Demandas Registradas HP",
         "type": "bar",
         "x": [
          "MAR/22",
          "ABR/22",
          "MAI/22",
          "JUN/22",
          "JUL/22",
          "AGO/22",
          "SET/22",
          "OUT/22",
          "NOV/22",
          "DEZ/22",
          "JAN/23",
          "FEV/23"
         ],
         "y": [
          94,
          96,
          79,
          79,
          72,
          77,
          77,
          84,
          72,
          74,
          82,
          86
         ]
        }
       ],
       "layout": {
        "annotations": [
         {
          "arrowhead": 5,
          "font": {
           "size": 20
          },
          "showarrow": true,
          "text": "Fator de Carga = 0.8438",
          "x": 4,
          "y": 81
         }
        ],
        "font": {
         "size": 15
        },
        "legend": {
         "bgcolor": "rgba(255, 255, 255,0.95)",
         "x": 0.01,
         "y": 0.01
        },
        "template": {
         "data": {
          "bar": [
           {
            "error_x": {
             "color": "#2a3f5f"
            },
            "error_y": {
             "color": "#2a3f5f"
            },
            "marker": {
             "line": {
              "color": "#E5ECF6",
              "width": 0.5
             },
             "pattern": {
              "fillmode": "overlay",
              "size": 10,
              "solidity": 0.2
             }
            },
            "type": "bar"
           }
          ],
          "barpolar": [
           {
            "marker": {
             "line": {
              "color": "#E5ECF6",
              "width": 0.5
             },
             "pattern": {
              "fillmode": "overlay",
              "size": 10,
              "solidity": 0.2
             }
            },
            "type": "barpolar"
           }
          ],
          "carpet": [
           {
            "aaxis": {
             "endlinecolor": "#2a3f5f",
             "gridcolor": "white",
             "linecolor": "white",
             "minorgridcolor": "white",
             "startlinecolor": "#2a3f5f"
            },
            "baxis": {
             "endlinecolor": "#2a3f5f",
             "gridcolor": "white",
             "linecolor": "white",
             "minorgridcolor": "white",
             "startlinecolor": "#2a3f5f"
            },
            "type": "carpet"
           }
          ],
          "choropleth": [
           {
            "colorbar": {
             "outlinewidth": 0,
             "ticks": ""
            },
            "type": "choropleth"
           }
          ],
          "contour": [
           {
            "colorbar": {
             "outlinewidth": 0,
             "ticks": ""
            },
            "colorscale": [
             [
              0,
              "#0d0887"
             ],
             [
              0.1111111111111111,
              "#46039f"
             ],
             [
              0.2222222222222222,
              "#7201a8"
             ],
             [
              0.3333333333333333,
              "#9c179e"
             ],
             [
              0.4444444444444444,
              "#bd3786"
             ],
             [
              0.5555555555555556,
              "#d8576b"
             ],
             [
              0.6666666666666666,
              "#ed7953"
             ],
             [
              0.7777777777777778,
              "#fb9f3a"
             ],
             [
              0.8888888888888888,
              "#fdca26"
             ],
             [
              1,
              "#f0f921"
             ]
            ],
            "type": "contour"
           }
          ],
          "contourcarpet": [
           {
            "colorbar": {
             "outlinewidth": 0,
             "ticks": ""
            },
            "type": "contourcarpet"
           }
          ],
          "heatmap": [
           {
            "colorbar": {
             "outlinewidth": 0,
             "ticks": ""
            },
            "colorscale": [
             [
              0,
              "#0d0887"
             ],
             [
              0.1111111111111111,
              "#46039f"
             ],
             [
              0.2222222222222222,
              "#7201a8"
             ],
             [
              0.3333333333333333,
              "#9c179e"
             ],
             [
              0.4444444444444444,
              "#bd3786"
             ],
             [
              0.5555555555555556,
              "#d8576b"
             ],
             [
              0.6666666666666666,
              "#ed7953"
             ],
             [
              0.7777777777777778,
              "#fb9f3a"
             ],
             [
              0.8888888888888888,
              "#fdca26"
             ],
             [
              1,
              "#f0f921"
             ]
            ],
            "type": "heatmap"
           }
          ],
          "heatmapgl": [
           {
            "colorbar": {
             "outlinewidth": 0,
             "ticks": ""
            },
            "colorscale": [
             [
              0,
              "#0d0887"
             ],
             [
              0.1111111111111111,
              "#46039f"
             ],
             [
              0.2222222222222222,
              "#7201a8"
             ],
             [
              0.3333333333333333,
              "#9c179e"
             ],
             [
              0.4444444444444444,
              "#bd3786"
             ],
             [
              0.5555555555555556,
              "#d8576b"
             ],
             [
              0.6666666666666666,
              "#ed7953"
             ],
             [
              0.7777777777777778,
              "#fb9f3a"
             ],
             [
              0.8888888888888888,
              "#fdca26"
             ],
             [
              1,
              "#f0f921"
             ]
            ],
            "type": "heatmapgl"
           }
          ],
          "histogram": [
           {
            "marker": {
             "pattern": {
              "fillmode": "overlay",
              "size": 10,
              "solidity": 0.2
             }
            },
            "type": "histogram"
           }
          ],
          "histogram2d": [
           {
            "colorbar": {
             "outlinewidth": 0,
             "ticks": ""
            },
            "colorscale": [
             [
              0,
              "#0d0887"
             ],
             [
              0.1111111111111111,
              "#46039f"
             ],
             [
              0.2222222222222222,
              "#7201a8"
             ],
             [
              0.3333333333333333,
              "#9c179e"
             ],
             [
              0.4444444444444444,
              "#bd3786"
             ],
             [
              0.5555555555555556,
              "#d8576b"
             ],
             [
              0.6666666666666666,
              "#ed7953"
             ],
             [
              0.7777777777777778,
              "#fb9f3a"
             ],
             [
              0.8888888888888888,
              "#fdca26"
             ],
             [
              1,
              "#f0f921"
             ]
            ],
            "type": "histogram2d"
           }
          ],
          "histogram2dcontour": [
           {
            "colorbar": {
             "outlinewidth": 0,
             "ticks": ""
            },
            "colorscale": [
             [
              0,
              "#0d0887"
             ],
             [
              0.1111111111111111,
              "#46039f"
             ],
             [
              0.2222222222222222,
              "#7201a8"
             ],
             [
              0.3333333333333333,
              "#9c179e"
             ],
             [
              0.4444444444444444,
              "#bd3786"
             ],
             [
              0.5555555555555556,
              "#d8576b"
             ],
             [
              0.6666666666666666,
              "#ed7953"
             ],
             [
              0.7777777777777778,
              "#fb9f3a"
             ],
             [
              0.8888888888888888,
              "#fdca26"
             ],
             [
              1,
              "#f0f921"
             ]
            ],
            "type": "histogram2dcontour"
           }
          ],
          "mesh3d": [
           {
            "colorbar": {
             "outlinewidth": 0,
             "ticks": ""
            },
            "type": "mesh3d"
           }
          ],
          "parcoords": [
           {
            "line": {
             "colorbar": {
              "outlinewidth": 0,
              "ticks": ""
             }
            },
            "type": "parcoords"
           }
          ],
          "pie": [
           {
            "automargin": true,
            "type": "pie"
           }
          ],
          "scatter": [
           {
            "fillpattern": {
             "fillmode": "overlay",
             "size": 10,
             "solidity": 0.2
            },
            "type": "scatter"
           }
          ],
          "scatter3d": [
           {
            "line": {
             "colorbar": {
              "outlinewidth": 0,
              "ticks": ""
             }
            },
            "marker": {
             "colorbar": {
              "outlinewidth": 0,
              "ticks": ""
             }
            },
            "type": "scatter3d"
           }
          ],
          "scattercarpet": [
           {
            "marker": {
             "colorbar": {
              "outlinewidth": 0,
              "ticks": ""
             }
            },
            "type": "scattercarpet"
           }
          ],
          "scattergeo": [
           {
            "marker": {
             "colorbar": {
              "outlinewidth": 0,
              "ticks": ""
             }
            },
            "type": "scattergeo"
           }
          ],
          "scattergl": [
           {
            "marker": {
             "colorbar": {
              "outlinewidth": 0,
              "ticks": ""
             }
            },
            "type": "scattergl"
           }
          ],
          "scattermapbox": [
           {
            "marker": {
             "colorbar": {
              "outlinewidth": 0,
              "ticks": ""
             }
            },
            "type": "scattermapbox"
           }
          ],
          "scatterpolar": [
           {
            "marker": {
             "colorbar": {
              "outlinewidth": 0,
              "ticks": ""
             }
            },
            "type": "scatterpolar"
           }
          ],
          "scatterpolargl": [
           {
            "marker": {
             "colorbar": {
              "outlinewidth": 0,
              "ticks": ""
             }
            },
            "type": "scatterpolargl"
           }
          ],
          "scatterternary": [
           {
            "marker": {
             "colorbar": {
              "outlinewidth": 0,
              "ticks": ""
             }
            },
            "type": "scatterternary"
           }
          ],
          "surface": [
           {
            "colorbar": {
             "outlinewidth": 0,
             "ticks": ""
            },
            "colorscale": [
             [
              0,
              "#0d0887"
             ],
             [
              0.1111111111111111,
              "#46039f"
             ],
             [
              0.2222222222222222,
              "#7201a8"
             ],
             [
              0.3333333333333333,
              "#9c179e"
             ],
             [
              0.4444444444444444,
              "#bd3786"
             ],
             [
              0.5555555555555556,
              "#d8576b"
             ],
             [
              0.6666666666666666,
              "#ed7953"
             ],
             [
              0.7777777777777778,
              "#fb9f3a"
             ],
             [
              0.8888888888888888,
              "#fdca26"
             ],
             [
              1,
              "#f0f921"
             ]
            ],
            "type": "surface"
           }
          ],
          "table": [
           {
            "cells": {
             "fill": {
              "color": "#EBF0F8"
             },
             "line": {
              "color": "white"
             }
            },
            "header": {
             "fill": {
              "color": "#C8D4E3"
             },
             "line": {
              "color": "white"
             }
            },
            "type": "table"
           }
          ]
         },
         "layout": {
          "annotationdefaults": {
           "arrowcolor": "#2a3f5f",
           "arrowhead": 0,
           "arrowwidth": 1
          },
          "autotypenumbers": "strict",
          "coloraxis": {
           "colorbar": {
            "outlinewidth": 0,
            "ticks": ""
           }
          },
          "colorscale": {
           "diverging": [
            [
             0,
             "#8e0152"
            ],
            [
             0.1,
             "#c51b7d"
            ],
            [
             0.2,
             "#de77ae"
            ],
            [
             0.3,
             "#f1b6da"
            ],
            [
             0.4,
             "#fde0ef"
            ],
            [
             0.5,
             "#f7f7f7"
            ],
            [
             0.6,
             "#e6f5d0"
            ],
            [
             0.7,
             "#b8e186"
            ],
            [
             0.8,
             "#7fbc41"
            ],
            [
             0.9,
             "#4d9221"
            ],
            [
             1,
             "#276419"
            ]
           ],
           "sequential": [
            [
             0,
             "#0d0887"
            ],
            [
             0.1111111111111111,
             "#46039f"
            ],
            [
             0.2222222222222222,
             "#7201a8"
            ],
            [
             0.3333333333333333,
             "#9c179e"
            ],
            [
             0.4444444444444444,
             "#bd3786"
            ],
            [
             0.5555555555555556,
             "#d8576b"
            ],
            [
             0.6666666666666666,
             "#ed7953"
            ],
            [
             0.7777777777777778,
             "#fb9f3a"
            ],
            [
             0.8888888888888888,
             "#fdca26"
            ],
            [
             1,
             "#f0f921"
            ]
           ],
           "sequentialminus": [
            [
             0,
             "#0d0887"
            ],
            [
             0.1111111111111111,
             "#46039f"
            ],
            [
             0.2222222222222222,
             "#7201a8"
            ],
            [
             0.3333333333333333,
             "#9c179e"
            ],
            [
             0.4444444444444444,
             "#bd3786"
            ],
            [
             0.5555555555555556,
             "#d8576b"
            ],
            [
             0.6666666666666666,
             "#ed7953"
            ],
            [
             0.7777777777777778,
             "#fb9f3a"
            ],
            [
             0.8888888888888888,
             "#fdca26"
            ],
            [
             1,
             "#f0f921"
            ]
           ]
          },
          "colorway": [
           "#636efa",
           "#EF553B",
           "#00cc96",
           "#ab63fa",
           "#FFA15A",
           "#19d3f3",
           "#FF6692",
           "#B6E880",
           "#FF97FF",
           "#FECB52"
          ],
          "font": {
           "color": "#2a3f5f"
          },
          "geo": {
           "bgcolor": "white",
           "lakecolor": "white",
           "landcolor": "#E5ECF6",
           "showlakes": true,
           "showland": true,
           "subunitcolor": "white"
          },
          "hoverlabel": {
           "align": "left"
          },
          "hovermode": "closest",
          "mapbox": {
           "style": "light"
          },
          "paper_bgcolor": "white",
          "plot_bgcolor": "#E5ECF6",
          "polar": {
           "angularaxis": {
            "gridcolor": "white",
            "linecolor": "white",
            "ticks": ""
           },
           "bgcolor": "#E5ECF6",
           "radialaxis": {
            "gridcolor": "white",
            "linecolor": "white",
            "ticks": ""
           }
          },
          "scene": {
           "xaxis": {
            "backgroundcolor": "#E5ECF6",
            "gridcolor": "white",
            "gridwidth": 2,
            "linecolor": "white",
            "showbackground": true,
            "ticks": "",
            "zerolinecolor": "white"
           },
           "yaxis": {
            "backgroundcolor": "#E5ECF6",
            "gridcolor": "white",
            "gridwidth": 2,
            "linecolor": "white",
            "showbackground": true,
            "ticks": "",
            "zerolinecolor": "white"
           },
           "zaxis": {
            "backgroundcolor": "#E5ECF6",
            "gridcolor": "white",
            "gridwidth": 2,
            "linecolor": "white",
            "showbackground": true,
            "ticks": "",
            "zerolinecolor": "white"
           }
          },
          "shapedefaults": {
           "line": {
            "color": "#2a3f5f"
           }
          },
          "ternary": {
           "aaxis": {
            "gridcolor": "white",
            "linecolor": "white",
            "ticks": ""
           },
           "baxis": {
            "gridcolor": "white",
            "linecolor": "white",
            "ticks": ""
           },
           "bgcolor": "#E5ECF6",
           "caxis": {
            "gridcolor": "white",
            "linecolor": "white",
            "ticks": ""
           }
          },
          "title": {
           "x": 0.05
          },
          "xaxis": {
           "automargin": true,
           "gridcolor": "white",
           "linecolor": "white",
           "ticks": "",
           "title": {
            "standoff": 15
           },
           "zerolinecolor": "white",
           "zerolinewidth": 2
          },
          "yaxis": {
           "automargin": true,
           "gridcolor": "white",
           "linecolor": "white",
           "ticks": "",
           "title": {
            "standoff": 15
           },
           "zerolinecolor": "white",
           "zerolinewidth": 2
          }
         }
        },
        "title": {
         "text": "Demanda Média e Fator de Carga - HP"
        },
        "xaxis": {
         "title": {
          "text": "Tempo (Meses)"
         }
        },
        "yaxis": {
         "range": [
          0,
          120
         ],
         "title": {
          "text": "Demanda (kW)"
         }
        }
       }
      }
     },
     "metadata": {},
     "output_type": "display_data"
    }
   ],
   "source": [
    "#Fator de Carga HP\n",
    "\n",
    "x       = []\n",
    "y1      = []\n",
    "y3      = []\n",
    "y2 = 0\n",
    "for i in range(len(input[0]['demanda HP'])):\n",
    "    y1.append(float(input[0]['demanda HP'][i]))\n",
    "    x.append(input[0]['mes'][i])\n",
    "    y2 = y2 + float(input[0]['demanda HP'][i])\n",
    "for i in range(len(input[0]['demanda HP'])):\n",
    "    y3.append(y2/12)\n",
    "\n",
    "FC = y3[0]/max(y1)\n",
    "    \n",
    "plot = go.Figure()\n",
    "plot.add_trace(go.Scatter(x=x, y=y3, name='Demanda Média               ', marker=dict(color='darkred')))\n",
    "plot.add_trace(go.Bar(x=x, y=y1, name='Demandas Registradas HP', marker=dict(color='darkblue')))\n",
    "plot.add_annotation(x=4, y=y2/12, text=str(f'Fator de Carga = {round(FC,4)}'), font=dict(size=20),\n",
    "                   showarrow=True, arrowhead=5)\n",
    "plot.update_layout(yaxis_range=[0,120], \n",
    "                   title='Demanda Média e Fator de Carga - HP',\n",
    "                   yaxis_title='Demanda (kW)',\n",
    "                   xaxis_title='Tempo (Meses)')\n",
    "plot.update_layout(font=dict(size=15)) \n",
    "plot.update_layout(legend=dict(x=0.01, y=0.01, bgcolor='rgba(255, 255, 255,0.95)'))\n",
    "plot.write_image(\"Demanda Média HP.jpg\", format=\"jpg\", scale=10, width=854, height=480)\n",
    "\n",
    "plot.show()\n",
    "\n"
   ]
  },
  {
   "cell_type": "code",
   "execution_count": 42,
   "id": "8e07ec9a",
   "metadata": {},
   "outputs": [
    {
     "data": {
      "application/vnd.plotly.v1+json": {
       "config": {
        "plotlyServerURL": "https://plot.ly"
       },
       "data": [
        {
         "marker": {
          "color": "orange"
         },
         "name": "Demanda Contratada HFP      ",
         "type": "scatter",
         "x": [
          "MAR/22",
          "ABR/22",
          "MAI/22",
          "JUN/22",
          "JUL/22",
          "AGO/22",
          "SET/22",
          "OUT/22",
          "NOV/22",
          "DEZ/22",
          "JAN/23",
          "FEV/23"
         ],
         "y": [
          145,
          145,
          145,
          145,
          145,
          145,
          145,
          145,
          145,
          145,
          145,
          145
         ]
        },
        {
         "marker": {
          "color": "red"
         },
         "name": "Demanda Contratada HP",
         "type": "scatter",
         "x": [
          "MAR/22",
          "ABR/22",
          "MAI/22",
          "JUN/22",
          "JUL/22",
          "AGO/22",
          "SET/22",
          "OUT/22",
          "NOV/22",
          "DEZ/22",
          "JAN/23",
          "FEV/23"
         ],
         "y": [
          145,
          145,
          145,
          145,
          145,
          145,
          145,
          145,
          145,
          145,
          145,
          145
         ]
        },
        {
         "marker": {
          "color": "blue"
         },
         "name": "Demandas Registradas HFP",
         "type": "bar",
         "x": [
          "MAR/22",
          "ABR/22",
          "MAI/22",
          "JUN/22",
          "JUL/22",
          "AGO/22",
          "SET/22",
          "OUT/22",
          "NOV/22",
          "DEZ/22",
          "JAN/23",
          "FEV/23"
         ],
         "y": [
          106,
          94,
          89,
          79,
          77,
          82,
          89,
          91,
          79,
          94,
          89,
          97
         ]
        },
        {
         "marker": {
          "color": "darkblue"
         },
         "name": "Demandas Registradas HP",
         "type": "bar",
         "x": [
          "MAR/22",
          "ABR/22",
          "MAI/22",
          "JUN/22",
          "JUL/22",
          "AGO/22",
          "SET/22",
          "OUT/22",
          "NOV/22",
          "DEZ/22",
          "JAN/23",
          "FEV/23"
         ],
         "y": [
          94,
          96,
          79,
          79,
          72,
          77,
          77,
          84,
          72,
          74,
          82,
          86
         ]
        }
       ],
       "layout": {
        "font": {
         "size": 15
        },
        "legend": {
         "bgcolor": "rgba(255, 255, 255,0.95)",
         "x": 0.01,
         "y": 0.01
        },
        "template": {
         "data": {
          "bar": [
           {
            "error_x": {
             "color": "#2a3f5f"
            },
            "error_y": {
             "color": "#2a3f5f"
            },
            "marker": {
             "line": {
              "color": "#E5ECF6",
              "width": 0.5
             },
             "pattern": {
              "fillmode": "overlay",
              "size": 10,
              "solidity": 0.2
             }
            },
            "type": "bar"
           }
          ],
          "barpolar": [
           {
            "marker": {
             "line": {
              "color": "#E5ECF6",
              "width": 0.5
             },
             "pattern": {
              "fillmode": "overlay",
              "size": 10,
              "solidity": 0.2
             }
            },
            "type": "barpolar"
           }
          ],
          "carpet": [
           {
            "aaxis": {
             "endlinecolor": "#2a3f5f",
             "gridcolor": "white",
             "linecolor": "white",
             "minorgridcolor": "white",
             "startlinecolor": "#2a3f5f"
            },
            "baxis": {
             "endlinecolor": "#2a3f5f",
             "gridcolor": "white",
             "linecolor": "white",
             "minorgridcolor": "white",
             "startlinecolor": "#2a3f5f"
            },
            "type": "carpet"
           }
          ],
          "choropleth": [
           {
            "colorbar": {
             "outlinewidth": 0,
             "ticks": ""
            },
            "type": "choropleth"
           }
          ],
          "contour": [
           {
            "colorbar": {
             "outlinewidth": 0,
             "ticks": ""
            },
            "colorscale": [
             [
              0,
              "#0d0887"
             ],
             [
              0.1111111111111111,
              "#46039f"
             ],
             [
              0.2222222222222222,
              "#7201a8"
             ],
             [
              0.3333333333333333,
              "#9c179e"
             ],
             [
              0.4444444444444444,
              "#bd3786"
             ],
             [
              0.5555555555555556,
              "#d8576b"
             ],
             [
              0.6666666666666666,
              "#ed7953"
             ],
             [
              0.7777777777777778,
              "#fb9f3a"
             ],
             [
              0.8888888888888888,
              "#fdca26"
             ],
             [
              1,
              "#f0f921"
             ]
            ],
            "type": "contour"
           }
          ],
          "contourcarpet": [
           {
            "colorbar": {
             "outlinewidth": 0,
             "ticks": ""
            },
            "type": "contourcarpet"
           }
          ],
          "heatmap": [
           {
            "colorbar": {
             "outlinewidth": 0,
             "ticks": ""
            },
            "colorscale": [
             [
              0,
              "#0d0887"
             ],
             [
              0.1111111111111111,
              "#46039f"
             ],
             [
              0.2222222222222222,
              "#7201a8"
             ],
             [
              0.3333333333333333,
              "#9c179e"
             ],
             [
              0.4444444444444444,
              "#bd3786"
             ],
             [
              0.5555555555555556,
              "#d8576b"
             ],
             [
              0.6666666666666666,
              "#ed7953"
             ],
             [
              0.7777777777777778,
              "#fb9f3a"
             ],
             [
              0.8888888888888888,
              "#fdca26"
             ],
             [
              1,
              "#f0f921"
             ]
            ],
            "type": "heatmap"
           }
          ],
          "heatmapgl": [
           {
            "colorbar": {
             "outlinewidth": 0,
             "ticks": ""
            },
            "colorscale": [
             [
              0,
              "#0d0887"
             ],
             [
              0.1111111111111111,
              "#46039f"
             ],
             [
              0.2222222222222222,
              "#7201a8"
             ],
             [
              0.3333333333333333,
              "#9c179e"
             ],
             [
              0.4444444444444444,
              "#bd3786"
             ],
             [
              0.5555555555555556,
              "#d8576b"
             ],
             [
              0.6666666666666666,
              "#ed7953"
             ],
             [
              0.7777777777777778,
              "#fb9f3a"
             ],
             [
              0.8888888888888888,
              "#fdca26"
             ],
             [
              1,
              "#f0f921"
             ]
            ],
            "type": "heatmapgl"
           }
          ],
          "histogram": [
           {
            "marker": {
             "pattern": {
              "fillmode": "overlay",
              "size": 10,
              "solidity": 0.2
             }
            },
            "type": "histogram"
           }
          ],
          "histogram2d": [
           {
            "colorbar": {
             "outlinewidth": 0,
             "ticks": ""
            },
            "colorscale": [
             [
              0,
              "#0d0887"
             ],
             [
              0.1111111111111111,
              "#46039f"
             ],
             [
              0.2222222222222222,
              "#7201a8"
             ],
             [
              0.3333333333333333,
              "#9c179e"
             ],
             [
              0.4444444444444444,
              "#bd3786"
             ],
             [
              0.5555555555555556,
              "#d8576b"
             ],
             [
              0.6666666666666666,
              "#ed7953"
             ],
             [
              0.7777777777777778,
              "#fb9f3a"
             ],
             [
              0.8888888888888888,
              "#fdca26"
             ],
             [
              1,
              "#f0f921"
             ]
            ],
            "type": "histogram2d"
           }
          ],
          "histogram2dcontour": [
           {
            "colorbar": {
             "outlinewidth": 0,
             "ticks": ""
            },
            "colorscale": [
             [
              0,
              "#0d0887"
             ],
             [
              0.1111111111111111,
              "#46039f"
             ],
             [
              0.2222222222222222,
              "#7201a8"
             ],
             [
              0.3333333333333333,
              "#9c179e"
             ],
             [
              0.4444444444444444,
              "#bd3786"
             ],
             [
              0.5555555555555556,
              "#d8576b"
             ],
             [
              0.6666666666666666,
              "#ed7953"
             ],
             [
              0.7777777777777778,
              "#fb9f3a"
             ],
             [
              0.8888888888888888,
              "#fdca26"
             ],
             [
              1,
              "#f0f921"
             ]
            ],
            "type": "histogram2dcontour"
           }
          ],
          "mesh3d": [
           {
            "colorbar": {
             "outlinewidth": 0,
             "ticks": ""
            },
            "type": "mesh3d"
           }
          ],
          "parcoords": [
           {
            "line": {
             "colorbar": {
              "outlinewidth": 0,
              "ticks": ""
             }
            },
            "type": "parcoords"
           }
          ],
          "pie": [
           {
            "automargin": true,
            "type": "pie"
           }
          ],
          "scatter": [
           {
            "fillpattern": {
             "fillmode": "overlay",
             "size": 10,
             "solidity": 0.2
            },
            "type": "scatter"
           }
          ],
          "scatter3d": [
           {
            "line": {
             "colorbar": {
              "outlinewidth": 0,
              "ticks": ""
             }
            },
            "marker": {
             "colorbar": {
              "outlinewidth": 0,
              "ticks": ""
             }
            },
            "type": "scatter3d"
           }
          ],
          "scattercarpet": [
           {
            "marker": {
             "colorbar": {
              "outlinewidth": 0,
              "ticks": ""
             }
            },
            "type": "scattercarpet"
           }
          ],
          "scattergeo": [
           {
            "marker": {
             "colorbar": {
              "outlinewidth": 0,
              "ticks": ""
             }
            },
            "type": "scattergeo"
           }
          ],
          "scattergl": [
           {
            "marker": {
             "colorbar": {
              "outlinewidth": 0,
              "ticks": ""
             }
            },
            "type": "scattergl"
           }
          ],
          "scattermapbox": [
           {
            "marker": {
             "colorbar": {
              "outlinewidth": 0,
              "ticks": ""
             }
            },
            "type": "scattermapbox"
           }
          ],
          "scatterpolar": [
           {
            "marker": {
             "colorbar": {
              "outlinewidth": 0,
              "ticks": ""
             }
            },
            "type": "scatterpolar"
           }
          ],
          "scatterpolargl": [
           {
            "marker": {
             "colorbar": {
              "outlinewidth": 0,
              "ticks": ""
             }
            },
            "type": "scatterpolargl"
           }
          ],
          "scatterternary": [
           {
            "marker": {
             "colorbar": {
              "outlinewidth": 0,
              "ticks": ""
             }
            },
            "type": "scatterternary"
           }
          ],
          "surface": [
           {
            "colorbar": {
             "outlinewidth": 0,
             "ticks": ""
            },
            "colorscale": [
             [
              0,
              "#0d0887"
             ],
             [
              0.1111111111111111,
              "#46039f"
             ],
             [
              0.2222222222222222,
              "#7201a8"
             ],
             [
              0.3333333333333333,
              "#9c179e"
             ],
             [
              0.4444444444444444,
              "#bd3786"
             ],
             [
              0.5555555555555556,
              "#d8576b"
             ],
             [
              0.6666666666666666,
              "#ed7953"
             ],
             [
              0.7777777777777778,
              "#fb9f3a"
             ],
             [
              0.8888888888888888,
              "#fdca26"
             ],
             [
              1,
              "#f0f921"
             ]
            ],
            "type": "surface"
           }
          ],
          "table": [
           {
            "cells": {
             "fill": {
              "color": "#EBF0F8"
             },
             "line": {
              "color": "white"
             }
            },
            "header": {
             "fill": {
              "color": "#C8D4E3"
             },
             "line": {
              "color": "white"
             }
            },
            "type": "table"
           }
          ]
         },
         "layout": {
          "annotationdefaults": {
           "arrowcolor": "#2a3f5f",
           "arrowhead": 0,
           "arrowwidth": 1
          },
          "autotypenumbers": "strict",
          "coloraxis": {
           "colorbar": {
            "outlinewidth": 0,
            "ticks": ""
           }
          },
          "colorscale": {
           "diverging": [
            [
             0,
             "#8e0152"
            ],
            [
             0.1,
             "#c51b7d"
            ],
            [
             0.2,
             "#de77ae"
            ],
            [
             0.3,
             "#f1b6da"
            ],
            [
             0.4,
             "#fde0ef"
            ],
            [
             0.5,
             "#f7f7f7"
            ],
            [
             0.6,
             "#e6f5d0"
            ],
            [
             0.7,
             "#b8e186"
            ],
            [
             0.8,
             "#7fbc41"
            ],
            [
             0.9,
             "#4d9221"
            ],
            [
             1,
             "#276419"
            ]
           ],
           "sequential": [
            [
             0,
             "#0d0887"
            ],
            [
             0.1111111111111111,
             "#46039f"
            ],
            [
             0.2222222222222222,
             "#7201a8"
            ],
            [
             0.3333333333333333,
             "#9c179e"
            ],
            [
             0.4444444444444444,
             "#bd3786"
            ],
            [
             0.5555555555555556,
             "#d8576b"
            ],
            [
             0.6666666666666666,
             "#ed7953"
            ],
            [
             0.7777777777777778,
             "#fb9f3a"
            ],
            [
             0.8888888888888888,
             "#fdca26"
            ],
            [
             1,
             "#f0f921"
            ]
           ],
           "sequentialminus": [
            [
             0,
             "#0d0887"
            ],
            [
             0.1111111111111111,
             "#46039f"
            ],
            [
             0.2222222222222222,
             "#7201a8"
            ],
            [
             0.3333333333333333,
             "#9c179e"
            ],
            [
             0.4444444444444444,
             "#bd3786"
            ],
            [
             0.5555555555555556,
             "#d8576b"
            ],
            [
             0.6666666666666666,
             "#ed7953"
            ],
            [
             0.7777777777777778,
             "#fb9f3a"
            ],
            [
             0.8888888888888888,
             "#fdca26"
            ],
            [
             1,
             "#f0f921"
            ]
           ]
          },
          "colorway": [
           "#636efa",
           "#EF553B",
           "#00cc96",
           "#ab63fa",
           "#FFA15A",
           "#19d3f3",
           "#FF6692",
           "#B6E880",
           "#FF97FF",
           "#FECB52"
          ],
          "font": {
           "color": "#2a3f5f"
          },
          "geo": {
           "bgcolor": "white",
           "lakecolor": "white",
           "landcolor": "#E5ECF6",
           "showlakes": true,
           "showland": true,
           "subunitcolor": "white"
          },
          "hoverlabel": {
           "align": "left"
          },
          "hovermode": "closest",
          "mapbox": {
           "style": "light"
          },
          "paper_bgcolor": "white",
          "plot_bgcolor": "#E5ECF6",
          "polar": {
           "angularaxis": {
            "gridcolor": "white",
            "linecolor": "white",
            "ticks": ""
           },
           "bgcolor": "#E5ECF6",
           "radialaxis": {
            "gridcolor": "white",
            "linecolor": "white",
            "ticks": ""
           }
          },
          "scene": {
           "xaxis": {
            "backgroundcolor": "#E5ECF6",
            "gridcolor": "white",
            "gridwidth": 2,
            "linecolor": "white",
            "showbackground": true,
            "ticks": "",
            "zerolinecolor": "white"
           },
           "yaxis": {
            "backgroundcolor": "#E5ECF6",
            "gridcolor": "white",
            "gridwidth": 2,
            "linecolor": "white",
            "showbackground": true,
            "ticks": "",
            "zerolinecolor": "white"
           },
           "zaxis": {
            "backgroundcolor": "#E5ECF6",
            "gridcolor": "white",
            "gridwidth": 2,
            "linecolor": "white",
            "showbackground": true,
            "ticks": "",
            "zerolinecolor": "white"
           }
          },
          "shapedefaults": {
           "line": {
            "color": "#2a3f5f"
           }
          },
          "ternary": {
           "aaxis": {
            "gridcolor": "white",
            "linecolor": "white",
            "ticks": ""
           },
           "baxis": {
            "gridcolor": "white",
            "linecolor": "white",
            "ticks": ""
           },
           "bgcolor": "#E5ECF6",
           "caxis": {
            "gridcolor": "white",
            "linecolor": "white",
            "ticks": ""
           }
          },
          "title": {
           "x": 0.05
          },
          "xaxis": {
           "automargin": true,
           "gridcolor": "white",
           "linecolor": "white",
           "ticks": "",
           "title": {
            "standoff": 15
           },
           "zerolinecolor": "white",
           "zerolinewidth": 2
          },
          "yaxis": {
           "automargin": true,
           "gridcolor": "white",
           "linecolor": "white",
           "ticks": "",
           "title": {
            "standoff": 15
           },
           "zerolinecolor": "white",
           "zerolinewidth": 2
          }
         }
        },
        "title": {
         "text": "Demandas Registradas e Contratadas - Atual"
        },
        "xaxis": {
         "title": {
          "text": "Tempo (Meses)"
         }
        },
        "yaxis": {
         "range": [
          0,
          160
         ],
         "title": {
          "text": "Demanda (kW)"
         }
        }
       }
      }
     },
     "metadata": {},
     "output_type": "display_data"
    }
   ],
   "source": [
    "x       = []\n",
    "y1      = []\n",
    "y2      = []\n",
    "y3      = []\n",
    "y4      = []  \n",
    "\n",
    "\n",
    "for i in range(len(input[0]['demanda HFP'])):\n",
    "    y1.append(float(input[2]['demanda atual HFP/unica']))\n",
    "    y2.append(float(input[2]['demanda atual HP']))\n",
    "\n",
    "for i in range(len(input[0]['demanda HFP'])):\n",
    "    y3.append(float(input[0]['demanda HFP'][i]))\n",
    "    x.append(input[0]['mes'][i])\n",
    "\n",
    "for i in range(len(input[0]['demanda HP'])):\n",
    "    y4.append(float(input[0]['demanda HP'][i]))\n",
    "\n",
    "\n",
    "plot = go.Figure()\n",
    "plot.add_trace(go.Scatter(x=x, y=y1, name='Demanda Contratada HFP      ', marker=dict(color='orange')))\n",
    "plot.add_trace(go.Scatter(x=x, y=y2, name='Demanda Contratada HP', marker=dict(color='red')))\n",
    "plot.add_trace(go.Bar(x=x, y=y3, name='Demandas Registradas HFP', marker=dict(color='blue')))\n",
    "plot.add_trace(go.Bar(x=x, y=y4, name='Demandas Registradas HP', marker=dict(color='darkblue')))\n",
    "plot.update_layout(yaxis_range=[0,160], \n",
    "                   title='Demandas Registradas e Contratadas - Atual',\n",
    "                   yaxis_title='Demanda (kW)',\n",
    "                   xaxis_title='Tempo (Meses)')\n",
    "plot.update_layout(legend=dict(x=0.01, y=0.01, bgcolor='rgba(255, 255, 255,0.95)'))\n",
    "plot.update_layout(font=dict(size=15)) \n",
    "plot.write_image(\"Demandas Atualmente.jpg\", format=\"jpg\", scale=10, width=854, height=480)\n",
    "\n",
    "plot.show()"
   ]
  },
  {
   "cell_type": "code",
   "execution_count": 43,
   "id": "f4844447",
   "metadata": {},
   "outputs": [
    {
     "data": {
      "application/vnd.plotly.v1+json": {
       "config": {
        "plotlyServerURL": "https://plot.ly"
       },
       "data": [
        {
         "marker": {
          "color": "orange"
         },
         "name": "Demanda Contratada HFP      ",
         "type": "scatter",
         "x": [
          "MAR/22",
          "ABR/22",
          "MAI/22",
          "JUN/22",
          "JUL/22",
          "AGO/22",
          "SET/22",
          "OUT/22",
          "NOV/22",
          "DEZ/22",
          "JAN/23",
          "FEV/23"
         ],
         "y": [
          145,
          145,
          145,
          145,
          145,
          145,
          145,
          145,
          145,
          145,
          145,
          145
         ]
        },
        {
         "marker": {
          "color": "blue"
         },
         "name": "Demandas Registradas HFP",
         "type": "bar",
         "x": [
          "MAR/22",
          "ABR/22",
          "MAI/22",
          "JUN/22",
          "JUL/22",
          "AGO/22",
          "SET/22",
          "OUT/22",
          "NOV/22",
          "DEZ/22",
          "JAN/23",
          "FEV/23"
         ],
         "y": [
          106,
          94,
          89,
          79,
          77,
          82,
          89,
          91,
          79,
          94,
          89,
          97
         ]
        }
       ],
       "layout": {
        "font": {
         "size": 15
        },
        "legend": {
         "bgcolor": "rgba(255, 255, 255,0.95)",
         "x": 0.01,
         "y": 0.01
        },
        "template": {
         "data": {
          "bar": [
           {
            "error_x": {
             "color": "#2a3f5f"
            },
            "error_y": {
             "color": "#2a3f5f"
            },
            "marker": {
             "line": {
              "color": "#E5ECF6",
              "width": 0.5
             },
             "pattern": {
              "fillmode": "overlay",
              "size": 10,
              "solidity": 0.2
             }
            },
            "type": "bar"
           }
          ],
          "barpolar": [
           {
            "marker": {
             "line": {
              "color": "#E5ECF6",
              "width": 0.5
             },
             "pattern": {
              "fillmode": "overlay",
              "size": 10,
              "solidity": 0.2
             }
            },
            "type": "barpolar"
           }
          ],
          "carpet": [
           {
            "aaxis": {
             "endlinecolor": "#2a3f5f",
             "gridcolor": "white",
             "linecolor": "white",
             "minorgridcolor": "white",
             "startlinecolor": "#2a3f5f"
            },
            "baxis": {
             "endlinecolor": "#2a3f5f",
             "gridcolor": "white",
             "linecolor": "white",
             "minorgridcolor": "white",
             "startlinecolor": "#2a3f5f"
            },
            "type": "carpet"
           }
          ],
          "choropleth": [
           {
            "colorbar": {
             "outlinewidth": 0,
             "ticks": ""
            },
            "type": "choropleth"
           }
          ],
          "contour": [
           {
            "colorbar": {
             "outlinewidth": 0,
             "ticks": ""
            },
            "colorscale": [
             [
              0,
              "#0d0887"
             ],
             [
              0.1111111111111111,
              "#46039f"
             ],
             [
              0.2222222222222222,
              "#7201a8"
             ],
             [
              0.3333333333333333,
              "#9c179e"
             ],
             [
              0.4444444444444444,
              "#bd3786"
             ],
             [
              0.5555555555555556,
              "#d8576b"
             ],
             [
              0.6666666666666666,
              "#ed7953"
             ],
             [
              0.7777777777777778,
              "#fb9f3a"
             ],
             [
              0.8888888888888888,
              "#fdca26"
             ],
             [
              1,
              "#f0f921"
             ]
            ],
            "type": "contour"
           }
          ],
          "contourcarpet": [
           {
            "colorbar": {
             "outlinewidth": 0,
             "ticks": ""
            },
            "type": "contourcarpet"
           }
          ],
          "heatmap": [
           {
            "colorbar": {
             "outlinewidth": 0,
             "ticks": ""
            },
            "colorscale": [
             [
              0,
              "#0d0887"
             ],
             [
              0.1111111111111111,
              "#46039f"
             ],
             [
              0.2222222222222222,
              "#7201a8"
             ],
             [
              0.3333333333333333,
              "#9c179e"
             ],
             [
              0.4444444444444444,
              "#bd3786"
             ],
             [
              0.5555555555555556,
              "#d8576b"
             ],
             [
              0.6666666666666666,
              "#ed7953"
             ],
             [
              0.7777777777777778,
              "#fb9f3a"
             ],
             [
              0.8888888888888888,
              "#fdca26"
             ],
             [
              1,
              "#f0f921"
             ]
            ],
            "type": "heatmap"
           }
          ],
          "heatmapgl": [
           {
            "colorbar": {
             "outlinewidth": 0,
             "ticks": ""
            },
            "colorscale": [
             [
              0,
              "#0d0887"
             ],
             [
              0.1111111111111111,
              "#46039f"
             ],
             [
              0.2222222222222222,
              "#7201a8"
             ],
             [
              0.3333333333333333,
              "#9c179e"
             ],
             [
              0.4444444444444444,
              "#bd3786"
             ],
             [
              0.5555555555555556,
              "#d8576b"
             ],
             [
              0.6666666666666666,
              "#ed7953"
             ],
             [
              0.7777777777777778,
              "#fb9f3a"
             ],
             [
              0.8888888888888888,
              "#fdca26"
             ],
             [
              1,
              "#f0f921"
             ]
            ],
            "type": "heatmapgl"
           }
          ],
          "histogram": [
           {
            "marker": {
             "pattern": {
              "fillmode": "overlay",
              "size": 10,
              "solidity": 0.2
             }
            },
            "type": "histogram"
           }
          ],
          "histogram2d": [
           {
            "colorbar": {
             "outlinewidth": 0,
             "ticks": ""
            },
            "colorscale": [
             [
              0,
              "#0d0887"
             ],
             [
              0.1111111111111111,
              "#46039f"
             ],
             [
              0.2222222222222222,
              "#7201a8"
             ],
             [
              0.3333333333333333,
              "#9c179e"
             ],
             [
              0.4444444444444444,
              "#bd3786"
             ],
             [
              0.5555555555555556,
              "#d8576b"
             ],
             [
              0.6666666666666666,
              "#ed7953"
             ],
             [
              0.7777777777777778,
              "#fb9f3a"
             ],
             [
              0.8888888888888888,
              "#fdca26"
             ],
             [
              1,
              "#f0f921"
             ]
            ],
            "type": "histogram2d"
           }
          ],
          "histogram2dcontour": [
           {
            "colorbar": {
             "outlinewidth": 0,
             "ticks": ""
            },
            "colorscale": [
             [
              0,
              "#0d0887"
             ],
             [
              0.1111111111111111,
              "#46039f"
             ],
             [
              0.2222222222222222,
              "#7201a8"
             ],
             [
              0.3333333333333333,
              "#9c179e"
             ],
             [
              0.4444444444444444,
              "#bd3786"
             ],
             [
              0.5555555555555556,
              "#d8576b"
             ],
             [
              0.6666666666666666,
              "#ed7953"
             ],
             [
              0.7777777777777778,
              "#fb9f3a"
             ],
             [
              0.8888888888888888,
              "#fdca26"
             ],
             [
              1,
              "#f0f921"
             ]
            ],
            "type": "histogram2dcontour"
           }
          ],
          "mesh3d": [
           {
            "colorbar": {
             "outlinewidth": 0,
             "ticks": ""
            },
            "type": "mesh3d"
           }
          ],
          "parcoords": [
           {
            "line": {
             "colorbar": {
              "outlinewidth": 0,
              "ticks": ""
             }
            },
            "type": "parcoords"
           }
          ],
          "pie": [
           {
            "automargin": true,
            "type": "pie"
           }
          ],
          "scatter": [
           {
            "fillpattern": {
             "fillmode": "overlay",
             "size": 10,
             "solidity": 0.2
            },
            "type": "scatter"
           }
          ],
          "scatter3d": [
           {
            "line": {
             "colorbar": {
              "outlinewidth": 0,
              "ticks": ""
             }
            },
            "marker": {
             "colorbar": {
              "outlinewidth": 0,
              "ticks": ""
             }
            },
            "type": "scatter3d"
           }
          ],
          "scattercarpet": [
           {
            "marker": {
             "colorbar": {
              "outlinewidth": 0,
              "ticks": ""
             }
            },
            "type": "scattercarpet"
           }
          ],
          "scattergeo": [
           {
            "marker": {
             "colorbar": {
              "outlinewidth": 0,
              "ticks": ""
             }
            },
            "type": "scattergeo"
           }
          ],
          "scattergl": [
           {
            "marker": {
             "colorbar": {
              "outlinewidth": 0,
              "ticks": ""
             }
            },
            "type": "scattergl"
           }
          ],
          "scattermapbox": [
           {
            "marker": {
             "colorbar": {
              "outlinewidth": 0,
              "ticks": ""
             }
            },
            "type": "scattermapbox"
           }
          ],
          "scatterpolar": [
           {
            "marker": {
             "colorbar": {
              "outlinewidth": 0,
              "ticks": ""
             }
            },
            "type": "scatterpolar"
           }
          ],
          "scatterpolargl": [
           {
            "marker": {
             "colorbar": {
              "outlinewidth": 0,
              "ticks": ""
             }
            },
            "type": "scatterpolargl"
           }
          ],
          "scatterternary": [
           {
            "marker": {
             "colorbar": {
              "outlinewidth": 0,
              "ticks": ""
             }
            },
            "type": "scatterternary"
           }
          ],
          "surface": [
           {
            "colorbar": {
             "outlinewidth": 0,
             "ticks": ""
            },
            "colorscale": [
             [
              0,
              "#0d0887"
             ],
             [
              0.1111111111111111,
              "#46039f"
             ],
             [
              0.2222222222222222,
              "#7201a8"
             ],
             [
              0.3333333333333333,
              "#9c179e"
             ],
             [
              0.4444444444444444,
              "#bd3786"
             ],
             [
              0.5555555555555556,
              "#d8576b"
             ],
             [
              0.6666666666666666,
              "#ed7953"
             ],
             [
              0.7777777777777778,
              "#fb9f3a"
             ],
             [
              0.8888888888888888,
              "#fdca26"
             ],
             [
              1,
              "#f0f921"
             ]
            ],
            "type": "surface"
           }
          ],
          "table": [
           {
            "cells": {
             "fill": {
              "color": "#EBF0F8"
             },
             "line": {
              "color": "white"
             }
            },
            "header": {
             "fill": {
              "color": "#C8D4E3"
             },
             "line": {
              "color": "white"
             }
            },
            "type": "table"
           }
          ]
         },
         "layout": {
          "annotationdefaults": {
           "arrowcolor": "#2a3f5f",
           "arrowhead": 0,
           "arrowwidth": 1
          },
          "autotypenumbers": "strict",
          "coloraxis": {
           "colorbar": {
            "outlinewidth": 0,
            "ticks": ""
           }
          },
          "colorscale": {
           "diverging": [
            [
             0,
             "#8e0152"
            ],
            [
             0.1,
             "#c51b7d"
            ],
            [
             0.2,
             "#de77ae"
            ],
            [
             0.3,
             "#f1b6da"
            ],
            [
             0.4,
             "#fde0ef"
            ],
            [
             0.5,
             "#f7f7f7"
            ],
            [
             0.6,
             "#e6f5d0"
            ],
            [
             0.7,
             "#b8e186"
            ],
            [
             0.8,
             "#7fbc41"
            ],
            [
             0.9,
             "#4d9221"
            ],
            [
             1,
             "#276419"
            ]
           ],
           "sequential": [
            [
             0,
             "#0d0887"
            ],
            [
             0.1111111111111111,
             "#46039f"
            ],
            [
             0.2222222222222222,
             "#7201a8"
            ],
            [
             0.3333333333333333,
             "#9c179e"
            ],
            [
             0.4444444444444444,
             "#bd3786"
            ],
            [
             0.5555555555555556,
             "#d8576b"
            ],
            [
             0.6666666666666666,
             "#ed7953"
            ],
            [
             0.7777777777777778,
             "#fb9f3a"
            ],
            [
             0.8888888888888888,
             "#fdca26"
            ],
            [
             1,
             "#f0f921"
            ]
           ],
           "sequentialminus": [
            [
             0,
             "#0d0887"
            ],
            [
             0.1111111111111111,
             "#46039f"
            ],
            [
             0.2222222222222222,
             "#7201a8"
            ],
            [
             0.3333333333333333,
             "#9c179e"
            ],
            [
             0.4444444444444444,
             "#bd3786"
            ],
            [
             0.5555555555555556,
             "#d8576b"
            ],
            [
             0.6666666666666666,
             "#ed7953"
            ],
            [
             0.7777777777777778,
             "#fb9f3a"
            ],
            [
             0.8888888888888888,
             "#fdca26"
            ],
            [
             1,
             "#f0f921"
            ]
           ]
          },
          "colorway": [
           "#636efa",
           "#EF553B",
           "#00cc96",
           "#ab63fa",
           "#FFA15A",
           "#19d3f3",
           "#FF6692",
           "#B6E880",
           "#FF97FF",
           "#FECB52"
          ],
          "font": {
           "color": "#2a3f5f"
          },
          "geo": {
           "bgcolor": "white",
           "lakecolor": "white",
           "landcolor": "#E5ECF6",
           "showlakes": true,
           "showland": true,
           "subunitcolor": "white"
          },
          "hoverlabel": {
           "align": "left"
          },
          "hovermode": "closest",
          "mapbox": {
           "style": "light"
          },
          "paper_bgcolor": "white",
          "plot_bgcolor": "#E5ECF6",
          "polar": {
           "angularaxis": {
            "gridcolor": "white",
            "linecolor": "white",
            "ticks": ""
           },
           "bgcolor": "#E5ECF6",
           "radialaxis": {
            "gridcolor": "white",
            "linecolor": "white",
            "ticks": ""
           }
          },
          "scene": {
           "xaxis": {
            "backgroundcolor": "#E5ECF6",
            "gridcolor": "white",
            "gridwidth": 2,
            "linecolor": "white",
            "showbackground": true,
            "ticks": "",
            "zerolinecolor": "white"
           },
           "yaxis": {
            "backgroundcolor": "#E5ECF6",
            "gridcolor": "white",
            "gridwidth": 2,
            "linecolor": "white",
            "showbackground": true,
            "ticks": "",
            "zerolinecolor": "white"
           },
           "zaxis": {
            "backgroundcolor": "#E5ECF6",
            "gridcolor": "white",
            "gridwidth": 2,
            "linecolor": "white",
            "showbackground": true,
            "ticks": "",
            "zerolinecolor": "white"
           }
          },
          "shapedefaults": {
           "line": {
            "color": "#2a3f5f"
           }
          },
          "ternary": {
           "aaxis": {
            "gridcolor": "white",
            "linecolor": "white",
            "ticks": ""
           },
           "baxis": {
            "gridcolor": "white",
            "linecolor": "white",
            "ticks": ""
           },
           "bgcolor": "#E5ECF6",
           "caxis": {
            "gridcolor": "white",
            "linecolor": "white",
            "ticks": ""
           }
          },
          "title": {
           "x": 0.05
          },
          "xaxis": {
           "automargin": true,
           "gridcolor": "white",
           "linecolor": "white",
           "ticks": "",
           "title": {
            "standoff": 15
           },
           "zerolinecolor": "white",
           "zerolinewidth": 2
          },
          "yaxis": {
           "automargin": true,
           "gridcolor": "white",
           "linecolor": "white",
           "ticks": "",
           "title": {
            "standoff": 15
           },
           "zerolinecolor": "white",
           "zerolinewidth": 2
          }
         }
        },
        "title": {
         "text": "Demandas Registradas HFP - Atualmente"
        },
        "xaxis": {
         "title": {
          "text": "Tempo (Meses)"
         }
        },
        "yaxis": {
         "range": [
          0,
          160
         ],
         "title": {
          "text": "Demanda (kW)"
         }
        }
       }
      }
     },
     "metadata": {},
     "output_type": "display_data"
    }
   ],
   "source": [
    "x       = []\n",
    "y1      = []\n",
    "y3      = []\n",
    "\n",
    "for i in range(len(input[0]['demanda HFP'])):\n",
    "    y1.append(float(input[2]['demanda atual HFP/unica']))\n",
    "\n",
    "for i in range(len(input[0]['demanda HFP'])):\n",
    "    y3.append(float(input[0]['demanda HFP'][i]))\n",
    "    x.append(input[0]['mes'][i])\n",
    "\n",
    "plot = go.Figure()\n",
    "plot.add_trace(go.Scatter(x=x, y=y1, name='Demanda Contratada HFP      ', marker=dict(color='orange')))\n",
    "plot.add_trace(go.Bar(x=x, y=y3, name='Demandas Registradas HFP', marker=dict(color='blue')))\n",
    "plot.update_layout(yaxis_range=[0,160], \n",
    "                   title='Demandas Registradas HFP - Atualmente',\n",
    "                   yaxis_title='Demanda (kW)',\n",
    "                   xaxis_title='Tempo (Meses)')\n",
    "plot.update_layout(legend=dict(x=0.01, y=0.01, bgcolor='rgba(255, 255, 255,0.95)'))\n",
    "plot.update_layout(font=dict(size=15)) \n",
    "plot.write_image(\"Demandas HFP - Atualmente.jpg\", format=\"jpg\", scale=10, width=854, height=480)\n",
    "\n",
    "plot.show()"
   ]
  },
  {
   "cell_type": "code",
   "execution_count": 44,
   "id": "7b36b972",
   "metadata": {},
   "outputs": [
    {
     "data": {
      "application/vnd.plotly.v1+json": {
       "config": {
        "plotlyServerURL": "https://plot.ly"
       },
       "data": [
        {
         "marker": {
          "color": "red"
         },
         "name": "Demanda Contratada HP      ",
         "type": "scatter",
         "x": [
          "MAR/22",
          "ABR/22",
          "MAI/22",
          "JUN/22",
          "JUL/22",
          "AGO/22",
          "SET/22",
          "OUT/22",
          "NOV/22",
          "DEZ/22",
          "JAN/23",
          "FEV/23"
         ],
         "y": [
          145,
          145,
          145,
          145,
          145,
          145,
          145,
          145,
          145,
          145,
          145,
          145
         ]
        },
        {
         "marker": {
          "color": "darkblue"
         },
         "name": "Demandas Registradas HP",
         "type": "bar",
         "x": [
          "MAR/22",
          "ABR/22",
          "MAI/22",
          "JUN/22",
          "JUL/22",
          "AGO/22",
          "SET/22",
          "OUT/22",
          "NOV/22",
          "DEZ/22",
          "JAN/23",
          "FEV/23"
         ],
         "y": [
          94,
          96,
          79,
          79,
          72,
          77,
          77,
          84,
          72,
          74,
          82,
          86
         ]
        }
       ],
       "layout": {
        "font": {
         "size": 15
        },
        "legend": {
         "bgcolor": "rgba(255, 255, 255,0.95)",
         "x": 0.01,
         "y": 0.01
        },
        "template": {
         "data": {
          "bar": [
           {
            "error_x": {
             "color": "#2a3f5f"
            },
            "error_y": {
             "color": "#2a3f5f"
            },
            "marker": {
             "line": {
              "color": "#E5ECF6",
              "width": 0.5
             },
             "pattern": {
              "fillmode": "overlay",
              "size": 10,
              "solidity": 0.2
             }
            },
            "type": "bar"
           }
          ],
          "barpolar": [
           {
            "marker": {
             "line": {
              "color": "#E5ECF6",
              "width": 0.5
             },
             "pattern": {
              "fillmode": "overlay",
              "size": 10,
              "solidity": 0.2
             }
            },
            "type": "barpolar"
           }
          ],
          "carpet": [
           {
            "aaxis": {
             "endlinecolor": "#2a3f5f",
             "gridcolor": "white",
             "linecolor": "white",
             "minorgridcolor": "white",
             "startlinecolor": "#2a3f5f"
            },
            "baxis": {
             "endlinecolor": "#2a3f5f",
             "gridcolor": "white",
             "linecolor": "white",
             "minorgridcolor": "white",
             "startlinecolor": "#2a3f5f"
            },
            "type": "carpet"
           }
          ],
          "choropleth": [
           {
            "colorbar": {
             "outlinewidth": 0,
             "ticks": ""
            },
            "type": "choropleth"
           }
          ],
          "contour": [
           {
            "colorbar": {
             "outlinewidth": 0,
             "ticks": ""
            },
            "colorscale": [
             [
              0,
              "#0d0887"
             ],
             [
              0.1111111111111111,
              "#46039f"
             ],
             [
              0.2222222222222222,
              "#7201a8"
             ],
             [
              0.3333333333333333,
              "#9c179e"
             ],
             [
              0.4444444444444444,
              "#bd3786"
             ],
             [
              0.5555555555555556,
              "#d8576b"
             ],
             [
              0.6666666666666666,
              "#ed7953"
             ],
             [
              0.7777777777777778,
              "#fb9f3a"
             ],
             [
              0.8888888888888888,
              "#fdca26"
             ],
             [
              1,
              "#f0f921"
             ]
            ],
            "type": "contour"
           }
          ],
          "contourcarpet": [
           {
            "colorbar": {
             "outlinewidth": 0,
             "ticks": ""
            },
            "type": "contourcarpet"
           }
          ],
          "heatmap": [
           {
            "colorbar": {
             "outlinewidth": 0,
             "ticks": ""
            },
            "colorscale": [
             [
              0,
              "#0d0887"
             ],
             [
              0.1111111111111111,
              "#46039f"
             ],
             [
              0.2222222222222222,
              "#7201a8"
             ],
             [
              0.3333333333333333,
              "#9c179e"
             ],
             [
              0.4444444444444444,
              "#bd3786"
             ],
             [
              0.5555555555555556,
              "#d8576b"
             ],
             [
              0.6666666666666666,
              "#ed7953"
             ],
             [
              0.7777777777777778,
              "#fb9f3a"
             ],
             [
              0.8888888888888888,
              "#fdca26"
             ],
             [
              1,
              "#f0f921"
             ]
            ],
            "type": "heatmap"
           }
          ],
          "heatmapgl": [
           {
            "colorbar": {
             "outlinewidth": 0,
             "ticks": ""
            },
            "colorscale": [
             [
              0,
              "#0d0887"
             ],
             [
              0.1111111111111111,
              "#46039f"
             ],
             [
              0.2222222222222222,
              "#7201a8"
             ],
             [
              0.3333333333333333,
              "#9c179e"
             ],
             [
              0.4444444444444444,
              "#bd3786"
             ],
             [
              0.5555555555555556,
              "#d8576b"
             ],
             [
              0.6666666666666666,
              "#ed7953"
             ],
             [
              0.7777777777777778,
              "#fb9f3a"
             ],
             [
              0.8888888888888888,
              "#fdca26"
             ],
             [
              1,
              "#f0f921"
             ]
            ],
            "type": "heatmapgl"
           }
          ],
          "histogram": [
           {
            "marker": {
             "pattern": {
              "fillmode": "overlay",
              "size": 10,
              "solidity": 0.2
             }
            },
            "type": "histogram"
           }
          ],
          "histogram2d": [
           {
            "colorbar": {
             "outlinewidth": 0,
             "ticks": ""
            },
            "colorscale": [
             [
              0,
              "#0d0887"
             ],
             [
              0.1111111111111111,
              "#46039f"
             ],
             [
              0.2222222222222222,
              "#7201a8"
             ],
             [
              0.3333333333333333,
              "#9c179e"
             ],
             [
              0.4444444444444444,
              "#bd3786"
             ],
             [
              0.5555555555555556,
              "#d8576b"
             ],
             [
              0.6666666666666666,
              "#ed7953"
             ],
             [
              0.7777777777777778,
              "#fb9f3a"
             ],
             [
              0.8888888888888888,
              "#fdca26"
             ],
             [
              1,
              "#f0f921"
             ]
            ],
            "type": "histogram2d"
           }
          ],
          "histogram2dcontour": [
           {
            "colorbar": {
             "outlinewidth": 0,
             "ticks": ""
            },
            "colorscale": [
             [
              0,
              "#0d0887"
             ],
             [
              0.1111111111111111,
              "#46039f"
             ],
             [
              0.2222222222222222,
              "#7201a8"
             ],
             [
              0.3333333333333333,
              "#9c179e"
             ],
             [
              0.4444444444444444,
              "#bd3786"
             ],
             [
              0.5555555555555556,
              "#d8576b"
             ],
             [
              0.6666666666666666,
              "#ed7953"
             ],
             [
              0.7777777777777778,
              "#fb9f3a"
             ],
             [
              0.8888888888888888,
              "#fdca26"
             ],
             [
              1,
              "#f0f921"
             ]
            ],
            "type": "histogram2dcontour"
           }
          ],
          "mesh3d": [
           {
            "colorbar": {
             "outlinewidth": 0,
             "ticks": ""
            },
            "type": "mesh3d"
           }
          ],
          "parcoords": [
           {
            "line": {
             "colorbar": {
              "outlinewidth": 0,
              "ticks": ""
             }
            },
            "type": "parcoords"
           }
          ],
          "pie": [
           {
            "automargin": true,
            "type": "pie"
           }
          ],
          "scatter": [
           {
            "fillpattern": {
             "fillmode": "overlay",
             "size": 10,
             "solidity": 0.2
            },
            "type": "scatter"
           }
          ],
          "scatter3d": [
           {
            "line": {
             "colorbar": {
              "outlinewidth": 0,
              "ticks": ""
             }
            },
            "marker": {
             "colorbar": {
              "outlinewidth": 0,
              "ticks": ""
             }
            },
            "type": "scatter3d"
           }
          ],
          "scattercarpet": [
           {
            "marker": {
             "colorbar": {
              "outlinewidth": 0,
              "ticks": ""
             }
            },
            "type": "scattercarpet"
           }
          ],
          "scattergeo": [
           {
            "marker": {
             "colorbar": {
              "outlinewidth": 0,
              "ticks": ""
             }
            },
            "type": "scattergeo"
           }
          ],
          "scattergl": [
           {
            "marker": {
             "colorbar": {
              "outlinewidth": 0,
              "ticks": ""
             }
            },
            "type": "scattergl"
           }
          ],
          "scattermapbox": [
           {
            "marker": {
             "colorbar": {
              "outlinewidth": 0,
              "ticks": ""
             }
            },
            "type": "scattermapbox"
           }
          ],
          "scatterpolar": [
           {
            "marker": {
             "colorbar": {
              "outlinewidth": 0,
              "ticks": ""
             }
            },
            "type": "scatterpolar"
           }
          ],
          "scatterpolargl": [
           {
            "marker": {
             "colorbar": {
              "outlinewidth": 0,
              "ticks": ""
             }
            },
            "type": "scatterpolargl"
           }
          ],
          "scatterternary": [
           {
            "marker": {
             "colorbar": {
              "outlinewidth": 0,
              "ticks": ""
             }
            },
            "type": "scatterternary"
           }
          ],
          "surface": [
           {
            "colorbar": {
             "outlinewidth": 0,
             "ticks": ""
            },
            "colorscale": [
             [
              0,
              "#0d0887"
             ],
             [
              0.1111111111111111,
              "#46039f"
             ],
             [
              0.2222222222222222,
              "#7201a8"
             ],
             [
              0.3333333333333333,
              "#9c179e"
             ],
             [
              0.4444444444444444,
              "#bd3786"
             ],
             [
              0.5555555555555556,
              "#d8576b"
             ],
             [
              0.6666666666666666,
              "#ed7953"
             ],
             [
              0.7777777777777778,
              "#fb9f3a"
             ],
             [
              0.8888888888888888,
              "#fdca26"
             ],
             [
              1,
              "#f0f921"
             ]
            ],
            "type": "surface"
           }
          ],
          "table": [
           {
            "cells": {
             "fill": {
              "color": "#EBF0F8"
             },
             "line": {
              "color": "white"
             }
            },
            "header": {
             "fill": {
              "color": "#C8D4E3"
             },
             "line": {
              "color": "white"
             }
            },
            "type": "table"
           }
          ]
         },
         "layout": {
          "annotationdefaults": {
           "arrowcolor": "#2a3f5f",
           "arrowhead": 0,
           "arrowwidth": 1
          },
          "autotypenumbers": "strict",
          "coloraxis": {
           "colorbar": {
            "outlinewidth": 0,
            "ticks": ""
           }
          },
          "colorscale": {
           "diverging": [
            [
             0,
             "#8e0152"
            ],
            [
             0.1,
             "#c51b7d"
            ],
            [
             0.2,
             "#de77ae"
            ],
            [
             0.3,
             "#f1b6da"
            ],
            [
             0.4,
             "#fde0ef"
            ],
            [
             0.5,
             "#f7f7f7"
            ],
            [
             0.6,
             "#e6f5d0"
            ],
            [
             0.7,
             "#b8e186"
            ],
            [
             0.8,
             "#7fbc41"
            ],
            [
             0.9,
             "#4d9221"
            ],
            [
             1,
             "#276419"
            ]
           ],
           "sequential": [
            [
             0,
             "#0d0887"
            ],
            [
             0.1111111111111111,
             "#46039f"
            ],
            [
             0.2222222222222222,
             "#7201a8"
            ],
            [
             0.3333333333333333,
             "#9c179e"
            ],
            [
             0.4444444444444444,
             "#bd3786"
            ],
            [
             0.5555555555555556,
             "#d8576b"
            ],
            [
             0.6666666666666666,
             "#ed7953"
            ],
            [
             0.7777777777777778,
             "#fb9f3a"
            ],
            [
             0.8888888888888888,
             "#fdca26"
            ],
            [
             1,
             "#f0f921"
            ]
           ],
           "sequentialminus": [
            [
             0,
             "#0d0887"
            ],
            [
             0.1111111111111111,
             "#46039f"
            ],
            [
             0.2222222222222222,
             "#7201a8"
            ],
            [
             0.3333333333333333,
             "#9c179e"
            ],
            [
             0.4444444444444444,
             "#bd3786"
            ],
            [
             0.5555555555555556,
             "#d8576b"
            ],
            [
             0.6666666666666666,
             "#ed7953"
            ],
            [
             0.7777777777777778,
             "#fb9f3a"
            ],
            [
             0.8888888888888888,
             "#fdca26"
            ],
            [
             1,
             "#f0f921"
            ]
           ]
          },
          "colorway": [
           "#636efa",
           "#EF553B",
           "#00cc96",
           "#ab63fa",
           "#FFA15A",
           "#19d3f3",
           "#FF6692",
           "#B6E880",
           "#FF97FF",
           "#FECB52"
          ],
          "font": {
           "color": "#2a3f5f"
          },
          "geo": {
           "bgcolor": "white",
           "lakecolor": "white",
           "landcolor": "#E5ECF6",
           "showlakes": true,
           "showland": true,
           "subunitcolor": "white"
          },
          "hoverlabel": {
           "align": "left"
          },
          "hovermode": "closest",
          "mapbox": {
           "style": "light"
          },
          "paper_bgcolor": "white",
          "plot_bgcolor": "#E5ECF6",
          "polar": {
           "angularaxis": {
            "gridcolor": "white",
            "linecolor": "white",
            "ticks": ""
           },
           "bgcolor": "#E5ECF6",
           "radialaxis": {
            "gridcolor": "white",
            "linecolor": "white",
            "ticks": ""
           }
          },
          "scene": {
           "xaxis": {
            "backgroundcolor": "#E5ECF6",
            "gridcolor": "white",
            "gridwidth": 2,
            "linecolor": "white",
            "showbackground": true,
            "ticks": "",
            "zerolinecolor": "white"
           },
           "yaxis": {
            "backgroundcolor": "#E5ECF6",
            "gridcolor": "white",
            "gridwidth": 2,
            "linecolor": "white",
            "showbackground": true,
            "ticks": "",
            "zerolinecolor": "white"
           },
           "zaxis": {
            "backgroundcolor": "#E5ECF6",
            "gridcolor": "white",
            "gridwidth": 2,
            "linecolor": "white",
            "showbackground": true,
            "ticks": "",
            "zerolinecolor": "white"
           }
          },
          "shapedefaults": {
           "line": {
            "color": "#2a3f5f"
           }
          },
          "ternary": {
           "aaxis": {
            "gridcolor": "white",
            "linecolor": "white",
            "ticks": ""
           },
           "baxis": {
            "gridcolor": "white",
            "linecolor": "white",
            "ticks": ""
           },
           "bgcolor": "#E5ECF6",
           "caxis": {
            "gridcolor": "white",
            "linecolor": "white",
            "ticks": ""
           }
          },
          "title": {
           "x": 0.05
          },
          "xaxis": {
           "automargin": true,
           "gridcolor": "white",
           "linecolor": "white",
           "ticks": "",
           "title": {
            "standoff": 15
           },
           "zerolinecolor": "white",
           "zerolinewidth": 2
          },
          "yaxis": {
           "automargin": true,
           "gridcolor": "white",
           "linecolor": "white",
           "ticks": "",
           "title": {
            "standoff": 15
           },
           "zerolinecolor": "white",
           "zerolinewidth": 2
          }
         }
        },
        "title": {
         "text": "Demandas Registradas HP - Atualmente"
        },
        "xaxis": {
         "title": {
          "text": "Tempo (Meses)"
         }
        },
        "yaxis": {
         "range": [
          0,
          160
         ],
         "title": {
          "text": "Demanda (kW)"
         }
        }
       }
      }
     },
     "metadata": {},
     "output_type": "display_data"
    }
   ],
   "source": [
    "x       = []\n",
    "y1      = []\n",
    "y3      = []\n",
    "\n",
    "for i in range(len(input[0]['demanda HP'])):\n",
    "    y1.append(float(input[2]['demanda atual HP']))\n",
    "\n",
    "for i in range(len(input[0]['demanda HP'])):\n",
    "    y3.append(float(input[0]['demanda HP'][i]))\n",
    "    x.append(input[0]['mes'][i])\n",
    "\n",
    "plot = go.Figure()\n",
    "plot.add_trace(go.Scatter(x=x, y=y1, name='Demanda Contratada HP      ', marker=dict(color='red')))\n",
    "plot.add_trace(go.Bar(x=x, y=y3, name='Demandas Registradas HP', marker=dict(color='darkblue')))\n",
    "plot.update_layout(yaxis_range=[0,160], \n",
    "                   title='Demandas Registradas HP - Atualmente',\n",
    "                   yaxis_title='Demanda (kW)',\n",
    "                   xaxis_title='Tempo (Meses)')\n",
    "plot.update_layout(legend=dict(x=0.01, y=0.01, bgcolor='rgba(255, 255, 255,0.95)'))\n",
    "plot.update_layout(font=dict(size=15))\n",
    "plot.write_image(\"Demandas HP - Atualmente.jpg\", format=\"jpg\", scale=10, width=854, height=480)\n",
    "\n",
    "plot.show()"
   ]
  },
  {
   "cell_type": "code",
   "execution_count": 45,
   "id": "1163b107",
   "metadata": {},
   "outputs": [
    {
     "data": {
      "application/vnd.plotly.v1+json": {
       "config": {
        "plotlyServerURL": "https://plot.ly"
       },
       "data": [
        {
         "marker": {
          "color": "orange"
         },
         "name": "Demanda Contratada HFP      ",
         "type": "scatter",
         "x": [
          "MAR/22",
          "ABR/22",
          "MAI/22",
          "JUN/22",
          "JUL/22",
          "AGO/22",
          "SET/22",
          "OUT/22",
          "NOV/22",
          "DEZ/22",
          "JAN/23",
          "FEV/23"
         ],
         "y": [
          93,
          93,
          93,
          93,
          93,
          93,
          93,
          93,
          93,
          93,
          93,
          93
         ]
        },
        {
         "marker": {
          "color": "red"
         },
         "name": "Demanda Contratada HP",
         "type": "scatter",
         "x": [
          "MAR/22",
          "ABR/22",
          "MAI/22",
          "JUN/22",
          "JUL/22",
          "AGO/22",
          "SET/22",
          "OUT/22",
          "NOV/22",
          "DEZ/22",
          "JAN/23",
          "FEV/23"
         ],
         "y": [
          82,
          82,
          82,
          82,
          82,
          82,
          82,
          82,
          82,
          82,
          82,
          82
         ]
        },
        {
         "marker": {
          "color": "blue"
         },
         "name": "Demandas Registradas HFP",
         "type": "bar",
         "x": [
          "MAR/22",
          "ABR/22",
          "MAI/22",
          "JUN/22",
          "JUL/22",
          "AGO/22",
          "SET/22",
          "OUT/22",
          "NOV/22",
          "DEZ/22",
          "JAN/23",
          "FEV/23"
         ],
         "y": [
          106,
          94,
          89,
          79,
          77,
          82,
          89,
          91,
          79,
          94,
          89,
          97
         ]
        },
        {
         "marker": {
          "color": "darkblue"
         },
         "name": "Demandas Registradass HP",
         "type": "bar",
         "x": [
          "MAR/22",
          "ABR/22",
          "MAI/22",
          "JUN/22",
          "JUL/22",
          "AGO/22",
          "SET/22",
          "OUT/22",
          "NOV/22",
          "DEZ/22",
          "JAN/23",
          "FEV/23"
         ],
         "y": [
          94,
          96,
          79,
          79,
          72,
          77,
          77,
          84,
          72,
          74,
          82,
          86
         ]
        }
       ],
       "layout": {
        "font": {
         "size": 15
        },
        "legend": {
         "bgcolor": "rgba(255, 255, 255,0.95)",
         "x": 0.01,
         "y": 0.01
        },
        "template": {
         "data": {
          "bar": [
           {
            "error_x": {
             "color": "#2a3f5f"
            },
            "error_y": {
             "color": "#2a3f5f"
            },
            "marker": {
             "line": {
              "color": "#E5ECF6",
              "width": 0.5
             },
             "pattern": {
              "fillmode": "overlay",
              "size": 10,
              "solidity": 0.2
             }
            },
            "type": "bar"
           }
          ],
          "barpolar": [
           {
            "marker": {
             "line": {
              "color": "#E5ECF6",
              "width": 0.5
             },
             "pattern": {
              "fillmode": "overlay",
              "size": 10,
              "solidity": 0.2
             }
            },
            "type": "barpolar"
           }
          ],
          "carpet": [
           {
            "aaxis": {
             "endlinecolor": "#2a3f5f",
             "gridcolor": "white",
             "linecolor": "white",
             "minorgridcolor": "white",
             "startlinecolor": "#2a3f5f"
            },
            "baxis": {
             "endlinecolor": "#2a3f5f",
             "gridcolor": "white",
             "linecolor": "white",
             "minorgridcolor": "white",
             "startlinecolor": "#2a3f5f"
            },
            "type": "carpet"
           }
          ],
          "choropleth": [
           {
            "colorbar": {
             "outlinewidth": 0,
             "ticks": ""
            },
            "type": "choropleth"
           }
          ],
          "contour": [
           {
            "colorbar": {
             "outlinewidth": 0,
             "ticks": ""
            },
            "colorscale": [
             [
              0,
              "#0d0887"
             ],
             [
              0.1111111111111111,
              "#46039f"
             ],
             [
              0.2222222222222222,
              "#7201a8"
             ],
             [
              0.3333333333333333,
              "#9c179e"
             ],
             [
              0.4444444444444444,
              "#bd3786"
             ],
             [
              0.5555555555555556,
              "#d8576b"
             ],
             [
              0.6666666666666666,
              "#ed7953"
             ],
             [
              0.7777777777777778,
              "#fb9f3a"
             ],
             [
              0.8888888888888888,
              "#fdca26"
             ],
             [
              1,
              "#f0f921"
             ]
            ],
            "type": "contour"
           }
          ],
          "contourcarpet": [
           {
            "colorbar": {
             "outlinewidth": 0,
             "ticks": ""
            },
            "type": "contourcarpet"
           }
          ],
          "heatmap": [
           {
            "colorbar": {
             "outlinewidth": 0,
             "ticks": ""
            },
            "colorscale": [
             [
              0,
              "#0d0887"
             ],
             [
              0.1111111111111111,
              "#46039f"
             ],
             [
              0.2222222222222222,
              "#7201a8"
             ],
             [
              0.3333333333333333,
              "#9c179e"
             ],
             [
              0.4444444444444444,
              "#bd3786"
             ],
             [
              0.5555555555555556,
              "#d8576b"
             ],
             [
              0.6666666666666666,
              "#ed7953"
             ],
             [
              0.7777777777777778,
              "#fb9f3a"
             ],
             [
              0.8888888888888888,
              "#fdca26"
             ],
             [
              1,
              "#f0f921"
             ]
            ],
            "type": "heatmap"
           }
          ],
          "heatmapgl": [
           {
            "colorbar": {
             "outlinewidth": 0,
             "ticks": ""
            },
            "colorscale": [
             [
              0,
              "#0d0887"
             ],
             [
              0.1111111111111111,
              "#46039f"
             ],
             [
              0.2222222222222222,
              "#7201a8"
             ],
             [
              0.3333333333333333,
              "#9c179e"
             ],
             [
              0.4444444444444444,
              "#bd3786"
             ],
             [
              0.5555555555555556,
              "#d8576b"
             ],
             [
              0.6666666666666666,
              "#ed7953"
             ],
             [
              0.7777777777777778,
              "#fb9f3a"
             ],
             [
              0.8888888888888888,
              "#fdca26"
             ],
             [
              1,
              "#f0f921"
             ]
            ],
            "type": "heatmapgl"
           }
          ],
          "histogram": [
           {
            "marker": {
             "pattern": {
              "fillmode": "overlay",
              "size": 10,
              "solidity": 0.2
             }
            },
            "type": "histogram"
           }
          ],
          "histogram2d": [
           {
            "colorbar": {
             "outlinewidth": 0,
             "ticks": ""
            },
            "colorscale": [
             [
              0,
              "#0d0887"
             ],
             [
              0.1111111111111111,
              "#46039f"
             ],
             [
              0.2222222222222222,
              "#7201a8"
             ],
             [
              0.3333333333333333,
              "#9c179e"
             ],
             [
              0.4444444444444444,
              "#bd3786"
             ],
             [
              0.5555555555555556,
              "#d8576b"
             ],
             [
              0.6666666666666666,
              "#ed7953"
             ],
             [
              0.7777777777777778,
              "#fb9f3a"
             ],
             [
              0.8888888888888888,
              "#fdca26"
             ],
             [
              1,
              "#f0f921"
             ]
            ],
            "type": "histogram2d"
           }
          ],
          "histogram2dcontour": [
           {
            "colorbar": {
             "outlinewidth": 0,
             "ticks": ""
            },
            "colorscale": [
             [
              0,
              "#0d0887"
             ],
             [
              0.1111111111111111,
              "#46039f"
             ],
             [
              0.2222222222222222,
              "#7201a8"
             ],
             [
              0.3333333333333333,
              "#9c179e"
             ],
             [
              0.4444444444444444,
              "#bd3786"
             ],
             [
              0.5555555555555556,
              "#d8576b"
             ],
             [
              0.6666666666666666,
              "#ed7953"
             ],
             [
              0.7777777777777778,
              "#fb9f3a"
             ],
             [
              0.8888888888888888,
              "#fdca26"
             ],
             [
              1,
              "#f0f921"
             ]
            ],
            "type": "histogram2dcontour"
           }
          ],
          "mesh3d": [
           {
            "colorbar": {
             "outlinewidth": 0,
             "ticks": ""
            },
            "type": "mesh3d"
           }
          ],
          "parcoords": [
           {
            "line": {
             "colorbar": {
              "outlinewidth": 0,
              "ticks": ""
             }
            },
            "type": "parcoords"
           }
          ],
          "pie": [
           {
            "automargin": true,
            "type": "pie"
           }
          ],
          "scatter": [
           {
            "fillpattern": {
             "fillmode": "overlay",
             "size": 10,
             "solidity": 0.2
            },
            "type": "scatter"
           }
          ],
          "scatter3d": [
           {
            "line": {
             "colorbar": {
              "outlinewidth": 0,
              "ticks": ""
             }
            },
            "marker": {
             "colorbar": {
              "outlinewidth": 0,
              "ticks": ""
             }
            },
            "type": "scatter3d"
           }
          ],
          "scattercarpet": [
           {
            "marker": {
             "colorbar": {
              "outlinewidth": 0,
              "ticks": ""
             }
            },
            "type": "scattercarpet"
           }
          ],
          "scattergeo": [
           {
            "marker": {
             "colorbar": {
              "outlinewidth": 0,
              "ticks": ""
             }
            },
            "type": "scattergeo"
           }
          ],
          "scattergl": [
           {
            "marker": {
             "colorbar": {
              "outlinewidth": 0,
              "ticks": ""
             }
            },
            "type": "scattergl"
           }
          ],
          "scattermapbox": [
           {
            "marker": {
             "colorbar": {
              "outlinewidth": 0,
              "ticks": ""
             }
            },
            "type": "scattermapbox"
           }
          ],
          "scatterpolar": [
           {
            "marker": {
             "colorbar": {
              "outlinewidth": 0,
              "ticks": ""
             }
            },
            "type": "scatterpolar"
           }
          ],
          "scatterpolargl": [
           {
            "marker": {
             "colorbar": {
              "outlinewidth": 0,
              "ticks": ""
             }
            },
            "type": "scatterpolargl"
           }
          ],
          "scatterternary": [
           {
            "marker": {
             "colorbar": {
              "outlinewidth": 0,
              "ticks": ""
             }
            },
            "type": "scatterternary"
           }
          ],
          "surface": [
           {
            "colorbar": {
             "outlinewidth": 0,
             "ticks": ""
            },
            "colorscale": [
             [
              0,
              "#0d0887"
             ],
             [
              0.1111111111111111,
              "#46039f"
             ],
             [
              0.2222222222222222,
              "#7201a8"
             ],
             [
              0.3333333333333333,
              "#9c179e"
             ],
             [
              0.4444444444444444,
              "#bd3786"
             ],
             [
              0.5555555555555556,
              "#d8576b"
             ],
             [
              0.6666666666666666,
              "#ed7953"
             ],
             [
              0.7777777777777778,
              "#fb9f3a"
             ],
             [
              0.8888888888888888,
              "#fdca26"
             ],
             [
              1,
              "#f0f921"
             ]
            ],
            "type": "surface"
           }
          ],
          "table": [
           {
            "cells": {
             "fill": {
              "color": "#EBF0F8"
             },
             "line": {
              "color": "white"
             }
            },
            "header": {
             "fill": {
              "color": "#C8D4E3"
             },
             "line": {
              "color": "white"
             }
            },
            "type": "table"
           }
          ]
         },
         "layout": {
          "annotationdefaults": {
           "arrowcolor": "#2a3f5f",
           "arrowhead": 0,
           "arrowwidth": 1
          },
          "autotypenumbers": "strict",
          "coloraxis": {
           "colorbar": {
            "outlinewidth": 0,
            "ticks": ""
           }
          },
          "colorscale": {
           "diverging": [
            [
             0,
             "#8e0152"
            ],
            [
             0.1,
             "#c51b7d"
            ],
            [
             0.2,
             "#de77ae"
            ],
            [
             0.3,
             "#f1b6da"
            ],
            [
             0.4,
             "#fde0ef"
            ],
            [
             0.5,
             "#f7f7f7"
            ],
            [
             0.6,
             "#e6f5d0"
            ],
            [
             0.7,
             "#b8e186"
            ],
            [
             0.8,
             "#7fbc41"
            ],
            [
             0.9,
             "#4d9221"
            ],
            [
             1,
             "#276419"
            ]
           ],
           "sequential": [
            [
             0,
             "#0d0887"
            ],
            [
             0.1111111111111111,
             "#46039f"
            ],
            [
             0.2222222222222222,
             "#7201a8"
            ],
            [
             0.3333333333333333,
             "#9c179e"
            ],
            [
             0.4444444444444444,
             "#bd3786"
            ],
            [
             0.5555555555555556,
             "#d8576b"
            ],
            [
             0.6666666666666666,
             "#ed7953"
            ],
            [
             0.7777777777777778,
             "#fb9f3a"
            ],
            [
             0.8888888888888888,
             "#fdca26"
            ],
            [
             1,
             "#f0f921"
            ]
           ],
           "sequentialminus": [
            [
             0,
             "#0d0887"
            ],
            [
             0.1111111111111111,
             "#46039f"
            ],
            [
             0.2222222222222222,
             "#7201a8"
            ],
            [
             0.3333333333333333,
             "#9c179e"
            ],
            [
             0.4444444444444444,
             "#bd3786"
            ],
            [
             0.5555555555555556,
             "#d8576b"
            ],
            [
             0.6666666666666666,
             "#ed7953"
            ],
            [
             0.7777777777777778,
             "#fb9f3a"
            ],
            [
             0.8888888888888888,
             "#fdca26"
            ],
            [
             1,
             "#f0f921"
            ]
           ]
          },
          "colorway": [
           "#636efa",
           "#EF553B",
           "#00cc96",
           "#ab63fa",
           "#FFA15A",
           "#19d3f3",
           "#FF6692",
           "#B6E880",
           "#FF97FF",
           "#FECB52"
          ],
          "font": {
           "color": "#2a3f5f"
          },
          "geo": {
           "bgcolor": "white",
           "lakecolor": "white",
           "landcolor": "#E5ECF6",
           "showlakes": true,
           "showland": true,
           "subunitcolor": "white"
          },
          "hoverlabel": {
           "align": "left"
          },
          "hovermode": "closest",
          "mapbox": {
           "style": "light"
          },
          "paper_bgcolor": "white",
          "plot_bgcolor": "#E5ECF6",
          "polar": {
           "angularaxis": {
            "gridcolor": "white",
            "linecolor": "white",
            "ticks": ""
           },
           "bgcolor": "#E5ECF6",
           "radialaxis": {
            "gridcolor": "white",
            "linecolor": "white",
            "ticks": ""
           }
          },
          "scene": {
           "xaxis": {
            "backgroundcolor": "#E5ECF6",
            "gridcolor": "white",
            "gridwidth": 2,
            "linecolor": "white",
            "showbackground": true,
            "ticks": "",
            "zerolinecolor": "white"
           },
           "yaxis": {
            "backgroundcolor": "#E5ECF6",
            "gridcolor": "white",
            "gridwidth": 2,
            "linecolor": "white",
            "showbackground": true,
            "ticks": "",
            "zerolinecolor": "white"
           },
           "zaxis": {
            "backgroundcolor": "#E5ECF6",
            "gridcolor": "white",
            "gridwidth": 2,
            "linecolor": "white",
            "showbackground": true,
            "ticks": "",
            "zerolinecolor": "white"
           }
          },
          "shapedefaults": {
           "line": {
            "color": "#2a3f5f"
           }
          },
          "ternary": {
           "aaxis": {
            "gridcolor": "white",
            "linecolor": "white",
            "ticks": ""
           },
           "baxis": {
            "gridcolor": "white",
            "linecolor": "white",
            "ticks": ""
           },
           "bgcolor": "#E5ECF6",
           "caxis": {
            "gridcolor": "white",
            "linecolor": "white",
            "ticks": ""
           }
          },
          "title": {
           "x": 0.05
          },
          "xaxis": {
           "automargin": true,
           "gridcolor": "white",
           "linecolor": "white",
           "ticks": "",
           "title": {
            "standoff": 15
           },
           "zerolinecolor": "white",
           "zerolinewidth": 2
          },
          "yaxis": {
           "automargin": true,
           "gridcolor": "white",
           "linecolor": "white",
           "ticks": "",
           "title": {
            "standoff": 15
           },
           "zerolinecolor": "white",
           "zerolinewidth": 2
          }
         }
        },
        "title": {
         "text": "Demandas Registradas e Contratadas - Otimizadas"
        },
        "xaxis": {
         "title": {
          "text": "Tempo (Meses)"
         }
        },
        "yaxis": {
         "range": [
          0,
          160
         ],
         "title": {
          "text": "Demanda (kW)"
         }
        }
       }
      }
     },
     "metadata": {},
     "output_type": "display_data"
    }
   ],
   "source": [
    "x       = []\n",
    "y1      = []\n",
    "y2      = []\n",
    "y3      = []\n",
    "y4      = []  \n",
    "\n",
    "\n",
    "for i in range(len(input[0]['demanda HFP'])):\n",
    "    y1.append(float(a['Demanda HFP Ótima']))\n",
    "    y2.append(float(a['Demanda HP Ótima']))\n",
    "\n",
    "for i in range(len(input[0]['demanda HFP'])):\n",
    "    y3.append(float(input[0]['demanda HFP'][i]))\n",
    "    x.append(input[0]['mes'][i])\n",
    "\n",
    "for i in range(len(input[0]['demanda HP'])):\n",
    "    y4.append(float(input[0]['demanda HP'][i]))\n",
    "\n",
    "\n",
    "plot = go.Figure()\n",
    "plot.add_trace(go.Scatter(x=x, y=y1, name='Demanda Contratada HFP      ', marker=dict(color='orange')))\n",
    "plot.add_trace(go.Scatter(x=x, y=y2, name='Demanda Contratada HP', marker=dict(color='red')))\n",
    "plot.add_trace(go.Bar(x=x, y=y3, name='Demandas Registradas HFP', marker=dict(color='blue')))\n",
    "plot.add_trace(go.Bar(x=x, y=y4, name='Demandas Registradass HP', marker=dict(color='darkblue')))\n",
    "plot.update_layout(yaxis_range=[0,160], \n",
    "                   title='Demandas Registradas e Contratadas - Otimizadas',\n",
    "                   yaxis_title='Demanda (kW)',\n",
    "                   xaxis_title='Tempo (Meses)')\n",
    "plot.update_layout(legend=dict(x=0.01, y=0.01, bgcolor='rgba(255, 255, 255,0.95)'))\n",
    "plot.update_layout(font=dict(size=15))\n",
    "plot.write_image(\"Demandas Otimizadas.jpg\", format=\"jpg\", scale=10, width=854, height=480)\n",
    "\n",
    "plot.show()"
   ]
  },
  {
   "cell_type": "code",
   "execution_count": 46,
   "id": "0512f423",
   "metadata": {
    "scrolled": false
   },
   "outputs": [
    {
     "data": {
      "application/vnd.plotly.v1+json": {
       "config": {
        "plotlyServerURL": "https://plot.ly"
       },
       "data": [
        {
         "marker": {
          "color": "orange"
         },
         "name": "Demanda Contratada HFP      ",
         "type": "scatter",
         "x": [
          "MAR/22",
          "ABR/22",
          "MAI/22",
          "JUN/22",
          "JUL/22",
          "AGO/22",
          "SET/22",
          "OUT/22",
          "NOV/22",
          "DEZ/22",
          "JAN/23",
          "FEV/23"
         ],
         "y": [
          93,
          93,
          93,
          93,
          93,
          93,
          93,
          93,
          93,
          93,
          93,
          93
         ]
        },
        {
         "marker": {
          "color": "blue"
         },
         "name": "Demandas Registradas HFP",
         "type": "bar",
         "x": [
          "MAR/22",
          "ABR/22",
          "MAI/22",
          "JUN/22",
          "JUL/22",
          "AGO/22",
          "SET/22",
          "OUT/22",
          "NOV/22",
          "DEZ/22",
          "JAN/23",
          "FEV/23"
         ],
         "y": [
          106,
          94,
          89,
          79,
          77,
          82,
          89,
          91,
          79,
          94,
          89,
          97
         ]
        }
       ],
       "layout": {
        "font": {
         "size": 15
        },
        "legend": {
         "bgcolor": "rgba(255, 255, 255,0.95)",
         "x": 0.01,
         "y": 0.01
        },
        "template": {
         "data": {
          "bar": [
           {
            "error_x": {
             "color": "#2a3f5f"
            },
            "error_y": {
             "color": "#2a3f5f"
            },
            "marker": {
             "line": {
              "color": "#E5ECF6",
              "width": 0.5
             },
             "pattern": {
              "fillmode": "overlay",
              "size": 10,
              "solidity": 0.2
             }
            },
            "type": "bar"
           }
          ],
          "barpolar": [
           {
            "marker": {
             "line": {
              "color": "#E5ECF6",
              "width": 0.5
             },
             "pattern": {
              "fillmode": "overlay",
              "size": 10,
              "solidity": 0.2
             }
            },
            "type": "barpolar"
           }
          ],
          "carpet": [
           {
            "aaxis": {
             "endlinecolor": "#2a3f5f",
             "gridcolor": "white",
             "linecolor": "white",
             "minorgridcolor": "white",
             "startlinecolor": "#2a3f5f"
            },
            "baxis": {
             "endlinecolor": "#2a3f5f",
             "gridcolor": "white",
             "linecolor": "white",
             "minorgridcolor": "white",
             "startlinecolor": "#2a3f5f"
            },
            "type": "carpet"
           }
          ],
          "choropleth": [
           {
            "colorbar": {
             "outlinewidth": 0,
             "ticks": ""
            },
            "type": "choropleth"
           }
          ],
          "contour": [
           {
            "colorbar": {
             "outlinewidth": 0,
             "ticks": ""
            },
            "colorscale": [
             [
              0,
              "#0d0887"
             ],
             [
              0.1111111111111111,
              "#46039f"
             ],
             [
              0.2222222222222222,
              "#7201a8"
             ],
             [
              0.3333333333333333,
              "#9c179e"
             ],
             [
              0.4444444444444444,
              "#bd3786"
             ],
             [
              0.5555555555555556,
              "#d8576b"
             ],
             [
              0.6666666666666666,
              "#ed7953"
             ],
             [
              0.7777777777777778,
              "#fb9f3a"
             ],
             [
              0.8888888888888888,
              "#fdca26"
             ],
             [
              1,
              "#f0f921"
             ]
            ],
            "type": "contour"
           }
          ],
          "contourcarpet": [
           {
            "colorbar": {
             "outlinewidth": 0,
             "ticks": ""
            },
            "type": "contourcarpet"
           }
          ],
          "heatmap": [
           {
            "colorbar": {
             "outlinewidth": 0,
             "ticks": ""
            },
            "colorscale": [
             [
              0,
              "#0d0887"
             ],
             [
              0.1111111111111111,
              "#46039f"
             ],
             [
              0.2222222222222222,
              "#7201a8"
             ],
             [
              0.3333333333333333,
              "#9c179e"
             ],
             [
              0.4444444444444444,
              "#bd3786"
             ],
             [
              0.5555555555555556,
              "#d8576b"
             ],
             [
              0.6666666666666666,
              "#ed7953"
             ],
             [
              0.7777777777777778,
              "#fb9f3a"
             ],
             [
              0.8888888888888888,
              "#fdca26"
             ],
             [
              1,
              "#f0f921"
             ]
            ],
            "type": "heatmap"
           }
          ],
          "heatmapgl": [
           {
            "colorbar": {
             "outlinewidth": 0,
             "ticks": ""
            },
            "colorscale": [
             [
              0,
              "#0d0887"
             ],
             [
              0.1111111111111111,
              "#46039f"
             ],
             [
              0.2222222222222222,
              "#7201a8"
             ],
             [
              0.3333333333333333,
              "#9c179e"
             ],
             [
              0.4444444444444444,
              "#bd3786"
             ],
             [
              0.5555555555555556,
              "#d8576b"
             ],
             [
              0.6666666666666666,
              "#ed7953"
             ],
             [
              0.7777777777777778,
              "#fb9f3a"
             ],
             [
              0.8888888888888888,
              "#fdca26"
             ],
             [
              1,
              "#f0f921"
             ]
            ],
            "type": "heatmapgl"
           }
          ],
          "histogram": [
           {
            "marker": {
             "pattern": {
              "fillmode": "overlay",
              "size": 10,
              "solidity": 0.2
             }
            },
            "type": "histogram"
           }
          ],
          "histogram2d": [
           {
            "colorbar": {
             "outlinewidth": 0,
             "ticks": ""
            },
            "colorscale": [
             [
              0,
              "#0d0887"
             ],
             [
              0.1111111111111111,
              "#46039f"
             ],
             [
              0.2222222222222222,
              "#7201a8"
             ],
             [
              0.3333333333333333,
              "#9c179e"
             ],
             [
              0.4444444444444444,
              "#bd3786"
             ],
             [
              0.5555555555555556,
              "#d8576b"
             ],
             [
              0.6666666666666666,
              "#ed7953"
             ],
             [
              0.7777777777777778,
              "#fb9f3a"
             ],
             [
              0.8888888888888888,
              "#fdca26"
             ],
             [
              1,
              "#f0f921"
             ]
            ],
            "type": "histogram2d"
           }
          ],
          "histogram2dcontour": [
           {
            "colorbar": {
             "outlinewidth": 0,
             "ticks": ""
            },
            "colorscale": [
             [
              0,
              "#0d0887"
             ],
             [
              0.1111111111111111,
              "#46039f"
             ],
             [
              0.2222222222222222,
              "#7201a8"
             ],
             [
              0.3333333333333333,
              "#9c179e"
             ],
             [
              0.4444444444444444,
              "#bd3786"
             ],
             [
              0.5555555555555556,
              "#d8576b"
             ],
             [
              0.6666666666666666,
              "#ed7953"
             ],
             [
              0.7777777777777778,
              "#fb9f3a"
             ],
             [
              0.8888888888888888,
              "#fdca26"
             ],
             [
              1,
              "#f0f921"
             ]
            ],
            "type": "histogram2dcontour"
           }
          ],
          "mesh3d": [
           {
            "colorbar": {
             "outlinewidth": 0,
             "ticks": ""
            },
            "type": "mesh3d"
           }
          ],
          "parcoords": [
           {
            "line": {
             "colorbar": {
              "outlinewidth": 0,
              "ticks": ""
             }
            },
            "type": "parcoords"
           }
          ],
          "pie": [
           {
            "automargin": true,
            "type": "pie"
           }
          ],
          "scatter": [
           {
            "fillpattern": {
             "fillmode": "overlay",
             "size": 10,
             "solidity": 0.2
            },
            "type": "scatter"
           }
          ],
          "scatter3d": [
           {
            "line": {
             "colorbar": {
              "outlinewidth": 0,
              "ticks": ""
             }
            },
            "marker": {
             "colorbar": {
              "outlinewidth": 0,
              "ticks": ""
             }
            },
            "type": "scatter3d"
           }
          ],
          "scattercarpet": [
           {
            "marker": {
             "colorbar": {
              "outlinewidth": 0,
              "ticks": ""
             }
            },
            "type": "scattercarpet"
           }
          ],
          "scattergeo": [
           {
            "marker": {
             "colorbar": {
              "outlinewidth": 0,
              "ticks": ""
             }
            },
            "type": "scattergeo"
           }
          ],
          "scattergl": [
           {
            "marker": {
             "colorbar": {
              "outlinewidth": 0,
              "ticks": ""
             }
            },
            "type": "scattergl"
           }
          ],
          "scattermapbox": [
           {
            "marker": {
             "colorbar": {
              "outlinewidth": 0,
              "ticks": ""
             }
            },
            "type": "scattermapbox"
           }
          ],
          "scatterpolar": [
           {
            "marker": {
             "colorbar": {
              "outlinewidth": 0,
              "ticks": ""
             }
            },
            "type": "scatterpolar"
           }
          ],
          "scatterpolargl": [
           {
            "marker": {
             "colorbar": {
              "outlinewidth": 0,
              "ticks": ""
             }
            },
            "type": "scatterpolargl"
           }
          ],
          "scatterternary": [
           {
            "marker": {
             "colorbar": {
              "outlinewidth": 0,
              "ticks": ""
             }
            },
            "type": "scatterternary"
           }
          ],
          "surface": [
           {
            "colorbar": {
             "outlinewidth": 0,
             "ticks": ""
            },
            "colorscale": [
             [
              0,
              "#0d0887"
             ],
             [
              0.1111111111111111,
              "#46039f"
             ],
             [
              0.2222222222222222,
              "#7201a8"
             ],
             [
              0.3333333333333333,
              "#9c179e"
             ],
             [
              0.4444444444444444,
              "#bd3786"
             ],
             [
              0.5555555555555556,
              "#d8576b"
             ],
             [
              0.6666666666666666,
              "#ed7953"
             ],
             [
              0.7777777777777778,
              "#fb9f3a"
             ],
             [
              0.8888888888888888,
              "#fdca26"
             ],
             [
              1,
              "#f0f921"
             ]
            ],
            "type": "surface"
           }
          ],
          "table": [
           {
            "cells": {
             "fill": {
              "color": "#EBF0F8"
             },
             "line": {
              "color": "white"
             }
            },
            "header": {
             "fill": {
              "color": "#C8D4E3"
             },
             "line": {
              "color": "white"
             }
            },
            "type": "table"
           }
          ]
         },
         "layout": {
          "annotationdefaults": {
           "arrowcolor": "#2a3f5f",
           "arrowhead": 0,
           "arrowwidth": 1
          },
          "autotypenumbers": "strict",
          "coloraxis": {
           "colorbar": {
            "outlinewidth": 0,
            "ticks": ""
           }
          },
          "colorscale": {
           "diverging": [
            [
             0,
             "#8e0152"
            ],
            [
             0.1,
             "#c51b7d"
            ],
            [
             0.2,
             "#de77ae"
            ],
            [
             0.3,
             "#f1b6da"
            ],
            [
             0.4,
             "#fde0ef"
            ],
            [
             0.5,
             "#f7f7f7"
            ],
            [
             0.6,
             "#e6f5d0"
            ],
            [
             0.7,
             "#b8e186"
            ],
            [
             0.8,
             "#7fbc41"
            ],
            [
             0.9,
             "#4d9221"
            ],
            [
             1,
             "#276419"
            ]
           ],
           "sequential": [
            [
             0,
             "#0d0887"
            ],
            [
             0.1111111111111111,
             "#46039f"
            ],
            [
             0.2222222222222222,
             "#7201a8"
            ],
            [
             0.3333333333333333,
             "#9c179e"
            ],
            [
             0.4444444444444444,
             "#bd3786"
            ],
            [
             0.5555555555555556,
             "#d8576b"
            ],
            [
             0.6666666666666666,
             "#ed7953"
            ],
            [
             0.7777777777777778,
             "#fb9f3a"
            ],
            [
             0.8888888888888888,
             "#fdca26"
            ],
            [
             1,
             "#f0f921"
            ]
           ],
           "sequentialminus": [
            [
             0,
             "#0d0887"
            ],
            [
             0.1111111111111111,
             "#46039f"
            ],
            [
             0.2222222222222222,
             "#7201a8"
            ],
            [
             0.3333333333333333,
             "#9c179e"
            ],
            [
             0.4444444444444444,
             "#bd3786"
            ],
            [
             0.5555555555555556,
             "#d8576b"
            ],
            [
             0.6666666666666666,
             "#ed7953"
            ],
            [
             0.7777777777777778,
             "#fb9f3a"
            ],
            [
             0.8888888888888888,
             "#fdca26"
            ],
            [
             1,
             "#f0f921"
            ]
           ]
          },
          "colorway": [
           "#636efa",
           "#EF553B",
           "#00cc96",
           "#ab63fa",
           "#FFA15A",
           "#19d3f3",
           "#FF6692",
           "#B6E880",
           "#FF97FF",
           "#FECB52"
          ],
          "font": {
           "color": "#2a3f5f"
          },
          "geo": {
           "bgcolor": "white",
           "lakecolor": "white",
           "landcolor": "#E5ECF6",
           "showlakes": true,
           "showland": true,
           "subunitcolor": "white"
          },
          "hoverlabel": {
           "align": "left"
          },
          "hovermode": "closest",
          "mapbox": {
           "style": "light"
          },
          "paper_bgcolor": "white",
          "plot_bgcolor": "#E5ECF6",
          "polar": {
           "angularaxis": {
            "gridcolor": "white",
            "linecolor": "white",
            "ticks": ""
           },
           "bgcolor": "#E5ECF6",
           "radialaxis": {
            "gridcolor": "white",
            "linecolor": "white",
            "ticks": ""
           }
          },
          "scene": {
           "xaxis": {
            "backgroundcolor": "#E5ECF6",
            "gridcolor": "white",
            "gridwidth": 2,
            "linecolor": "white",
            "showbackground": true,
            "ticks": "",
            "zerolinecolor": "white"
           },
           "yaxis": {
            "backgroundcolor": "#E5ECF6",
            "gridcolor": "white",
            "gridwidth": 2,
            "linecolor": "white",
            "showbackground": true,
            "ticks": "",
            "zerolinecolor": "white"
           },
           "zaxis": {
            "backgroundcolor": "#E5ECF6",
            "gridcolor": "white",
            "gridwidth": 2,
            "linecolor": "white",
            "showbackground": true,
            "ticks": "",
            "zerolinecolor": "white"
           }
          },
          "shapedefaults": {
           "line": {
            "color": "#2a3f5f"
           }
          },
          "ternary": {
           "aaxis": {
            "gridcolor": "white",
            "linecolor": "white",
            "ticks": ""
           },
           "baxis": {
            "gridcolor": "white",
            "linecolor": "white",
            "ticks": ""
           },
           "bgcolor": "#E5ECF6",
           "caxis": {
            "gridcolor": "white",
            "linecolor": "white",
            "ticks": ""
           }
          },
          "title": {
           "x": 0.05
          },
          "xaxis": {
           "automargin": true,
           "gridcolor": "white",
           "linecolor": "white",
           "ticks": "",
           "title": {
            "standoff": 15
           },
           "zerolinecolor": "white",
           "zerolinewidth": 2
          },
          "yaxis": {
           "automargin": true,
           "gridcolor": "white",
           "linecolor": "white",
           "ticks": "",
           "title": {
            "standoff": 15
           },
           "zerolinecolor": "white",
           "zerolinewidth": 2
          }
         }
        },
        "title": {
         "text": "Demandas Registradas HFP - Após Otimização"
        },
        "xaxis": {
         "title": {
          "text": "Tempo (Meses)"
         }
        },
        "yaxis": {
         "range": [
          0,
          160
         ],
         "title": {
          "text": "Demanda (kW)"
         }
        }
       }
      }
     },
     "metadata": {},
     "output_type": "display_data"
    }
   ],
   "source": [
    "x       = []\n",
    "y1      = []\n",
    "y3      = []\n",
    "\n",
    "for i in range(len(input[0]['demanda HFP'])):\n",
    "    y1.append(float(a['Demanda HFP Ótima']))\n",
    "\n",
    "for i in range(len(input[0]['demanda HFP'])):\n",
    "    y3.append(float(input[0]['demanda HFP'][i]))\n",
    "    x.append(input[0]['mes'][i])\n",
    "\n",
    "plot = go.Figure()\n",
    "plot.add_trace(go.Scatter(x=x, y=y1, name='Demanda Contratada HFP      ', marker=dict(color='orange')))\n",
    "plot.add_trace(go.Bar(x=x, y=y3, name='Demandas Registradas HFP', marker=dict(color='blue')))\n",
    "plot.update_layout(yaxis_range=[0,160], \n",
    "                   title='Demandas Registradas HFP - Após Otimização',\n",
    "                   yaxis_title='Demanda (kW)',\n",
    "                   xaxis_title='Tempo (Meses)')\n",
    "plot.update_layout(legend=dict(x=0.01, y=0.01, bgcolor='rgba(255, 255, 255,0.95)'))\n",
    "plot.update_layout(font=dict(size=15))\n",
    "plot.write_image(\"Demandas HFP - Otimizadas.jpg\", format=\"jpg\", scale=10, width=854, height=480)\n",
    "\n",
    "plot.show()"
   ]
  },
  {
   "cell_type": "code",
   "execution_count": 47,
   "id": "edb00b91",
   "metadata": {},
   "outputs": [
    {
     "data": {
      "application/vnd.plotly.v1+json": {
       "config": {
        "plotlyServerURL": "https://plot.ly"
       },
       "data": [
        {
         "marker": {
          "color": "red"
         },
         "name": "Demanda Contratada HP      ",
         "type": "scatter",
         "x": [
          "MAR/22",
          "ABR/22",
          "MAI/22",
          "JUN/22",
          "JUL/22",
          "AGO/22",
          "SET/22",
          "OUT/22",
          "NOV/22",
          "DEZ/22",
          "JAN/23",
          "FEV/23"
         ],
         "y": [
          82,
          82,
          82,
          82,
          82,
          82,
          82,
          82,
          82,
          82,
          82,
          82
         ]
        },
        {
         "marker": {
          "color": "darkblue"
         },
         "name": "Demandas Registradas HP",
         "type": "bar",
         "x": [
          "MAR/22",
          "ABR/22",
          "MAI/22",
          "JUN/22",
          "JUL/22",
          "AGO/22",
          "SET/22",
          "OUT/22",
          "NOV/22",
          "DEZ/22",
          "JAN/23",
          "FEV/23"
         ],
         "y": [
          94,
          96,
          79,
          79,
          72,
          77,
          77,
          84,
          72,
          74,
          82,
          86
         ]
        }
       ],
       "layout": {
        "font": {
         "size": 15
        },
        "legend": {
         "bgcolor": "rgba(255, 255, 255,0.95)",
         "x": 0.01,
         "y": 0.01
        },
        "template": {
         "data": {
          "bar": [
           {
            "error_x": {
             "color": "#2a3f5f"
            },
            "error_y": {
             "color": "#2a3f5f"
            },
            "marker": {
             "line": {
              "color": "#E5ECF6",
              "width": 0.5
             },
             "pattern": {
              "fillmode": "overlay",
              "size": 10,
              "solidity": 0.2
             }
            },
            "type": "bar"
           }
          ],
          "barpolar": [
           {
            "marker": {
             "line": {
              "color": "#E5ECF6",
              "width": 0.5
             },
             "pattern": {
              "fillmode": "overlay",
              "size": 10,
              "solidity": 0.2
             }
            },
            "type": "barpolar"
           }
          ],
          "carpet": [
           {
            "aaxis": {
             "endlinecolor": "#2a3f5f",
             "gridcolor": "white",
             "linecolor": "white",
             "minorgridcolor": "white",
             "startlinecolor": "#2a3f5f"
            },
            "baxis": {
             "endlinecolor": "#2a3f5f",
             "gridcolor": "white",
             "linecolor": "white",
             "minorgridcolor": "white",
             "startlinecolor": "#2a3f5f"
            },
            "type": "carpet"
           }
          ],
          "choropleth": [
           {
            "colorbar": {
             "outlinewidth": 0,
             "ticks": ""
            },
            "type": "choropleth"
           }
          ],
          "contour": [
           {
            "colorbar": {
             "outlinewidth": 0,
             "ticks": ""
            },
            "colorscale": [
             [
              0,
              "#0d0887"
             ],
             [
              0.1111111111111111,
              "#46039f"
             ],
             [
              0.2222222222222222,
              "#7201a8"
             ],
             [
              0.3333333333333333,
              "#9c179e"
             ],
             [
              0.4444444444444444,
              "#bd3786"
             ],
             [
              0.5555555555555556,
              "#d8576b"
             ],
             [
              0.6666666666666666,
              "#ed7953"
             ],
             [
              0.7777777777777778,
              "#fb9f3a"
             ],
             [
              0.8888888888888888,
              "#fdca26"
             ],
             [
              1,
              "#f0f921"
             ]
            ],
            "type": "contour"
           }
          ],
          "contourcarpet": [
           {
            "colorbar": {
             "outlinewidth": 0,
             "ticks": ""
            },
            "type": "contourcarpet"
           }
          ],
          "heatmap": [
           {
            "colorbar": {
             "outlinewidth": 0,
             "ticks": ""
            },
            "colorscale": [
             [
              0,
              "#0d0887"
             ],
             [
              0.1111111111111111,
              "#46039f"
             ],
             [
              0.2222222222222222,
              "#7201a8"
             ],
             [
              0.3333333333333333,
              "#9c179e"
             ],
             [
              0.4444444444444444,
              "#bd3786"
             ],
             [
              0.5555555555555556,
              "#d8576b"
             ],
             [
              0.6666666666666666,
              "#ed7953"
             ],
             [
              0.7777777777777778,
              "#fb9f3a"
             ],
             [
              0.8888888888888888,
              "#fdca26"
             ],
             [
              1,
              "#f0f921"
             ]
            ],
            "type": "heatmap"
           }
          ],
          "heatmapgl": [
           {
            "colorbar": {
             "outlinewidth": 0,
             "ticks": ""
            },
            "colorscale": [
             [
              0,
              "#0d0887"
             ],
             [
              0.1111111111111111,
              "#46039f"
             ],
             [
              0.2222222222222222,
              "#7201a8"
             ],
             [
              0.3333333333333333,
              "#9c179e"
             ],
             [
              0.4444444444444444,
              "#bd3786"
             ],
             [
              0.5555555555555556,
              "#d8576b"
             ],
             [
              0.6666666666666666,
              "#ed7953"
             ],
             [
              0.7777777777777778,
              "#fb9f3a"
             ],
             [
              0.8888888888888888,
              "#fdca26"
             ],
             [
              1,
              "#f0f921"
             ]
            ],
            "type": "heatmapgl"
           }
          ],
          "histogram": [
           {
            "marker": {
             "pattern": {
              "fillmode": "overlay",
              "size": 10,
              "solidity": 0.2
             }
            },
            "type": "histogram"
           }
          ],
          "histogram2d": [
           {
            "colorbar": {
             "outlinewidth": 0,
             "ticks": ""
            },
            "colorscale": [
             [
              0,
              "#0d0887"
             ],
             [
              0.1111111111111111,
              "#46039f"
             ],
             [
              0.2222222222222222,
              "#7201a8"
             ],
             [
              0.3333333333333333,
              "#9c179e"
             ],
             [
              0.4444444444444444,
              "#bd3786"
             ],
             [
              0.5555555555555556,
              "#d8576b"
             ],
             [
              0.6666666666666666,
              "#ed7953"
             ],
             [
              0.7777777777777778,
              "#fb9f3a"
             ],
             [
              0.8888888888888888,
              "#fdca26"
             ],
             [
              1,
              "#f0f921"
             ]
            ],
            "type": "histogram2d"
           }
          ],
          "histogram2dcontour": [
           {
            "colorbar": {
             "outlinewidth": 0,
             "ticks": ""
            },
            "colorscale": [
             [
              0,
              "#0d0887"
             ],
             [
              0.1111111111111111,
              "#46039f"
             ],
             [
              0.2222222222222222,
              "#7201a8"
             ],
             [
              0.3333333333333333,
              "#9c179e"
             ],
             [
              0.4444444444444444,
              "#bd3786"
             ],
             [
              0.5555555555555556,
              "#d8576b"
             ],
             [
              0.6666666666666666,
              "#ed7953"
             ],
             [
              0.7777777777777778,
              "#fb9f3a"
             ],
             [
              0.8888888888888888,
              "#fdca26"
             ],
             [
              1,
              "#f0f921"
             ]
            ],
            "type": "histogram2dcontour"
           }
          ],
          "mesh3d": [
           {
            "colorbar": {
             "outlinewidth": 0,
             "ticks": ""
            },
            "type": "mesh3d"
           }
          ],
          "parcoords": [
           {
            "line": {
             "colorbar": {
              "outlinewidth": 0,
              "ticks": ""
             }
            },
            "type": "parcoords"
           }
          ],
          "pie": [
           {
            "automargin": true,
            "type": "pie"
           }
          ],
          "scatter": [
           {
            "fillpattern": {
             "fillmode": "overlay",
             "size": 10,
             "solidity": 0.2
            },
            "type": "scatter"
           }
          ],
          "scatter3d": [
           {
            "line": {
             "colorbar": {
              "outlinewidth": 0,
              "ticks": ""
             }
            },
            "marker": {
             "colorbar": {
              "outlinewidth": 0,
              "ticks": ""
             }
            },
            "type": "scatter3d"
           }
          ],
          "scattercarpet": [
           {
            "marker": {
             "colorbar": {
              "outlinewidth": 0,
              "ticks": ""
             }
            },
            "type": "scattercarpet"
           }
          ],
          "scattergeo": [
           {
            "marker": {
             "colorbar": {
              "outlinewidth": 0,
              "ticks": ""
             }
            },
            "type": "scattergeo"
           }
          ],
          "scattergl": [
           {
            "marker": {
             "colorbar": {
              "outlinewidth": 0,
              "ticks": ""
             }
            },
            "type": "scattergl"
           }
          ],
          "scattermapbox": [
           {
            "marker": {
             "colorbar": {
              "outlinewidth": 0,
              "ticks": ""
             }
            },
            "type": "scattermapbox"
           }
          ],
          "scatterpolar": [
           {
            "marker": {
             "colorbar": {
              "outlinewidth": 0,
              "ticks": ""
             }
            },
            "type": "scatterpolar"
           }
          ],
          "scatterpolargl": [
           {
            "marker": {
             "colorbar": {
              "outlinewidth": 0,
              "ticks": ""
             }
            },
            "type": "scatterpolargl"
           }
          ],
          "scatterternary": [
           {
            "marker": {
             "colorbar": {
              "outlinewidth": 0,
              "ticks": ""
             }
            },
            "type": "scatterternary"
           }
          ],
          "surface": [
           {
            "colorbar": {
             "outlinewidth": 0,
             "ticks": ""
            },
            "colorscale": [
             [
              0,
              "#0d0887"
             ],
             [
              0.1111111111111111,
              "#46039f"
             ],
             [
              0.2222222222222222,
              "#7201a8"
             ],
             [
              0.3333333333333333,
              "#9c179e"
             ],
             [
              0.4444444444444444,
              "#bd3786"
             ],
             [
              0.5555555555555556,
              "#d8576b"
             ],
             [
              0.6666666666666666,
              "#ed7953"
             ],
             [
              0.7777777777777778,
              "#fb9f3a"
             ],
             [
              0.8888888888888888,
              "#fdca26"
             ],
             [
              1,
              "#f0f921"
             ]
            ],
            "type": "surface"
           }
          ],
          "table": [
           {
            "cells": {
             "fill": {
              "color": "#EBF0F8"
             },
             "line": {
              "color": "white"
             }
            },
            "header": {
             "fill": {
              "color": "#C8D4E3"
             },
             "line": {
              "color": "white"
             }
            },
            "type": "table"
           }
          ]
         },
         "layout": {
          "annotationdefaults": {
           "arrowcolor": "#2a3f5f",
           "arrowhead": 0,
           "arrowwidth": 1
          },
          "autotypenumbers": "strict",
          "coloraxis": {
           "colorbar": {
            "outlinewidth": 0,
            "ticks": ""
           }
          },
          "colorscale": {
           "diverging": [
            [
             0,
             "#8e0152"
            ],
            [
             0.1,
             "#c51b7d"
            ],
            [
             0.2,
             "#de77ae"
            ],
            [
             0.3,
             "#f1b6da"
            ],
            [
             0.4,
             "#fde0ef"
            ],
            [
             0.5,
             "#f7f7f7"
            ],
            [
             0.6,
             "#e6f5d0"
            ],
            [
             0.7,
             "#b8e186"
            ],
            [
             0.8,
             "#7fbc41"
            ],
            [
             0.9,
             "#4d9221"
            ],
            [
             1,
             "#276419"
            ]
           ],
           "sequential": [
            [
             0,
             "#0d0887"
            ],
            [
             0.1111111111111111,
             "#46039f"
            ],
            [
             0.2222222222222222,
             "#7201a8"
            ],
            [
             0.3333333333333333,
             "#9c179e"
            ],
            [
             0.4444444444444444,
             "#bd3786"
            ],
            [
             0.5555555555555556,
             "#d8576b"
            ],
            [
             0.6666666666666666,
             "#ed7953"
            ],
            [
             0.7777777777777778,
             "#fb9f3a"
            ],
            [
             0.8888888888888888,
             "#fdca26"
            ],
            [
             1,
             "#f0f921"
            ]
           ],
           "sequentialminus": [
            [
             0,
             "#0d0887"
            ],
            [
             0.1111111111111111,
             "#46039f"
            ],
            [
             0.2222222222222222,
             "#7201a8"
            ],
            [
             0.3333333333333333,
             "#9c179e"
            ],
            [
             0.4444444444444444,
             "#bd3786"
            ],
            [
             0.5555555555555556,
             "#d8576b"
            ],
            [
             0.6666666666666666,
             "#ed7953"
            ],
            [
             0.7777777777777778,
             "#fb9f3a"
            ],
            [
             0.8888888888888888,
             "#fdca26"
            ],
            [
             1,
             "#f0f921"
            ]
           ]
          },
          "colorway": [
           "#636efa",
           "#EF553B",
           "#00cc96",
           "#ab63fa",
           "#FFA15A",
           "#19d3f3",
           "#FF6692",
           "#B6E880",
           "#FF97FF",
           "#FECB52"
          ],
          "font": {
           "color": "#2a3f5f"
          },
          "geo": {
           "bgcolor": "white",
           "lakecolor": "white",
           "landcolor": "#E5ECF6",
           "showlakes": true,
           "showland": true,
           "subunitcolor": "white"
          },
          "hoverlabel": {
           "align": "left"
          },
          "hovermode": "closest",
          "mapbox": {
           "style": "light"
          },
          "paper_bgcolor": "white",
          "plot_bgcolor": "#E5ECF6",
          "polar": {
           "angularaxis": {
            "gridcolor": "white",
            "linecolor": "white",
            "ticks": ""
           },
           "bgcolor": "#E5ECF6",
           "radialaxis": {
            "gridcolor": "white",
            "linecolor": "white",
            "ticks": ""
           }
          },
          "scene": {
           "xaxis": {
            "backgroundcolor": "#E5ECF6",
            "gridcolor": "white",
            "gridwidth": 2,
            "linecolor": "white",
            "showbackground": true,
            "ticks": "",
            "zerolinecolor": "white"
           },
           "yaxis": {
            "backgroundcolor": "#E5ECF6",
            "gridcolor": "white",
            "gridwidth": 2,
            "linecolor": "white",
            "showbackground": true,
            "ticks": "",
            "zerolinecolor": "white"
           },
           "zaxis": {
            "backgroundcolor": "#E5ECF6",
            "gridcolor": "white",
            "gridwidth": 2,
            "linecolor": "white",
            "showbackground": true,
            "ticks": "",
            "zerolinecolor": "white"
           }
          },
          "shapedefaults": {
           "line": {
            "color": "#2a3f5f"
           }
          },
          "ternary": {
           "aaxis": {
            "gridcolor": "white",
            "linecolor": "white",
            "ticks": ""
           },
           "baxis": {
            "gridcolor": "white",
            "linecolor": "white",
            "ticks": ""
           },
           "bgcolor": "#E5ECF6",
           "caxis": {
            "gridcolor": "white",
            "linecolor": "white",
            "ticks": ""
           }
          },
          "title": {
           "x": 0.05
          },
          "xaxis": {
           "automargin": true,
           "gridcolor": "white",
           "linecolor": "white",
           "ticks": "",
           "title": {
            "standoff": 15
           },
           "zerolinecolor": "white",
           "zerolinewidth": 2
          },
          "yaxis": {
           "automargin": true,
           "gridcolor": "white",
           "linecolor": "white",
           "ticks": "",
           "title": {
            "standoff": 15
           },
           "zerolinecolor": "white",
           "zerolinewidth": 2
          }
         }
        },
        "title": {
         "text": "Demandas Registradas HP - Após Otimização"
        },
        "xaxis": {
         "title": {
          "text": "Tempo (Meses)"
         }
        },
        "yaxis": {
         "range": [
          0,
          160
         ],
         "title": {
          "text": "Demanda (kW)"
         }
        }
       }
      }
     },
     "metadata": {},
     "output_type": "display_data"
    }
   ],
   "source": [
    "x       = []\n",
    "y1      = []\n",
    "y3      = []\n",
    "\n",
    "for i in range(len(input[0]['demanda HFP'])):\n",
    "    y1.append(float(a['Demanda HP Ótima']))\n",
    "\n",
    "for i in range(len(input[0]['demanda HP'])):\n",
    "    y3.append(float(input[0]['demanda HP'][i]))\n",
    "    x.append(input[0]['mes'][i])\n",
    "\n",
    "plot = go.Figure()\n",
    "plot.add_trace(go.Scatter(x=x, y=y1, name='Demanda Contratada HP      ', marker=dict(color='red')))\n",
    "plot.add_trace(go.Bar(x=x, y=y3, name='Demandas Registradas HP', marker=dict(color='darkblue')))\n",
    "plot.update_layout(yaxis_range=[0,160], \n",
    "                   title='Demandas Registradas HP - Após Otimização',\n",
    "                   yaxis_title='Demanda (kW)',\n",
    "                   xaxis_title='Tempo (Meses)')\n",
    "plot.update_layout(legend=dict(x=0.01, y=0.01, bgcolor='rgba(255, 255, 255,0.95)'))\n",
    "plot.update_layout(font=dict(size=15)) \n",
    "plot.write_image(\"Demandas HP - Otimizadas.jpg\", format=\"jpg\", scale=10, width=854, height=480)\n",
    "\n",
    "plot.show()"
   ]
  },
  {
   "cell_type": "code",
   "execution_count": 48,
   "id": "ef90159b",
   "metadata": {},
   "outputs": [
    {
     "data": {
      "text/html": [
       "<style type=\"text/css\">\n",
       "#T_beaf6 caption {\n",
       "  font-size: 20px;\n",
       "  font-weight: bold;\n",
       "  text-align: center;\n",
       "  color: black;\n",
       "  font-style: italic;\n",
       "}\n",
       "#T_beaf6_row12_col1, #T_beaf6_row12_col3 {\n",
       "  background-color: red;\n",
       "  color: white;\n",
       "}\n",
       "</style>\n",
       "<table id=\"T_beaf6\">\n",
       "  <caption>Custo Atual: Demanda HFP</caption>\n",
       "  <thead>\n",
       "    <tr>\n",
       "      <th class=\"blank level0\" >&nbsp;</th>\n",
       "      <th id=\"T_beaf6_level0_col0\" class=\"col_heading level0 col0\" >Custo demanda</th>\n",
       "      <th id=\"T_beaf6_level0_col1\" class=\"col_heading level0 col1\" >Custo demanda s/ICMS</th>\n",
       "      <th id=\"T_beaf6_level0_col2\" class=\"col_heading level0 col2\" >Custo demanda Ultrapassagem</th>\n",
       "      <th id=\"T_beaf6_level0_col3\" class=\"col_heading level0 col3\" >Custo Total mensal</th>\n",
       "    </tr>\n",
       "  </thead>\n",
       "  <tbody>\n",
       "    <tr>\n",
       "      <th id=\"T_beaf6_level0_row0\" class=\"row_heading level0 row0\" >MAR/22</th>\n",
       "      <td id=\"T_beaf6_row0_col0\" class=\"data row0 col0\" >2229.88</td>\n",
       "      <td id=\"T_beaf6_row0_col1\" class=\"data row0 col1\" >645.06</td>\n",
       "      <td id=\"T_beaf6_row0_col2\" class=\"data row0 col2\" >0.00</td>\n",
       "      <td id=\"T_beaf6_row0_col3\" class=\"data row0 col3\" >2874.94</td>\n",
       "    </tr>\n",
       "    <tr>\n",
       "      <th id=\"T_beaf6_level0_row1\" class=\"row_heading level0 row1\" >ABR/22</th>\n",
       "      <td id=\"T_beaf6_row1_col0\" class=\"data row1 col0\" >1977.44</td>\n",
       "      <td id=\"T_beaf6_row1_col1\" class=\"data row1 col1\" >843.54</td>\n",
       "      <td id=\"T_beaf6_row1_col2\" class=\"data row1 col2\" >0.00</td>\n",
       "      <td id=\"T_beaf6_row1_col3\" class=\"data row1 col3\" >2820.98</td>\n",
       "    </tr>\n",
       "    <tr>\n",
       "      <th id=\"T_beaf6_level0_row2\" class=\"row_heading level0 row2\" >MAI/22</th>\n",
       "      <td id=\"T_beaf6_row2_col0\" class=\"data row2 col0\" >1872.26</td>\n",
       "      <td id=\"T_beaf6_row2_col1\" class=\"data row2 col1\" >926.24</td>\n",
       "      <td id=\"T_beaf6_row2_col2\" class=\"data row2 col2\" >0.00</td>\n",
       "      <td id=\"T_beaf6_row2_col3\" class=\"data row2 col3\" >2798.50</td>\n",
       "    </tr>\n",
       "    <tr>\n",
       "      <th id=\"T_beaf6_level0_row3\" class=\"row_heading level0 row3\" >JUN/22</th>\n",
       "      <td id=\"T_beaf6_row3_col0\" class=\"data row3 col0\" >1661.89</td>\n",
       "      <td id=\"T_beaf6_row3_col1\" class=\"data row3 col1\" >1091.64</td>\n",
       "      <td id=\"T_beaf6_row3_col2\" class=\"data row3 col2\" >0.00</td>\n",
       "      <td id=\"T_beaf6_row3_col3\" class=\"data row3 col3\" >2753.53</td>\n",
       "    </tr>\n",
       "    <tr>\n",
       "      <th id=\"T_beaf6_level0_row4\" class=\"row_heading level0 row4\" >JUL/22</th>\n",
       "      <td id=\"T_beaf6_row4_col0\" class=\"data row4 col0\" >1619.82</td>\n",
       "      <td id=\"T_beaf6_row4_col1\" class=\"data row4 col1\" >1124.72</td>\n",
       "      <td id=\"T_beaf6_row4_col2\" class=\"data row4 col2\" >0.00</td>\n",
       "      <td id=\"T_beaf6_row4_col3\" class=\"data row4 col3\" >2744.54</td>\n",
       "    </tr>\n",
       "    <tr>\n",
       "      <th id=\"T_beaf6_level0_row5\" class=\"row_heading level0 row5\" >AGO/22</th>\n",
       "      <td id=\"T_beaf6_row5_col0\" class=\"data row5 col0\" >1725.00</td>\n",
       "      <td id=\"T_beaf6_row5_col1\" class=\"data row5 col1\" >1042.02</td>\n",
       "      <td id=\"T_beaf6_row5_col2\" class=\"data row5 col2\" >0.00</td>\n",
       "      <td id=\"T_beaf6_row5_col3\" class=\"data row5 col3\" >2767.02</td>\n",
       "    </tr>\n",
       "    <tr>\n",
       "      <th id=\"T_beaf6_level0_row6\" class=\"row_heading level0 row6\" >SET/22</th>\n",
       "      <td id=\"T_beaf6_row6_col0\" class=\"data row6 col0\" >1872.26</td>\n",
       "      <td id=\"T_beaf6_row6_col1\" class=\"data row6 col1\" >926.24</td>\n",
       "      <td id=\"T_beaf6_row6_col2\" class=\"data row6 col2\" >0.00</td>\n",
       "      <td id=\"T_beaf6_row6_col3\" class=\"data row6 col3\" >2798.50</td>\n",
       "    </tr>\n",
       "    <tr>\n",
       "      <th id=\"T_beaf6_level0_row7\" class=\"row_heading level0 row7\" >OUT/22</th>\n",
       "      <td id=\"T_beaf6_row7_col0\" class=\"data row7 col0\" >1914.33</td>\n",
       "      <td id=\"T_beaf6_row7_col1\" class=\"data row7 col1\" >893.16</td>\n",
       "      <td id=\"T_beaf6_row7_col2\" class=\"data row7 col2\" >0.00</td>\n",
       "      <td id=\"T_beaf6_row7_col3\" class=\"data row7 col3\" >2807.49</td>\n",
       "    </tr>\n",
       "    <tr>\n",
       "      <th id=\"T_beaf6_level0_row8\" class=\"row_heading level0 row8\" >NOV/22</th>\n",
       "      <td id=\"T_beaf6_row8_col0\" class=\"data row8 col0\" >1661.89</td>\n",
       "      <td id=\"T_beaf6_row8_col1\" class=\"data row8 col1\" >1091.64</td>\n",
       "      <td id=\"T_beaf6_row8_col2\" class=\"data row8 col2\" >0.00</td>\n",
       "      <td id=\"T_beaf6_row8_col3\" class=\"data row8 col3\" >2753.53</td>\n",
       "    </tr>\n",
       "    <tr>\n",
       "      <th id=\"T_beaf6_level0_row9\" class=\"row_heading level0 row9\" >DEZ/22</th>\n",
       "      <td id=\"T_beaf6_row9_col0\" class=\"data row9 col0\" >1977.44</td>\n",
       "      <td id=\"T_beaf6_row9_col1\" class=\"data row9 col1\" >843.54</td>\n",
       "      <td id=\"T_beaf6_row9_col2\" class=\"data row9 col2\" >0.00</td>\n",
       "      <td id=\"T_beaf6_row9_col3\" class=\"data row9 col3\" >2820.98</td>\n",
       "    </tr>\n",
       "    <tr>\n",
       "      <th id=\"T_beaf6_level0_row10\" class=\"row_heading level0 row10\" >JAN/23</th>\n",
       "      <td id=\"T_beaf6_row10_col0\" class=\"data row10 col0\" >1872.26</td>\n",
       "      <td id=\"T_beaf6_row10_col1\" class=\"data row10 col1\" >926.24</td>\n",
       "      <td id=\"T_beaf6_row10_col2\" class=\"data row10 col2\" >0.00</td>\n",
       "      <td id=\"T_beaf6_row10_col3\" class=\"data row10 col3\" >2798.50</td>\n",
       "    </tr>\n",
       "    <tr>\n",
       "      <th id=\"T_beaf6_level0_row11\" class=\"row_heading level0 row11\" >FEV/23</th>\n",
       "      <td id=\"T_beaf6_row11_col0\" class=\"data row11 col0\" >2040.55</td>\n",
       "      <td id=\"T_beaf6_row11_col1\" class=\"data row11 col1\" >793.92</td>\n",
       "      <td id=\"T_beaf6_row11_col2\" class=\"data row11 col2\" >0.00</td>\n",
       "      <td id=\"T_beaf6_row11_col3\" class=\"data row11 col3\" >2834.47</td>\n",
       "    </tr>\n",
       "    <tr>\n",
       "      <th id=\"T_beaf6_level0_row12\" class=\"row_heading level0 row12\" >TOTAL</th>\n",
       "      <td id=\"T_beaf6_row12_col0\" class=\"data row12 col0\" >22425.01</td>\n",
       "      <td id=\"T_beaf6_row12_col1\" class=\"data row12 col1\" >11147.96</td>\n",
       "      <td id=\"T_beaf6_row12_col2\" class=\"data row12 col2\" >0.00</td>\n",
       "      <td id=\"T_beaf6_row12_col3\" class=\"data row12 col3\" >33572.97</td>\n",
       "    </tr>\n",
       "  </tbody>\n",
       "</table>\n"
      ],
      "text/plain": [
       "<pandas.io.formats.style.Styler at 0x1ceaef09b20>"
      ]
     },
     "execution_count": 48,
     "metadata": {},
     "output_type": "execute_result"
    }
   ],
   "source": [
    "df = pd.DataFrame(a['Anual Atual HFP'], index=input[0]['mes'])\n",
    "df.loc['TOTAL'] = df.sum()\n",
    "df.style.highlight_max(subset=['Custo Total mensal'], props='background-color: red; color: white'\n",
    "       ).set_caption('Custo Atual: Demanda HFP'\n",
    "       ).highlight_max(subset=['Custo demanda s/ICMS'], props='background-color: red; color: white'\n",
    "       ).set_table_styles([{ 'selector':'caption',\n",
    "           'props':'font-size: 20px; font-weight: bold; text-align: center; color: black;font-style: italic'}]\n",
    "       ).format({'Custo demanda':'{:.2f}', 'Custo demanda s/ICMS':'{:.2f}', 'Custo demanda Ultrapassagem':'{:.2f}', 'Custo Total mensal':'{:.2f}' })"
   ]
  },
  {
   "cell_type": "code",
   "execution_count": 49,
   "id": "91ac328d",
   "metadata": {},
   "outputs": [
    {
     "data": {
      "text/html": [
       "<style type=\"text/css\">\n",
       "#T_8e7b3 caption {\n",
       "  font-size: 20px;\n",
       "  font-weight: bold;\n",
       "  text-align: center;\n",
       "  color: black;\n",
       "  font-style: italic;\n",
       "}\n",
       "#T_8e7b3_row12_col1 {\n",
       "  background-color: blue;\n",
       "  color: white;\n",
       "}\n",
       "#T_8e7b3_row12_col3 {\n",
       "  background-color: green;\n",
       "  color: white;\n",
       "}\n",
       "</style>\n",
       "<table id=\"T_8e7b3\">\n",
       "  <caption>Custo Ótimo: Demanda HFP</caption>\n",
       "  <thead>\n",
       "    <tr>\n",
       "      <th class=\"blank level0\" >&nbsp;</th>\n",
       "      <th id=\"T_8e7b3_level0_col0\" class=\"col_heading level0 col0\" >Custo demanda</th>\n",
       "      <th id=\"T_8e7b3_level0_col1\" class=\"col_heading level0 col1\" >Custo demanda s/ICMS</th>\n",
       "      <th id=\"T_8e7b3_level0_col2\" class=\"col_heading level0 col2\" >Custo demanda Ultrapassagem</th>\n",
       "      <th id=\"T_8e7b3_level0_col3\" class=\"col_heading level0 col3\" >Custo Total mensal</th>\n",
       "    </tr>\n",
       "  </thead>\n",
       "  <tbody>\n",
       "    <tr>\n",
       "      <th id=\"T_8e7b3_level0_row0\" class=\"row_heading level0 row0\" >MAR/22</th>\n",
       "      <td id=\"T_8e7b3_row0_col0\" class=\"data row0 col0\" >2229.88</td>\n",
       "      <td id=\"T_8e7b3_row0_col1\" class=\"data row0 col1\" >0.00</td>\n",
       "      <td id=\"T_8e7b3_row0_col2\" class=\"data row0 col2\" >546.95</td>\n",
       "      <td id=\"T_8e7b3_row0_col3\" class=\"data row0 col3\" >2776.83</td>\n",
       "    </tr>\n",
       "    <tr>\n",
       "      <th id=\"T_8e7b3_level0_row1\" class=\"row_heading level0 row1\" >ABR/22</th>\n",
       "      <td id=\"T_8e7b3_row1_col0\" class=\"data row1 col0\" >1977.44</td>\n",
       "      <td id=\"T_8e7b3_row1_col1\" class=\"data row1 col1\" >0.00</td>\n",
       "      <td id=\"T_8e7b3_row1_col2\" class=\"data row1 col2\" >0.00</td>\n",
       "      <td id=\"T_8e7b3_row1_col3\" class=\"data row1 col3\" >1977.44</td>\n",
       "    </tr>\n",
       "    <tr>\n",
       "      <th id=\"T_8e7b3_level0_row2\" class=\"row_heading level0 row2\" >MAI/22</th>\n",
       "      <td id=\"T_8e7b3_row2_col0\" class=\"data row2 col0\" >1872.26</td>\n",
       "      <td id=\"T_8e7b3_row2_col1\" class=\"data row2 col1\" >66.16</td>\n",
       "      <td id=\"T_8e7b3_row2_col2\" class=\"data row2 col2\" >0.00</td>\n",
       "      <td id=\"T_8e7b3_row2_col3\" class=\"data row2 col3\" >1938.42</td>\n",
       "    </tr>\n",
       "    <tr>\n",
       "      <th id=\"T_8e7b3_level0_row3\" class=\"row_heading level0 row3\" >JUN/22</th>\n",
       "      <td id=\"T_8e7b3_row3_col0\" class=\"data row3 col0\" >1661.89</td>\n",
       "      <td id=\"T_8e7b3_row3_col1\" class=\"data row3 col1\" >231.56</td>\n",
       "      <td id=\"T_8e7b3_row3_col2\" class=\"data row3 col2\" >0.00</td>\n",
       "      <td id=\"T_8e7b3_row3_col3\" class=\"data row3 col3\" >1893.45</td>\n",
       "    </tr>\n",
       "    <tr>\n",
       "      <th id=\"T_8e7b3_level0_row4\" class=\"row_heading level0 row4\" >JUL/22</th>\n",
       "      <td id=\"T_8e7b3_row4_col0\" class=\"data row4 col0\" >1619.82</td>\n",
       "      <td id=\"T_8e7b3_row4_col1\" class=\"data row4 col1\" >264.64</td>\n",
       "      <td id=\"T_8e7b3_row4_col2\" class=\"data row4 col2\" >0.00</td>\n",
       "      <td id=\"T_8e7b3_row4_col3\" class=\"data row4 col3\" >1884.46</td>\n",
       "    </tr>\n",
       "    <tr>\n",
       "      <th id=\"T_8e7b3_level0_row5\" class=\"row_heading level0 row5\" >AGO/22</th>\n",
       "      <td id=\"T_8e7b3_row5_col0\" class=\"data row5 col0\" >1725.00</td>\n",
       "      <td id=\"T_8e7b3_row5_col1\" class=\"data row5 col1\" >181.94</td>\n",
       "      <td id=\"T_8e7b3_row5_col2\" class=\"data row5 col2\" >0.00</td>\n",
       "      <td id=\"T_8e7b3_row5_col3\" class=\"data row5 col3\" >1906.94</td>\n",
       "    </tr>\n",
       "    <tr>\n",
       "      <th id=\"T_8e7b3_level0_row6\" class=\"row_heading level0 row6\" >SET/22</th>\n",
       "      <td id=\"T_8e7b3_row6_col0\" class=\"data row6 col0\" >1872.26</td>\n",
       "      <td id=\"T_8e7b3_row6_col1\" class=\"data row6 col1\" >66.16</td>\n",
       "      <td id=\"T_8e7b3_row6_col2\" class=\"data row6 col2\" >0.00</td>\n",
       "      <td id=\"T_8e7b3_row6_col3\" class=\"data row6 col3\" >1938.42</td>\n",
       "    </tr>\n",
       "    <tr>\n",
       "      <th id=\"T_8e7b3_level0_row7\" class=\"row_heading level0 row7\" >OUT/22</th>\n",
       "      <td id=\"T_8e7b3_row7_col0\" class=\"data row7 col0\" >1914.33</td>\n",
       "      <td id=\"T_8e7b3_row7_col1\" class=\"data row7 col1\" >33.08</td>\n",
       "      <td id=\"T_8e7b3_row7_col2\" class=\"data row7 col2\" >0.00</td>\n",
       "      <td id=\"T_8e7b3_row7_col3\" class=\"data row7 col3\" >1947.41</td>\n",
       "    </tr>\n",
       "    <tr>\n",
       "      <th id=\"T_8e7b3_level0_row8\" class=\"row_heading level0 row8\" >NOV/22</th>\n",
       "      <td id=\"T_8e7b3_row8_col0\" class=\"data row8 col0\" >1661.89</td>\n",
       "      <td id=\"T_8e7b3_row8_col1\" class=\"data row8 col1\" >231.56</td>\n",
       "      <td id=\"T_8e7b3_row8_col2\" class=\"data row8 col2\" >0.00</td>\n",
       "      <td id=\"T_8e7b3_row8_col3\" class=\"data row8 col3\" >1893.45</td>\n",
       "    </tr>\n",
       "    <tr>\n",
       "      <th id=\"T_8e7b3_level0_row9\" class=\"row_heading level0 row9\" >DEZ/22</th>\n",
       "      <td id=\"T_8e7b3_row9_col0\" class=\"data row9 col0\" >1977.44</td>\n",
       "      <td id=\"T_8e7b3_row9_col1\" class=\"data row9 col1\" >0.00</td>\n",
       "      <td id=\"T_8e7b3_row9_col2\" class=\"data row9 col2\" >0.00</td>\n",
       "      <td id=\"T_8e7b3_row9_col3\" class=\"data row9 col3\" >1977.44</td>\n",
       "    </tr>\n",
       "    <tr>\n",
       "      <th id=\"T_8e7b3_level0_row10\" class=\"row_heading level0 row10\" >JAN/23</th>\n",
       "      <td id=\"T_8e7b3_row10_col0\" class=\"data row10 col0\" >1872.26</td>\n",
       "      <td id=\"T_8e7b3_row10_col1\" class=\"data row10 col1\" >66.16</td>\n",
       "      <td id=\"T_8e7b3_row10_col2\" class=\"data row10 col2\" >0.00</td>\n",
       "      <td id=\"T_8e7b3_row10_col3\" class=\"data row10 col3\" >1938.42</td>\n",
       "    </tr>\n",
       "    <tr>\n",
       "      <th id=\"T_8e7b3_level0_row11\" class=\"row_heading level0 row11\" >FEV/23</th>\n",
       "      <td id=\"T_8e7b3_row11_col0\" class=\"data row11 col0\" >2040.55</td>\n",
       "      <td id=\"T_8e7b3_row11_col1\" class=\"data row11 col1\" >0.00</td>\n",
       "      <td id=\"T_8e7b3_row11_col2\" class=\"data row11 col2\" >0.00</td>\n",
       "      <td id=\"T_8e7b3_row11_col3\" class=\"data row11 col3\" >2040.55</td>\n",
       "    </tr>\n",
       "    <tr>\n",
       "      <th id=\"T_8e7b3_level0_row12\" class=\"row_heading level0 row12\" >TOTAL</th>\n",
       "      <td id=\"T_8e7b3_row12_col0\" class=\"data row12 col0\" >22425.01</td>\n",
       "      <td id=\"T_8e7b3_row12_col1\" class=\"data row12 col1\" >1141.26</td>\n",
       "      <td id=\"T_8e7b3_row12_col2\" class=\"data row12 col2\" >546.95</td>\n",
       "      <td id=\"T_8e7b3_row12_col3\" class=\"data row12 col3\" >24113.23</td>\n",
       "    </tr>\n",
       "  </tbody>\n",
       "</table>\n"
      ],
      "text/plain": [
       "<pandas.io.formats.style.Styler at 0x1ceaf2d0c80>"
      ]
     },
     "execution_count": 49,
     "metadata": {},
     "output_type": "execute_result"
    }
   ],
   "source": [
    "df1 = pd.DataFrame(a['Anual Ótima HFP'], index=input[0]['mes'])\n",
    "df1.loc['TOTAL'] = df1.sum()\n",
    "df1.style.highlight_max(subset=['Custo Total mensal'], props='background-color: green; color: white'\n",
    "       ).highlight_max(subset=['Custo demanda s/ICMS'], props='background-color: blue; color: white'\n",
    "       ).set_caption('Custo Ótimo: Demanda HFP'\n",
    "       ).set_table_styles([{ 'selector':'caption',\n",
    "            'props':'font-size: 20px; font-weight: bold; text-align: center; color: black;font-style: italic'}]\n",
    "       ).format({'Custo demanda':'{:.2f}', 'Custo demanda s/ICMS':'{:.2f}', 'Custo demanda Ultrapassagem':'{:.2f}', 'Custo Total mensal':'{:.2f}' })\n",
    "\n"
   ]
  },
  {
   "cell_type": "code",
   "execution_count": 50,
   "id": "5432a7a8",
   "metadata": {},
   "outputs": [
    {
     "data": {
      "text/html": [
       "<style type=\"text/css\">\n",
       "#T_a0ec9 caption {\n",
       "  font-size: 20px;\n",
       "  font-weight: bold;\n",
       "  text-align: center;\n",
       "  color: black;\n",
       "  font-style: italic;\n",
       "}\n",
       "#T_a0ec9_row12_col1, #T_a0ec9_row12_col3 {\n",
       "  background-color: red;\n",
       "  color: white;\n",
       "}\n",
       "</style>\n",
       "<table id=\"T_a0ec9\">\n",
       "  <caption>Custo Atual: Demanda HP</caption>\n",
       "  <thead>\n",
       "    <tr>\n",
       "      <th class=\"blank level0\" >&nbsp;</th>\n",
       "      <th id=\"T_a0ec9_level0_col0\" class=\"col_heading level0 col0\" >Custo demanda</th>\n",
       "      <th id=\"T_a0ec9_level0_col1\" class=\"col_heading level0 col1\" >Custo demanda s/ICMS</th>\n",
       "      <th id=\"T_a0ec9_level0_col2\" class=\"col_heading level0 col2\" >Custo demanda Ultrapassagem</th>\n",
       "      <th id=\"T_a0ec9_level0_col3\" class=\"col_heading level0 col3\" >Custo Total mensal</th>\n",
       "    </tr>\n",
       "  </thead>\n",
       "  <tbody>\n",
       "    <tr>\n",
       "      <th id=\"T_a0ec9_level0_row0\" class=\"row_heading level0 row0\" >MAR/22</th>\n",
       "      <td id=\"T_a0ec9_row0_col0\" class=\"data row0 col0\" >5968.19</td>\n",
       "      <td id=\"T_a0ec9_row0_col1\" class=\"data row0 col1\" >2545.92</td>\n",
       "      <td id=\"T_a0ec9_row0_col2\" class=\"data row0 col2\" >0.00</td>\n",
       "      <td id=\"T_a0ec9_row0_col3\" class=\"data row0 col3\" >8514.11</td>\n",
       "    </tr>\n",
       "    <tr>\n",
       "      <th id=\"T_a0ec9_level0_row1\" class=\"row_heading level0 row1\" >ABR/22</th>\n",
       "      <td id=\"T_a0ec9_row1_col0\" class=\"data row1 col0\" >6095.17</td>\n",
       "      <td id=\"T_a0ec9_row1_col1\" class=\"data row1 col1\" >2446.08</td>\n",
       "      <td id=\"T_a0ec9_row1_col2\" class=\"data row1 col2\" >0.00</td>\n",
       "      <td id=\"T_a0ec9_row1_col3\" class=\"data row1 col3\" >8541.25</td>\n",
       "    </tr>\n",
       "    <tr>\n",
       "      <th id=\"T_a0ec9_level0_row2\" class=\"row_heading level0 row2\" >MAI/22</th>\n",
       "      <td id=\"T_a0ec9_row2_col0\" class=\"data row2 col0\" >5015.82</td>\n",
       "      <td id=\"T_a0ec9_row2_col1\" class=\"data row2 col1\" >3294.72</td>\n",
       "      <td id=\"T_a0ec9_row2_col2\" class=\"data row2 col2\" >0.00</td>\n",
       "      <td id=\"T_a0ec9_row2_col3\" class=\"data row2 col3\" >8310.54</td>\n",
       "    </tr>\n",
       "    <tr>\n",
       "      <th id=\"T_a0ec9_level0_row3\" class=\"row_heading level0 row3\" >JUN/22</th>\n",
       "      <td id=\"T_a0ec9_row3_col0\" class=\"data row3 col0\" >5015.82</td>\n",
       "      <td id=\"T_a0ec9_row3_col1\" class=\"data row3 col1\" >3294.72</td>\n",
       "      <td id=\"T_a0ec9_row3_col2\" class=\"data row3 col2\" >0.00</td>\n",
       "      <td id=\"T_a0ec9_row3_col3\" class=\"data row3 col3\" >8310.54</td>\n",
       "    </tr>\n",
       "    <tr>\n",
       "      <th id=\"T_a0ec9_level0_row4\" class=\"row_heading level0 row4\" >JUL/22</th>\n",
       "      <td id=\"T_a0ec9_row4_col0\" class=\"data row4 col0\" >4571.38</td>\n",
       "      <td id=\"T_a0ec9_row4_col1\" class=\"data row4 col1\" >3644.16</td>\n",
       "      <td id=\"T_a0ec9_row4_col2\" class=\"data row4 col2\" >0.00</td>\n",
       "      <td id=\"T_a0ec9_row4_col3\" class=\"data row4 col3\" >8215.54</td>\n",
       "    </tr>\n",
       "    <tr>\n",
       "      <th id=\"T_a0ec9_level0_row5\" class=\"row_heading level0 row5\" >AGO/22</th>\n",
       "      <td id=\"T_a0ec9_row5_col0\" class=\"data row5 col0\" >4888.83</td>\n",
       "      <td id=\"T_a0ec9_row5_col1\" class=\"data row5 col1\" >3394.56</td>\n",
       "      <td id=\"T_a0ec9_row5_col2\" class=\"data row5 col2\" >0.00</td>\n",
       "      <td id=\"T_a0ec9_row5_col3\" class=\"data row5 col3\" >8283.39</td>\n",
       "    </tr>\n",
       "    <tr>\n",
       "      <th id=\"T_a0ec9_level0_row6\" class=\"row_heading level0 row6\" >SET/22</th>\n",
       "      <td id=\"T_a0ec9_row6_col0\" class=\"data row6 col0\" >4888.83</td>\n",
       "      <td id=\"T_a0ec9_row6_col1\" class=\"data row6 col1\" >3394.56</td>\n",
       "      <td id=\"T_a0ec9_row6_col2\" class=\"data row6 col2\" >0.00</td>\n",
       "      <td id=\"T_a0ec9_row6_col3\" class=\"data row6 col3\" >8283.39</td>\n",
       "    </tr>\n",
       "    <tr>\n",
       "      <th id=\"T_a0ec9_level0_row7\" class=\"row_heading level0 row7\" >OUT/22</th>\n",
       "      <td id=\"T_a0ec9_row7_col0\" class=\"data row7 col0\" >5333.27</td>\n",
       "      <td id=\"T_a0ec9_row7_col1\" class=\"data row7 col1\" >3045.12</td>\n",
       "      <td id=\"T_a0ec9_row7_col2\" class=\"data row7 col2\" >0.00</td>\n",
       "      <td id=\"T_a0ec9_row7_col3\" class=\"data row7 col3\" >8378.39</td>\n",
       "    </tr>\n",
       "    <tr>\n",
       "      <th id=\"T_a0ec9_level0_row8\" class=\"row_heading level0 row8\" >NOV/22</th>\n",
       "      <td id=\"T_a0ec9_row8_col0\" class=\"data row8 col0\" >4571.38</td>\n",
       "      <td id=\"T_a0ec9_row8_col1\" class=\"data row8 col1\" >3644.16</td>\n",
       "      <td id=\"T_a0ec9_row8_col2\" class=\"data row8 col2\" >0.00</td>\n",
       "      <td id=\"T_a0ec9_row8_col3\" class=\"data row8 col3\" >8215.54</td>\n",
       "    </tr>\n",
       "    <tr>\n",
       "      <th id=\"T_a0ec9_level0_row9\" class=\"row_heading level0 row9\" >DEZ/22</th>\n",
       "      <td id=\"T_a0ec9_row9_col0\" class=\"data row9 col0\" >4698.36</td>\n",
       "      <td id=\"T_a0ec9_row9_col1\" class=\"data row9 col1\" >3544.32</td>\n",
       "      <td id=\"T_a0ec9_row9_col2\" class=\"data row9 col2\" >0.00</td>\n",
       "      <td id=\"T_a0ec9_row9_col3\" class=\"data row9 col3\" >8242.68</td>\n",
       "    </tr>\n",
       "    <tr>\n",
       "      <th id=\"T_a0ec9_level0_row10\" class=\"row_heading level0 row10\" >JAN/23</th>\n",
       "      <td id=\"T_a0ec9_row10_col0\" class=\"data row10 col0\" >5206.29</td>\n",
       "      <td id=\"T_a0ec9_row10_col1\" class=\"data row10 col1\" >3144.96</td>\n",
       "      <td id=\"T_a0ec9_row10_col2\" class=\"data row10 col2\" >0.00</td>\n",
       "      <td id=\"T_a0ec9_row10_col3\" class=\"data row10 col3\" >8351.25</td>\n",
       "    </tr>\n",
       "    <tr>\n",
       "      <th id=\"T_a0ec9_level0_row11\" class=\"row_heading level0 row11\" >FEV/23</th>\n",
       "      <td id=\"T_a0ec9_row11_col0\" class=\"data row11 col0\" >5460.26</td>\n",
       "      <td id=\"T_a0ec9_row11_col1\" class=\"data row11 col1\" >2945.28</td>\n",
       "      <td id=\"T_a0ec9_row11_col2\" class=\"data row11 col2\" >0.00</td>\n",
       "      <td id=\"T_a0ec9_row11_col3\" class=\"data row11 col3\" >8405.54</td>\n",
       "    </tr>\n",
       "    <tr>\n",
       "      <th id=\"T_a0ec9_level0_row12\" class=\"row_heading level0 row12\" >TOTAL</th>\n",
       "      <td id=\"T_a0ec9_row12_col0\" class=\"data row12 col0\" >61713.60</td>\n",
       "      <td id=\"T_a0ec9_row12_col1\" class=\"data row12 col1\" >38338.56</td>\n",
       "      <td id=\"T_a0ec9_row12_col2\" class=\"data row12 col2\" >0.00</td>\n",
       "      <td id=\"T_a0ec9_row12_col3\" class=\"data row12 col3\" >100052.16</td>\n",
       "    </tr>\n",
       "  </tbody>\n",
       "</table>\n"
      ],
      "text/plain": [
       "<pandas.io.formats.style.Styler at 0x1ceaf331b20>"
      ]
     },
     "execution_count": 50,
     "metadata": {},
     "output_type": "execute_result"
    }
   ],
   "source": [
    "df2 = pd.DataFrame(a['Anual Atual HP'], index=input[0]['mes'])\n",
    "df2.loc['TOTAL'] = df2.sum()\n",
    "df2.style.highlight_max(subset=['Custo Total mensal'], props='background-color: red; color: white'\n",
    "       ).highlight_max(subset=['Custo demanda s/ICMS'], props='background-color: red; color: white'\n",
    "       ).set_caption('Custo Atual: Demanda HP'\n",
    "       ).set_table_styles([{ 'selector':'caption',\n",
    "            'props':'font-size: 20px; font-weight: bold; text-align: center; color: black;font-style: italic'}]\n",
    "       ).format({'Custo demanda':'{:.2f}', 'Custo demanda s/ICMS':'{:.2f}', 'Custo demanda Ultrapassagem':'{:.2f}', 'Custo Total mensal':'{:.2f}' })\n"
   ]
  },
  {
   "cell_type": "code",
   "execution_count": 51,
   "id": "adb20b30",
   "metadata": {},
   "outputs": [
    {
     "data": {
      "text/html": [
       "<style type=\"text/css\">\n",
       "#T_0cc0a caption {\n",
       "  font-size: 20px;\n",
       "  font-weight: bold;\n",
       "  text-align: center;\n",
       "  color: black;\n",
       "  font-style: italic;\n",
       "}\n",
       "#T_0cc0a_row12_col1 {\n",
       "  background-color: blue;\n",
       "  color: white;\n",
       "}\n",
       "#T_0cc0a_row12_col3 {\n",
       "  background-color: green;\n",
       "  color: white;\n",
       "}\n",
       "</style>\n",
       "<table id=\"T_0cc0a\">\n",
       "  <caption>Custo Ótimo: Demanda HP</caption>\n",
       "  <thead>\n",
       "    <tr>\n",
       "      <th class=\"blank level0\" >&nbsp;</th>\n",
       "      <th id=\"T_0cc0a_level0_col0\" class=\"col_heading level0 col0\" >Custo demanda</th>\n",
       "      <th id=\"T_0cc0a_level0_col1\" class=\"col_heading level0 col1\" >Custo demanda s/ICMS</th>\n",
       "      <th id=\"T_0cc0a_level0_col2\" class=\"col_heading level0 col2\" >Custo demanda Ultrapassagem</th>\n",
       "      <th id=\"T_0cc0a_level0_col3\" class=\"col_heading level0 col3\" >Custo Total mensal</th>\n",
       "    </tr>\n",
       "  </thead>\n",
       "  <tbody>\n",
       "    <tr>\n",
       "      <th id=\"T_0cc0a_level0_row0\" class=\"row_heading level0 row0\" >MAR/22</th>\n",
       "      <td id=\"T_0cc0a_row0_col0\" class=\"data row0 col0\" >5968.19</td>\n",
       "      <td id=\"T_0cc0a_row0_col1\" class=\"data row0 col1\" >0.00</td>\n",
       "      <td id=\"T_0cc0a_row0_col2\" class=\"data row0 col2\" >1523.79</td>\n",
       "      <td id=\"T_0cc0a_row0_col3\" class=\"data row0 col3\" >7491.98</td>\n",
       "    </tr>\n",
       "    <tr>\n",
       "      <th id=\"T_0cc0a_level0_row1\" class=\"row_heading level0 row1\" >ABR/22</th>\n",
       "      <td id=\"T_0cc0a_row1_col0\" class=\"data row1 col0\" >6095.17</td>\n",
       "      <td id=\"T_0cc0a_row1_col1\" class=\"data row1 col1\" >0.00</td>\n",
       "      <td id=\"T_0cc0a_row1_col2\" class=\"data row1 col2\" >1777.76</td>\n",
       "      <td id=\"T_0cc0a_row1_col3\" class=\"data row1 col3\" >7872.93</td>\n",
       "    </tr>\n",
       "    <tr>\n",
       "      <th id=\"T_0cc0a_level0_row2\" class=\"row_heading level0 row2\" >MAI/22</th>\n",
       "      <td id=\"T_0cc0a_row2_col0\" class=\"data row2 col0\" >5015.82</td>\n",
       "      <td id=\"T_0cc0a_row2_col1\" class=\"data row2 col1\" >149.76</td>\n",
       "      <td id=\"T_0cc0a_row2_col2\" class=\"data row2 col2\" >0.00</td>\n",
       "      <td id=\"T_0cc0a_row2_col3\" class=\"data row2 col3\" >5165.58</td>\n",
       "    </tr>\n",
       "    <tr>\n",
       "      <th id=\"T_0cc0a_level0_row3\" class=\"row_heading level0 row3\" >JUN/22</th>\n",
       "      <td id=\"T_0cc0a_row3_col0\" class=\"data row3 col0\" >5015.82</td>\n",
       "      <td id=\"T_0cc0a_row3_col1\" class=\"data row3 col1\" >149.76</td>\n",
       "      <td id=\"T_0cc0a_row3_col2\" class=\"data row3 col2\" >0.00</td>\n",
       "      <td id=\"T_0cc0a_row3_col3\" class=\"data row3 col3\" >5165.58</td>\n",
       "    </tr>\n",
       "    <tr>\n",
       "      <th id=\"T_0cc0a_level0_row4\" class=\"row_heading level0 row4\" >JUL/22</th>\n",
       "      <td id=\"T_0cc0a_row4_col0\" class=\"data row4 col0\" >4571.38</td>\n",
       "      <td id=\"T_0cc0a_row4_col1\" class=\"data row4 col1\" >499.20</td>\n",
       "      <td id=\"T_0cc0a_row4_col2\" class=\"data row4 col2\" >0.00</td>\n",
       "      <td id=\"T_0cc0a_row4_col3\" class=\"data row4 col3\" >5070.58</td>\n",
       "    </tr>\n",
       "    <tr>\n",
       "      <th id=\"T_0cc0a_level0_row5\" class=\"row_heading level0 row5\" >AGO/22</th>\n",
       "      <td id=\"T_0cc0a_row5_col0\" class=\"data row5 col0\" >4888.83</td>\n",
       "      <td id=\"T_0cc0a_row5_col1\" class=\"data row5 col1\" >249.60</td>\n",
       "      <td id=\"T_0cc0a_row5_col2\" class=\"data row5 col2\" >0.00</td>\n",
       "      <td id=\"T_0cc0a_row5_col3\" class=\"data row5 col3\" >5138.43</td>\n",
       "    </tr>\n",
       "    <tr>\n",
       "      <th id=\"T_0cc0a_level0_row6\" class=\"row_heading level0 row6\" >SET/22</th>\n",
       "      <td id=\"T_0cc0a_row6_col0\" class=\"data row6 col0\" >4888.83</td>\n",
       "      <td id=\"T_0cc0a_row6_col1\" class=\"data row6 col1\" >249.60</td>\n",
       "      <td id=\"T_0cc0a_row6_col2\" class=\"data row6 col2\" >0.00</td>\n",
       "      <td id=\"T_0cc0a_row6_col3\" class=\"data row6 col3\" >5138.43</td>\n",
       "    </tr>\n",
       "    <tr>\n",
       "      <th id=\"T_0cc0a_level0_row7\" class=\"row_heading level0 row7\" >OUT/22</th>\n",
       "      <td id=\"T_0cc0a_row7_col0\" class=\"data row7 col0\" >5333.27</td>\n",
       "      <td id=\"T_0cc0a_row7_col1\" class=\"data row7 col1\" >0.00</td>\n",
       "      <td id=\"T_0cc0a_row7_col2\" class=\"data row7 col2\" >0.00</td>\n",
       "      <td id=\"T_0cc0a_row7_col3\" class=\"data row7 col3\" >5333.27</td>\n",
       "    </tr>\n",
       "    <tr>\n",
       "      <th id=\"T_0cc0a_level0_row8\" class=\"row_heading level0 row8\" >NOV/22</th>\n",
       "      <td id=\"T_0cc0a_row8_col0\" class=\"data row8 col0\" >4571.38</td>\n",
       "      <td id=\"T_0cc0a_row8_col1\" class=\"data row8 col1\" >499.20</td>\n",
       "      <td id=\"T_0cc0a_row8_col2\" class=\"data row8 col2\" >0.00</td>\n",
       "      <td id=\"T_0cc0a_row8_col3\" class=\"data row8 col3\" >5070.58</td>\n",
       "    </tr>\n",
       "    <tr>\n",
       "      <th id=\"T_0cc0a_level0_row9\" class=\"row_heading level0 row9\" >DEZ/22</th>\n",
       "      <td id=\"T_0cc0a_row9_col0\" class=\"data row9 col0\" >4698.36</td>\n",
       "      <td id=\"T_0cc0a_row9_col1\" class=\"data row9 col1\" >399.36</td>\n",
       "      <td id=\"T_0cc0a_row9_col2\" class=\"data row9 col2\" >0.00</td>\n",
       "      <td id=\"T_0cc0a_row9_col3\" class=\"data row9 col3\" >5097.72</td>\n",
       "    </tr>\n",
       "    <tr>\n",
       "      <th id=\"T_0cc0a_level0_row10\" class=\"row_heading level0 row10\" >JAN/23</th>\n",
       "      <td id=\"T_0cc0a_row10_col0\" class=\"data row10 col0\" >5206.29</td>\n",
       "      <td id=\"T_0cc0a_row10_col1\" class=\"data row10 col1\" >0.00</td>\n",
       "      <td id=\"T_0cc0a_row10_col2\" class=\"data row10 col2\" >0.00</td>\n",
       "      <td id=\"T_0cc0a_row10_col3\" class=\"data row10 col3\" >5206.29</td>\n",
       "    </tr>\n",
       "    <tr>\n",
       "      <th id=\"T_0cc0a_level0_row11\" class=\"row_heading level0 row11\" >FEV/23</th>\n",
       "      <td id=\"T_0cc0a_row11_col0\" class=\"data row11 col0\" >5460.26</td>\n",
       "      <td id=\"T_0cc0a_row11_col1\" class=\"data row11 col1\" >0.00</td>\n",
       "      <td id=\"T_0cc0a_row11_col2\" class=\"data row11 col2\" >0.00</td>\n",
       "      <td id=\"T_0cc0a_row11_col3\" class=\"data row11 col3\" >5460.26</td>\n",
       "    </tr>\n",
       "    <tr>\n",
       "      <th id=\"T_0cc0a_level0_row12\" class=\"row_heading level0 row12\" >TOTAL</th>\n",
       "      <td id=\"T_0cc0a_row12_col0\" class=\"data row12 col0\" >61713.60</td>\n",
       "      <td id=\"T_0cc0a_row12_col1\" class=\"data row12 col1\" >2196.48</td>\n",
       "      <td id=\"T_0cc0a_row12_col2\" class=\"data row12 col2\" >3301.55</td>\n",
       "      <td id=\"T_0cc0a_row12_col3\" class=\"data row12 col3\" >67211.63</td>\n",
       "    </tr>\n",
       "  </tbody>\n",
       "</table>\n"
      ],
      "text/plain": [
       "<pandas.io.formats.style.Styler at 0x1ceaf3310a0>"
      ]
     },
     "execution_count": 51,
     "metadata": {},
     "output_type": "execute_result"
    }
   ],
   "source": [
    "df3 = pd.DataFrame(a['Anual Ótima HP'], index=input[0]['mes'])\n",
    "df3.loc['TOTAL'] = df3.sum()\n",
    "df3.style.highlight_max(subset=['Custo Total mensal'], props='background-color: green; color: white'\n",
    "       ).highlight_max(subset=['Custo demanda s/ICMS'], props='background-color: blue; color: white'\n",
    "       ).set_caption('Custo Ótimo: Demanda HP'\n",
    "       ).set_table_styles([{ 'selector':'caption',\n",
    "            'props':'font-size: 20px; font-weight: bold; text-align: center; color: black;font-style: italic'}]\n",
    "       ).format({'Custo demanda':'{:.2f}', 'Custo demanda s/ICMS':'{:.2f}', 'Custo demanda Ultrapassagem':'{:.2f}', 'Custo Total mensal':'{:.2f}' })\n"
   ]
  },
  {
   "cell_type": "code",
   "execution_count": null,
   "id": "ab35d143",
   "metadata": {},
   "outputs": [],
   "source": []
  },
  {
   "cell_type": "code",
   "execution_count": 52,
   "id": "c9991022",
   "metadata": {},
   "outputs": [
    {
     "data": {
      "text/html": [
       "<style type=\"text/css\">\n",
       "#T_10128 caption {\n",
       "  font-size: 20px;\n",
       "  font-weight: bold;\n",
       "  text-align: center;\n",
       "  color: black;\n",
       "  font-style: italic;\n",
       "}\n",
       "#T_10128_row12_col1, #T_10128_row12_col3 {\n",
       "  background-color: red;\n",
       "  color: white;\n",
       "}\n",
       "</style>\n",
       "<table id=\"T_10128\">\n",
       "  <caption>Custo Atual Total: Demandas HFP e HP</caption>\n",
       "  <thead>\n",
       "    <tr>\n",
       "      <th class=\"blank level0\" >&nbsp;</th>\n",
       "      <th id=\"T_10128_level0_col0\" class=\"col_heading level0 col0\" >Custo demanda</th>\n",
       "      <th id=\"T_10128_level0_col1\" class=\"col_heading level0 col1\" >Custo demanda s/ICMS</th>\n",
       "      <th id=\"T_10128_level0_col2\" class=\"col_heading level0 col2\" >Custo demanda Ultrapassagem</th>\n",
       "      <th id=\"T_10128_level0_col3\" class=\"col_heading level0 col3\" >Custo Total mensal</th>\n",
       "    </tr>\n",
       "  </thead>\n",
       "  <tbody>\n",
       "    <tr>\n",
       "      <th id=\"T_10128_level0_row0\" class=\"row_heading level0 row0\" >MAR/22</th>\n",
       "      <td id=\"T_10128_row0_col0\" class=\"data row0 col0\" >8198.07</td>\n",
       "      <td id=\"T_10128_row0_col1\" class=\"data row0 col1\" >3190.98</td>\n",
       "      <td id=\"T_10128_row0_col2\" class=\"data row0 col2\" >0.00</td>\n",
       "      <td id=\"T_10128_row0_col3\" class=\"data row0 col3\" >11389.05</td>\n",
       "    </tr>\n",
       "    <tr>\n",
       "      <th id=\"T_10128_level0_row1\" class=\"row_heading level0 row1\" >ABR/22</th>\n",
       "      <td id=\"T_10128_row1_col0\" class=\"data row1 col0\" >8072.61</td>\n",
       "      <td id=\"T_10128_row1_col1\" class=\"data row1 col1\" >3289.62</td>\n",
       "      <td id=\"T_10128_row1_col2\" class=\"data row1 col2\" >0.00</td>\n",
       "      <td id=\"T_10128_row1_col3\" class=\"data row1 col3\" >11362.23</td>\n",
       "    </tr>\n",
       "    <tr>\n",
       "      <th id=\"T_10128_level0_row2\" class=\"row_heading level0 row2\" >MAI/22</th>\n",
       "      <td id=\"T_10128_row2_col0\" class=\"data row2 col0\" >6888.07</td>\n",
       "      <td id=\"T_10128_row2_col1\" class=\"data row2 col1\" >4220.96</td>\n",
       "      <td id=\"T_10128_row2_col2\" class=\"data row2 col2\" >0.00</td>\n",
       "      <td id=\"T_10128_row2_col3\" class=\"data row2 col3\" >11109.03</td>\n",
       "    </tr>\n",
       "    <tr>\n",
       "      <th id=\"T_10128_level0_row3\" class=\"row_heading level0 row3\" >JUN/22</th>\n",
       "      <td id=\"T_10128_row3_col0\" class=\"data row3 col0\" >6677.71</td>\n",
       "      <td id=\"T_10128_row3_col1\" class=\"data row3 col1\" >4386.36</td>\n",
       "      <td id=\"T_10128_row3_col2\" class=\"data row3 col2\" >0.00</td>\n",
       "      <td id=\"T_10128_row3_col3\" class=\"data row3 col3\" >11064.07</td>\n",
       "    </tr>\n",
       "    <tr>\n",
       "      <th id=\"T_10128_level0_row4\" class=\"row_heading level0 row4\" >JUL/22</th>\n",
       "      <td id=\"T_10128_row4_col0\" class=\"data row4 col0\" >6191.20</td>\n",
       "      <td id=\"T_10128_row4_col1\" class=\"data row4 col1\" >4768.88</td>\n",
       "      <td id=\"T_10128_row4_col2\" class=\"data row4 col2\" >0.00</td>\n",
       "      <td id=\"T_10128_row4_col3\" class=\"data row4 col3\" >10960.08</td>\n",
       "    </tr>\n",
       "    <tr>\n",
       "      <th id=\"T_10128_level0_row5\" class=\"row_heading level0 row5\" >AGO/22</th>\n",
       "      <td id=\"T_10128_row5_col0\" class=\"data row5 col0\" >6613.84</td>\n",
       "      <td id=\"T_10128_row5_col1\" class=\"data row5 col1\" >4436.58</td>\n",
       "      <td id=\"T_10128_row5_col2\" class=\"data row5 col2\" >0.00</td>\n",
       "      <td id=\"T_10128_row5_col3\" class=\"data row5 col3\" >11050.42</td>\n",
       "    </tr>\n",
       "    <tr>\n",
       "      <th id=\"T_10128_level0_row6\" class=\"row_heading level0 row6\" >SET/22</th>\n",
       "      <td id=\"T_10128_row6_col0\" class=\"data row6 col0\" >6761.09</td>\n",
       "      <td id=\"T_10128_row6_col1\" class=\"data row6 col1\" >4320.80</td>\n",
       "      <td id=\"T_10128_row6_col2\" class=\"data row6 col2\" >0.00</td>\n",
       "      <td id=\"T_10128_row6_col3\" class=\"data row6 col3\" >11081.89</td>\n",
       "    </tr>\n",
       "    <tr>\n",
       "      <th id=\"T_10128_level0_row7\" class=\"row_heading level0 row7\" >OUT/22</th>\n",
       "      <td id=\"T_10128_row7_col0\" class=\"data row7 col0\" >7247.60</td>\n",
       "      <td id=\"T_10128_row7_col1\" class=\"data row7 col1\" >3938.28</td>\n",
       "      <td id=\"T_10128_row7_col2\" class=\"data row7 col2\" >0.00</td>\n",
       "      <td id=\"T_10128_row7_col3\" class=\"data row7 col3\" >11185.88</td>\n",
       "    </tr>\n",
       "    <tr>\n",
       "      <th id=\"T_10128_level0_row8\" class=\"row_heading level0 row8\" >NOV/22</th>\n",
       "      <td id=\"T_10128_row8_col0\" class=\"data row8 col0\" >6233.27</td>\n",
       "      <td id=\"T_10128_row8_col1\" class=\"data row8 col1\" >4735.80</td>\n",
       "      <td id=\"T_10128_row8_col2\" class=\"data row8 col2\" >0.00</td>\n",
       "      <td id=\"T_10128_row8_col3\" class=\"data row8 col3\" >10969.07</td>\n",
       "    </tr>\n",
       "    <tr>\n",
       "      <th id=\"T_10128_level0_row9\" class=\"row_heading level0 row9\" >DEZ/22</th>\n",
       "      <td id=\"T_10128_row9_col0\" class=\"data row9 col0\" >6675.80</td>\n",
       "      <td id=\"T_10128_row9_col1\" class=\"data row9 col1\" >4387.86</td>\n",
       "      <td id=\"T_10128_row9_col2\" class=\"data row9 col2\" >0.00</td>\n",
       "      <td id=\"T_10128_row9_col3\" class=\"data row9 col3\" >11063.66</td>\n",
       "    </tr>\n",
       "    <tr>\n",
       "      <th id=\"T_10128_level0_row10\" class=\"row_heading level0 row10\" >JAN/23</th>\n",
       "      <td id=\"T_10128_row10_col0\" class=\"data row10 col0\" >7078.55</td>\n",
       "      <td id=\"T_10128_row10_col1\" class=\"data row10 col1\" >4071.20</td>\n",
       "      <td id=\"T_10128_row10_col2\" class=\"data row10 col2\" >0.00</td>\n",
       "      <td id=\"T_10128_row10_col3\" class=\"data row10 col3\" >11149.75</td>\n",
       "    </tr>\n",
       "    <tr>\n",
       "      <th id=\"T_10128_level0_row11\" class=\"row_heading level0 row11\" >FEV/23</th>\n",
       "      <td id=\"T_10128_row11_col0\" class=\"data row11 col0\" >7500.81</td>\n",
       "      <td id=\"T_10128_row11_col1\" class=\"data row11 col1\" >3739.20</td>\n",
       "      <td id=\"T_10128_row11_col2\" class=\"data row11 col2\" >0.00</td>\n",
       "      <td id=\"T_10128_row11_col3\" class=\"data row11 col3\" >11240.01</td>\n",
       "    </tr>\n",
       "    <tr>\n",
       "      <th id=\"T_10128_level0_row12\" class=\"row_heading level0 row12\" >TOTAL</th>\n",
       "      <td id=\"T_10128_row12_col0\" class=\"data row12 col0\" >84138.61</td>\n",
       "      <td id=\"T_10128_row12_col1\" class=\"data row12 col1\" >49486.52</td>\n",
       "      <td id=\"T_10128_row12_col2\" class=\"data row12 col2\" >0.00</td>\n",
       "      <td id=\"T_10128_row12_col3\" class=\"data row12 col3\" >133625.13</td>\n",
       "    </tr>\n",
       "  </tbody>\n",
       "</table>\n"
      ],
      "text/plain": [
       "<pandas.io.formats.style.Styler at 0x1ceaf333c50>"
      ]
     },
     "execution_count": 52,
     "metadata": {},
     "output_type": "execute_result"
    }
   ],
   "source": [
    "df_soma_atual = df + df2\n",
    "df_soma_atual.style.highlight_max(subset=['Custo Total mensal'], props='background-color: red; color: white'\n",
    "       ).highlight_max(subset=['Custo demanda s/ICMS'], props='background-color: red; color: white'\n",
    "       ).set_caption('Custo Atual Total: Demandas HFP e HP'\n",
    "       ).set_table_styles([{ 'selector':'caption',\n",
    "            'props':'font-size: 20px; font-weight: bold; text-align: center; color: black;font-style: italic'}]\n",
    "       ).format({'Custo demanda':'{:.2f}', 'Custo demanda s/ICMS':'{:.2f}', 'Custo demanda Ultrapassagem':'{:.2f}', 'Custo Total mensal':'{:.2f}' })\n"
   ]
  },
  {
   "cell_type": "code",
   "execution_count": 53,
   "id": "f2d57003",
   "metadata": {},
   "outputs": [
    {
     "data": {
      "text/html": [
       "<style type=\"text/css\">\n",
       "#T_17136 caption {\n",
       "  font-size: 20px;\n",
       "  font-weight: bold;\n",
       "  text-align: center;\n",
       "  color: black;\n",
       "  font-style: italic;\n",
       "}\n",
       "#T_17136_row12_col1 {\n",
       "  background-color: blue;\n",
       "  color: white;\n",
       "}\n",
       "#T_17136_row12_col3 {\n",
       "  background-color: green;\n",
       "  color: white;\n",
       "}\n",
       "</style>\n",
       "<table id=\"T_17136\">\n",
       "  <caption>Custo Ótimo Total: Demandas HFP e HP</caption>\n",
       "  <thead>\n",
       "    <tr>\n",
       "      <th class=\"blank level0\" >&nbsp;</th>\n",
       "      <th id=\"T_17136_level0_col0\" class=\"col_heading level0 col0\" >Custo demanda</th>\n",
       "      <th id=\"T_17136_level0_col1\" class=\"col_heading level0 col1\" >Custo demanda s/ICMS</th>\n",
       "      <th id=\"T_17136_level0_col2\" class=\"col_heading level0 col2\" >Custo demanda Ultrapassagem</th>\n",
       "      <th id=\"T_17136_level0_col3\" class=\"col_heading level0 col3\" >Custo Total mensal</th>\n",
       "    </tr>\n",
       "  </thead>\n",
       "  <tbody>\n",
       "    <tr>\n",
       "      <th id=\"T_17136_level0_row0\" class=\"row_heading level0 row0\" >MAR/22</th>\n",
       "      <td id=\"T_17136_row0_col0\" class=\"data row0 col0\" >8198.07</td>\n",
       "      <td id=\"T_17136_row0_col1\" class=\"data row0 col1\" >0.00</td>\n",
       "      <td id=\"T_17136_row0_col2\" class=\"data row0 col2\" >2070.74</td>\n",
       "      <td id=\"T_17136_row0_col3\" class=\"data row0 col3\" >10268.81</td>\n",
       "    </tr>\n",
       "    <tr>\n",
       "      <th id=\"T_17136_level0_row1\" class=\"row_heading level0 row1\" >ABR/22</th>\n",
       "      <td id=\"T_17136_row1_col0\" class=\"data row1 col0\" >8072.61</td>\n",
       "      <td id=\"T_17136_row1_col1\" class=\"data row1 col1\" >0.00</td>\n",
       "      <td id=\"T_17136_row1_col2\" class=\"data row1 col2\" >1777.76</td>\n",
       "      <td id=\"T_17136_row1_col3\" class=\"data row1 col3\" >9850.37</td>\n",
       "    </tr>\n",
       "    <tr>\n",
       "      <th id=\"T_17136_level0_row2\" class=\"row_heading level0 row2\" >MAI/22</th>\n",
       "      <td id=\"T_17136_row2_col0\" class=\"data row2 col0\" >6888.07</td>\n",
       "      <td id=\"T_17136_row2_col1\" class=\"data row2 col1\" >215.92</td>\n",
       "      <td id=\"T_17136_row2_col2\" class=\"data row2 col2\" >0.00</td>\n",
       "      <td id=\"T_17136_row2_col3\" class=\"data row2 col3\" >7103.99</td>\n",
       "    </tr>\n",
       "    <tr>\n",
       "      <th id=\"T_17136_level0_row3\" class=\"row_heading level0 row3\" >JUN/22</th>\n",
       "      <td id=\"T_17136_row3_col0\" class=\"data row3 col0\" >6677.71</td>\n",
       "      <td id=\"T_17136_row3_col1\" class=\"data row3 col1\" >381.32</td>\n",
       "      <td id=\"T_17136_row3_col2\" class=\"data row3 col2\" >0.00</td>\n",
       "      <td id=\"T_17136_row3_col3\" class=\"data row3 col3\" >7059.03</td>\n",
       "    </tr>\n",
       "    <tr>\n",
       "      <th id=\"T_17136_level0_row4\" class=\"row_heading level0 row4\" >JUL/22</th>\n",
       "      <td id=\"T_17136_row4_col0\" class=\"data row4 col0\" >6191.20</td>\n",
       "      <td id=\"T_17136_row4_col1\" class=\"data row4 col1\" >763.84</td>\n",
       "      <td id=\"T_17136_row4_col2\" class=\"data row4 col2\" >0.00</td>\n",
       "      <td id=\"T_17136_row4_col3\" class=\"data row4 col3\" >6955.04</td>\n",
       "    </tr>\n",
       "    <tr>\n",
       "      <th id=\"T_17136_level0_row5\" class=\"row_heading level0 row5\" >AGO/22</th>\n",
       "      <td id=\"T_17136_row5_col0\" class=\"data row5 col0\" >6613.84</td>\n",
       "      <td id=\"T_17136_row5_col1\" class=\"data row5 col1\" >431.54</td>\n",
       "      <td id=\"T_17136_row5_col2\" class=\"data row5 col2\" >0.00</td>\n",
       "      <td id=\"T_17136_row5_col3\" class=\"data row5 col3\" >7045.38</td>\n",
       "    </tr>\n",
       "    <tr>\n",
       "      <th id=\"T_17136_level0_row6\" class=\"row_heading level0 row6\" >SET/22</th>\n",
       "      <td id=\"T_17136_row6_col0\" class=\"data row6 col0\" >6761.09</td>\n",
       "      <td id=\"T_17136_row6_col1\" class=\"data row6 col1\" >315.76</td>\n",
       "      <td id=\"T_17136_row6_col2\" class=\"data row6 col2\" >0.00</td>\n",
       "      <td id=\"T_17136_row6_col3\" class=\"data row6 col3\" >7076.85</td>\n",
       "    </tr>\n",
       "    <tr>\n",
       "      <th id=\"T_17136_level0_row7\" class=\"row_heading level0 row7\" >OUT/22</th>\n",
       "      <td id=\"T_17136_row7_col0\" class=\"data row7 col0\" >7247.60</td>\n",
       "      <td id=\"T_17136_row7_col1\" class=\"data row7 col1\" >33.08</td>\n",
       "      <td id=\"T_17136_row7_col2\" class=\"data row7 col2\" >0.00</td>\n",
       "      <td id=\"T_17136_row7_col3\" class=\"data row7 col3\" >7280.68</td>\n",
       "    </tr>\n",
       "    <tr>\n",
       "      <th id=\"T_17136_level0_row8\" class=\"row_heading level0 row8\" >NOV/22</th>\n",
       "      <td id=\"T_17136_row8_col0\" class=\"data row8 col0\" >6233.27</td>\n",
       "      <td id=\"T_17136_row8_col1\" class=\"data row8 col1\" >730.76</td>\n",
       "      <td id=\"T_17136_row8_col2\" class=\"data row8 col2\" >0.00</td>\n",
       "      <td id=\"T_17136_row8_col3\" class=\"data row8 col3\" >6964.03</td>\n",
       "    </tr>\n",
       "    <tr>\n",
       "      <th id=\"T_17136_level0_row9\" class=\"row_heading level0 row9\" >DEZ/22</th>\n",
       "      <td id=\"T_17136_row9_col0\" class=\"data row9 col0\" >6675.80</td>\n",
       "      <td id=\"T_17136_row9_col1\" class=\"data row9 col1\" >399.36</td>\n",
       "      <td id=\"T_17136_row9_col2\" class=\"data row9 col2\" >0.00</td>\n",
       "      <td id=\"T_17136_row9_col3\" class=\"data row9 col3\" >7075.16</td>\n",
       "    </tr>\n",
       "    <tr>\n",
       "      <th id=\"T_17136_level0_row10\" class=\"row_heading level0 row10\" >JAN/23</th>\n",
       "      <td id=\"T_17136_row10_col0\" class=\"data row10 col0\" >7078.55</td>\n",
       "      <td id=\"T_17136_row10_col1\" class=\"data row10 col1\" >66.16</td>\n",
       "      <td id=\"T_17136_row10_col2\" class=\"data row10 col2\" >0.00</td>\n",
       "      <td id=\"T_17136_row10_col3\" class=\"data row10 col3\" >7144.71</td>\n",
       "    </tr>\n",
       "    <tr>\n",
       "      <th id=\"T_17136_level0_row11\" class=\"row_heading level0 row11\" >FEV/23</th>\n",
       "      <td id=\"T_17136_row11_col0\" class=\"data row11 col0\" >7500.81</td>\n",
       "      <td id=\"T_17136_row11_col1\" class=\"data row11 col1\" >0.00</td>\n",
       "      <td id=\"T_17136_row11_col2\" class=\"data row11 col2\" >0.00</td>\n",
       "      <td id=\"T_17136_row11_col3\" class=\"data row11 col3\" >7500.81</td>\n",
       "    </tr>\n",
       "    <tr>\n",
       "      <th id=\"T_17136_level0_row12\" class=\"row_heading level0 row12\" >TOTAL</th>\n",
       "      <td id=\"T_17136_row12_col0\" class=\"data row12 col0\" >84138.61</td>\n",
       "      <td id=\"T_17136_row12_col1\" class=\"data row12 col1\" >3337.74</td>\n",
       "      <td id=\"T_17136_row12_col2\" class=\"data row12 col2\" >3848.50</td>\n",
       "      <td id=\"T_17136_row12_col3\" class=\"data row12 col3\" >91324.85</td>\n",
       "    </tr>\n",
       "  </tbody>\n",
       "</table>\n"
      ],
      "text/plain": [
       "<pandas.io.formats.style.Styler at 0x1ceaf395d60>"
      ]
     },
     "execution_count": 53,
     "metadata": {},
     "output_type": "execute_result"
    }
   ],
   "source": [
    "df_soma_otimo = df1 + df3\n",
    "df = df_soma_otimo.style.highlight_max(subset=['Custo Total mensal'], props='background-color: green; color: white'\n",
    "       ).highlight_max(subset=['Custo demanda s/ICMS'], props='background-color: blue; color: white'\n",
    "       ).set_caption('Custo Ótimo Total: Demandas HFP e HP'\n",
    "       ).set_table_styles([{ 'selector':'caption',\n",
    "            'props':'font-size: 20px; font-weight: bold; text-align: center; color: black;font-style: italic'}]\n",
    "       ).format({'Custo demanda':'{:.2f}', 'Custo demanda s/ICMS':'{:.2f}', 'Custo demanda Ultrapassagem':'{:.2f}', 'Custo Total mensal':'{:.2f}' })\n",
    "df\n"
   ]
  },
  {
   "cell_type": "code",
   "execution_count": 54,
   "id": "f939bf1d",
   "metadata": {},
   "outputs": [],
   "source": [
    "df_economia = df_soma_atual - df_soma_otimo"
   ]
  },
  {
   "cell_type": "code",
   "execution_count": 55,
   "id": "f9d734fe",
   "metadata": {},
   "outputs": [
    {
     "data": {
      "text/html": [
       "<style type=\"text/css\">\n",
       "#T_66c4d caption {\n",
       "  font-size: 20px;\n",
       "  font-weight: bold;\n",
       "  text-align: center;\n",
       "  color: black;\n",
       "  font-style: italic;\n",
       "}\n",
       "#T_66c4d_row12_col1 {\n",
       "  background-color: blue;\n",
       "  color: white;\n",
       "}\n",
       "#T_66c4d_row12_col2 {\n",
       "  background-color: red;\n",
       "  color: white;\n",
       "}\n",
       "#T_66c4d_row12_col3 {\n",
       "  background-color: green;\n",
       "  color: white;\n",
       "  font-size: 14px;\n",
       "  font-weight: bold;\n",
       "}\n",
       "</style>\n",
       "<table id=\"T_66c4d\">\n",
       "  <caption>Economia Anual</caption>\n",
       "  <thead>\n",
       "    <tr>\n",
       "      <th class=\"blank level0\" >&nbsp;</th>\n",
       "      <th id=\"T_66c4d_level0_col0\" class=\"col_heading level0 col0\" >Custo demanda</th>\n",
       "      <th id=\"T_66c4d_level0_col1\" class=\"col_heading level0 col1\" >Custo demanda s/ICMS</th>\n",
       "      <th id=\"T_66c4d_level0_col2\" class=\"col_heading level0 col2\" >Custo demanda Ultrapassagem</th>\n",
       "      <th id=\"T_66c4d_level0_col3\" class=\"col_heading level0 col3\" >Custo Total mensal</th>\n",
       "    </tr>\n",
       "  </thead>\n",
       "  <tbody>\n",
       "    <tr>\n",
       "      <th id=\"T_66c4d_level0_row0\" class=\"row_heading level0 row0\" >MAR/22</th>\n",
       "      <td id=\"T_66c4d_row0_col0\" class=\"data row0 col0\" >0.00</td>\n",
       "      <td id=\"T_66c4d_row0_col1\" class=\"data row0 col1\" >3190.98</td>\n",
       "      <td id=\"T_66c4d_row0_col2\" class=\"data row0 col2\" >-2070.74</td>\n",
       "      <td id=\"T_66c4d_row0_col3\" class=\"data row0 col3\" >1120.24</td>\n",
       "    </tr>\n",
       "    <tr>\n",
       "      <th id=\"T_66c4d_level0_row1\" class=\"row_heading level0 row1\" >ABR/22</th>\n",
       "      <td id=\"T_66c4d_row1_col0\" class=\"data row1 col0\" >0.00</td>\n",
       "      <td id=\"T_66c4d_row1_col1\" class=\"data row1 col1\" >3289.62</td>\n",
       "      <td id=\"T_66c4d_row1_col2\" class=\"data row1 col2\" >-1777.76</td>\n",
       "      <td id=\"T_66c4d_row1_col3\" class=\"data row1 col3\" >1511.86</td>\n",
       "    </tr>\n",
       "    <tr>\n",
       "      <th id=\"T_66c4d_level0_row2\" class=\"row_heading level0 row2\" >MAI/22</th>\n",
       "      <td id=\"T_66c4d_row2_col0\" class=\"data row2 col0\" >0.00</td>\n",
       "      <td id=\"T_66c4d_row2_col1\" class=\"data row2 col1\" >4005.04</td>\n",
       "      <td id=\"T_66c4d_row2_col2\" class=\"data row2 col2\" >0.00</td>\n",
       "      <td id=\"T_66c4d_row2_col3\" class=\"data row2 col3\" >4005.04</td>\n",
       "    </tr>\n",
       "    <tr>\n",
       "      <th id=\"T_66c4d_level0_row3\" class=\"row_heading level0 row3\" >JUN/22</th>\n",
       "      <td id=\"T_66c4d_row3_col0\" class=\"data row3 col0\" >0.00</td>\n",
       "      <td id=\"T_66c4d_row3_col1\" class=\"data row3 col1\" >4005.04</td>\n",
       "      <td id=\"T_66c4d_row3_col2\" class=\"data row3 col2\" >0.00</td>\n",
       "      <td id=\"T_66c4d_row3_col3\" class=\"data row3 col3\" >4005.04</td>\n",
       "    </tr>\n",
       "    <tr>\n",
       "      <th id=\"T_66c4d_level0_row4\" class=\"row_heading level0 row4\" >JUL/22</th>\n",
       "      <td id=\"T_66c4d_row4_col0\" class=\"data row4 col0\" >0.00</td>\n",
       "      <td id=\"T_66c4d_row4_col1\" class=\"data row4 col1\" >4005.04</td>\n",
       "      <td id=\"T_66c4d_row4_col2\" class=\"data row4 col2\" >0.00</td>\n",
       "      <td id=\"T_66c4d_row4_col3\" class=\"data row4 col3\" >4005.04</td>\n",
       "    </tr>\n",
       "    <tr>\n",
       "      <th id=\"T_66c4d_level0_row5\" class=\"row_heading level0 row5\" >AGO/22</th>\n",
       "      <td id=\"T_66c4d_row5_col0\" class=\"data row5 col0\" >0.00</td>\n",
       "      <td id=\"T_66c4d_row5_col1\" class=\"data row5 col1\" >4005.04</td>\n",
       "      <td id=\"T_66c4d_row5_col2\" class=\"data row5 col2\" >0.00</td>\n",
       "      <td id=\"T_66c4d_row5_col3\" class=\"data row5 col3\" >4005.04</td>\n",
       "    </tr>\n",
       "    <tr>\n",
       "      <th id=\"T_66c4d_level0_row6\" class=\"row_heading level0 row6\" >SET/22</th>\n",
       "      <td id=\"T_66c4d_row6_col0\" class=\"data row6 col0\" >0.00</td>\n",
       "      <td id=\"T_66c4d_row6_col1\" class=\"data row6 col1\" >4005.04</td>\n",
       "      <td id=\"T_66c4d_row6_col2\" class=\"data row6 col2\" >0.00</td>\n",
       "      <td id=\"T_66c4d_row6_col3\" class=\"data row6 col3\" >4005.04</td>\n",
       "    </tr>\n",
       "    <tr>\n",
       "      <th id=\"T_66c4d_level0_row7\" class=\"row_heading level0 row7\" >OUT/22</th>\n",
       "      <td id=\"T_66c4d_row7_col0\" class=\"data row7 col0\" >0.00</td>\n",
       "      <td id=\"T_66c4d_row7_col1\" class=\"data row7 col1\" >3905.20</td>\n",
       "      <td id=\"T_66c4d_row7_col2\" class=\"data row7 col2\" >0.00</td>\n",
       "      <td id=\"T_66c4d_row7_col3\" class=\"data row7 col3\" >3905.20</td>\n",
       "    </tr>\n",
       "    <tr>\n",
       "      <th id=\"T_66c4d_level0_row8\" class=\"row_heading level0 row8\" >NOV/22</th>\n",
       "      <td id=\"T_66c4d_row8_col0\" class=\"data row8 col0\" >0.00</td>\n",
       "      <td id=\"T_66c4d_row8_col1\" class=\"data row8 col1\" >4005.04</td>\n",
       "      <td id=\"T_66c4d_row8_col2\" class=\"data row8 col2\" >0.00</td>\n",
       "      <td id=\"T_66c4d_row8_col3\" class=\"data row8 col3\" >4005.04</td>\n",
       "    </tr>\n",
       "    <tr>\n",
       "      <th id=\"T_66c4d_level0_row9\" class=\"row_heading level0 row9\" >DEZ/22</th>\n",
       "      <td id=\"T_66c4d_row9_col0\" class=\"data row9 col0\" >0.00</td>\n",
       "      <td id=\"T_66c4d_row9_col1\" class=\"data row9 col1\" >3988.50</td>\n",
       "      <td id=\"T_66c4d_row9_col2\" class=\"data row9 col2\" >0.00</td>\n",
       "      <td id=\"T_66c4d_row9_col3\" class=\"data row9 col3\" >3988.50</td>\n",
       "    </tr>\n",
       "    <tr>\n",
       "      <th id=\"T_66c4d_level0_row10\" class=\"row_heading level0 row10\" >JAN/23</th>\n",
       "      <td id=\"T_66c4d_row10_col0\" class=\"data row10 col0\" >0.00</td>\n",
       "      <td id=\"T_66c4d_row10_col1\" class=\"data row10 col1\" >4005.04</td>\n",
       "      <td id=\"T_66c4d_row10_col2\" class=\"data row10 col2\" >0.00</td>\n",
       "      <td id=\"T_66c4d_row10_col3\" class=\"data row10 col3\" >4005.04</td>\n",
       "    </tr>\n",
       "    <tr>\n",
       "      <th id=\"T_66c4d_level0_row11\" class=\"row_heading level0 row11\" >FEV/23</th>\n",
       "      <td id=\"T_66c4d_row11_col0\" class=\"data row11 col0\" >0.00</td>\n",
       "      <td id=\"T_66c4d_row11_col1\" class=\"data row11 col1\" >3739.20</td>\n",
       "      <td id=\"T_66c4d_row11_col2\" class=\"data row11 col2\" >0.00</td>\n",
       "      <td id=\"T_66c4d_row11_col3\" class=\"data row11 col3\" >3739.20</td>\n",
       "    </tr>\n",
       "    <tr>\n",
       "      <th id=\"T_66c4d_level0_row12\" class=\"row_heading level0 row12\" >TOTAL</th>\n",
       "      <td id=\"T_66c4d_row12_col0\" class=\"data row12 col0\" >0.00</td>\n",
       "      <td id=\"T_66c4d_row12_col1\" class=\"data row12 col1\" >46148.78</td>\n",
       "      <td id=\"T_66c4d_row12_col2\" class=\"data row12 col2\" >-3848.50</td>\n",
       "      <td id=\"T_66c4d_row12_col3\" class=\"data row12 col3\" >42300.28</td>\n",
       "    </tr>\n",
       "  </tbody>\n",
       "</table>\n"
      ],
      "text/plain": [
       "<pandas.io.formats.style.Styler at 0x1ceaf3959d0>"
      ]
     },
     "execution_count": 55,
     "metadata": {},
     "output_type": "execute_result"
    }
   ],
   "source": [
    "df = df_economia\n",
    "df = df.style.highlight_max(subset=['Custo Total mensal'], props='background-color: green; color: white; font-size: 14px; font-weight: bold'\n",
    "       ).highlight_max(subset=['Custo demanda s/ICMS'], props='background-color: blue; color: white'\n",
    "       ).highlight_min(subset=['Custo demanda Ultrapassagem'], props='background-color: red; color: white'\n",
    "       ).set_caption('Economia Anual'\n",
    "       ).set_table_styles([{ 'selector':'caption',\n",
    "            'props':'font-size: 20px; font-weight: bold; text-align: center; color: black;font-style: italic'}]\n",
    "       ).format({'Custo demanda':'{:.2f}', 'Custo demanda s/ICMS':'{:.2f}', 'Custo demanda Ultrapassagem':'{:.2f}', 'Custo Total mensal':'{:.2f}' })\n",
    "df\n",
    "#fig = df.to_latex()\n",
    "#print(fig)"
   ]
  },
  {
   "cell_type": "code",
   "execution_count": 56,
   "id": "1f9c351a",
   "metadata": {},
   "outputs": [],
   "source": [
    "atual = df_soma_atual.iloc[12,3]\n",
    "novo = df_soma_otimo.iloc[12,3]\n",
    "economia = atual - novo \n",
    "economiap = economia/atual"
   ]
  },
  {
   "cell_type": "code",
   "execution_count": 57,
   "id": "0ec3ac01",
   "metadata": {},
   "outputs": [
    {
     "name": "stdout",
     "output_type": "stream",
     "text": [
      "A economia gerada atráves da otimização das demandas é de R$ 42300.28\n",
      "Esta economia corresponde a um total de 31.66% sobre o montante das demandas!\n"
     ]
    }
   ],
   "source": [
    "print(f\"A economia gerada atráves da otimização das demandas é de R$ {economia:.2f}\")\n",
    "print(f\"Esta economia corresponde a um total de {economiap*100:.2f}% sobre o montante das demandas!\")"
   ]
  },
  {
   "cell_type": "code",
   "execution_count": 58,
   "id": "06573612",
   "metadata": {},
   "outputs": [],
   "source": [
    "import plotly.graph_objs as go\n"
   ]
  },
  {
   "cell_type": "code",
   "execution_count": 59,
   "id": "79951e1a",
   "metadata": {},
   "outputs": [
    {
     "data": {
      "application/vnd.plotly.v1+json": {
       "config": {
        "plotlyServerURL": "https://plot.ly"
       },
       "data": [
        {
         "marker": {
          "color": "blue"
         },
         "name": "Custo demanda",
         "type": "bar",
         "x": [
          "MAR/22",
          "ABR/22",
          "MAI/22",
          "JUN/22",
          "JUL/22",
          "AGO/22",
          "SET/22",
          "OUT/22",
          "NOV/22",
          "DEZ/22",
          "JAN/23",
          "FEV/23"
         ],
         "y": [
          8198.0665712,
          8072.6100998,
          6888.07411,
          6677.708129,
          6191.1954625,
          6613.8352175,
          6761.0914041999995,
          7247.6040707,
          6233.2686587,
          6675.800336,
          7078.5481687,
          7500.8063651,
          84138.60859339999
         ]
        },
        {
         "marker": {
          "color": "red"
         },
         "name": "Custo demanda s/ICMS",
         "type": "bar",
         "x": [
          "MAR/22",
          "ABR/22",
          "MAI/22",
          "JUN/22",
          "JUL/22",
          "AGO/22",
          "SET/22",
          "OUT/22",
          "NOV/22",
          "DEZ/22",
          "JAN/23",
          "FEV/23"
         ],
         "y": [
          3190.98,
          3289.62,
          4220.96,
          4386.360000000001,
          4768.88,
          4436.58,
          4320.8,
          3938.2799999999997,
          4735.8,
          4387.860000000001,
          4071.2,
          3739.2000000000003,
          49486.520000000004
         ]
        },
        {
         "marker": {
          "color": "orange"
         },
         "name": "Custo demanda Ultrapassagem",
         "type": "bar",
         "x": [
          "MAR/22",
          "ABR/22",
          "MAI/22",
          "JUN/22",
          "JUL/22",
          "AGO/22",
          "SET/22",
          "OUT/22",
          "NOV/22",
          "DEZ/22",
          "JAN/23",
          "FEV/23"
         ],
         "y": [
          0,
          0,
          0,
          0,
          0,
          0,
          0,
          0,
          0,
          0,
          0,
          0,
          0
         ]
        },
        {
         "marker": {
          "color": "gray"
         },
         "name": "Custo Total mensal",
         "type": "bar",
         "x": [
          "MAR/22",
          "ABR/22",
          "MAI/22",
          "JUN/22",
          "JUL/22",
          "AGO/22",
          "SET/22",
          "OUT/22",
          "NOV/22",
          "DEZ/22",
          "JAN/23",
          "FEV/23"
         ],
         "y": [
          11389.0465712,
          11362.2300998,
          11109.03411,
          11064.068129,
          10960.0754625,
          11050.415217499998,
          11081.8914042,
          11185.8840707,
          10969.0686587,
          11063.660336,
          11149.7481687,
          11240.006365100002,
          133625.12859339998
         ]
        }
       ],
       "layout": {
        "font": {
         "size": 12
        },
        "legend": {
         "bgcolor": "rgba(255, 255, 255,0.95)",
         "x": 0.01,
         "y": 0.99
        },
        "template": {
         "data": {
          "bar": [
           {
            "error_x": {
             "color": "#2a3f5f"
            },
            "error_y": {
             "color": "#2a3f5f"
            },
            "marker": {
             "line": {
              "color": "#E5ECF6",
              "width": 0.5
             },
             "pattern": {
              "fillmode": "overlay",
              "size": 10,
              "solidity": 0.2
             }
            },
            "type": "bar"
           }
          ],
          "barpolar": [
           {
            "marker": {
             "line": {
              "color": "#E5ECF6",
              "width": 0.5
             },
             "pattern": {
              "fillmode": "overlay",
              "size": 10,
              "solidity": 0.2
             }
            },
            "type": "barpolar"
           }
          ],
          "carpet": [
           {
            "aaxis": {
             "endlinecolor": "#2a3f5f",
             "gridcolor": "white",
             "linecolor": "white",
             "minorgridcolor": "white",
             "startlinecolor": "#2a3f5f"
            },
            "baxis": {
             "endlinecolor": "#2a3f5f",
             "gridcolor": "white",
             "linecolor": "white",
             "minorgridcolor": "white",
             "startlinecolor": "#2a3f5f"
            },
            "type": "carpet"
           }
          ],
          "choropleth": [
           {
            "colorbar": {
             "outlinewidth": 0,
             "ticks": ""
            },
            "type": "choropleth"
           }
          ],
          "contour": [
           {
            "colorbar": {
             "outlinewidth": 0,
             "ticks": ""
            },
            "colorscale": [
             [
              0,
              "#0d0887"
             ],
             [
              0.1111111111111111,
              "#46039f"
             ],
             [
              0.2222222222222222,
              "#7201a8"
             ],
             [
              0.3333333333333333,
              "#9c179e"
             ],
             [
              0.4444444444444444,
              "#bd3786"
             ],
             [
              0.5555555555555556,
              "#d8576b"
             ],
             [
              0.6666666666666666,
              "#ed7953"
             ],
             [
              0.7777777777777778,
              "#fb9f3a"
             ],
             [
              0.8888888888888888,
              "#fdca26"
             ],
             [
              1,
              "#f0f921"
             ]
            ],
            "type": "contour"
           }
          ],
          "contourcarpet": [
           {
            "colorbar": {
             "outlinewidth": 0,
             "ticks": ""
            },
            "type": "contourcarpet"
           }
          ],
          "heatmap": [
           {
            "colorbar": {
             "outlinewidth": 0,
             "ticks": ""
            },
            "colorscale": [
             [
              0,
              "#0d0887"
             ],
             [
              0.1111111111111111,
              "#46039f"
             ],
             [
              0.2222222222222222,
              "#7201a8"
             ],
             [
              0.3333333333333333,
              "#9c179e"
             ],
             [
              0.4444444444444444,
              "#bd3786"
             ],
             [
              0.5555555555555556,
              "#d8576b"
             ],
             [
              0.6666666666666666,
              "#ed7953"
             ],
             [
              0.7777777777777778,
              "#fb9f3a"
             ],
             [
              0.8888888888888888,
              "#fdca26"
             ],
             [
              1,
              "#f0f921"
             ]
            ],
            "type": "heatmap"
           }
          ],
          "heatmapgl": [
           {
            "colorbar": {
             "outlinewidth": 0,
             "ticks": ""
            },
            "colorscale": [
             [
              0,
              "#0d0887"
             ],
             [
              0.1111111111111111,
              "#46039f"
             ],
             [
              0.2222222222222222,
              "#7201a8"
             ],
             [
              0.3333333333333333,
              "#9c179e"
             ],
             [
              0.4444444444444444,
              "#bd3786"
             ],
             [
              0.5555555555555556,
              "#d8576b"
             ],
             [
              0.6666666666666666,
              "#ed7953"
             ],
             [
              0.7777777777777778,
              "#fb9f3a"
             ],
             [
              0.8888888888888888,
              "#fdca26"
             ],
             [
              1,
              "#f0f921"
             ]
            ],
            "type": "heatmapgl"
           }
          ],
          "histogram": [
           {
            "marker": {
             "pattern": {
              "fillmode": "overlay",
              "size": 10,
              "solidity": 0.2
             }
            },
            "type": "histogram"
           }
          ],
          "histogram2d": [
           {
            "colorbar": {
             "outlinewidth": 0,
             "ticks": ""
            },
            "colorscale": [
             [
              0,
              "#0d0887"
             ],
             [
              0.1111111111111111,
              "#46039f"
             ],
             [
              0.2222222222222222,
              "#7201a8"
             ],
             [
              0.3333333333333333,
              "#9c179e"
             ],
             [
              0.4444444444444444,
              "#bd3786"
             ],
             [
              0.5555555555555556,
              "#d8576b"
             ],
             [
              0.6666666666666666,
              "#ed7953"
             ],
             [
              0.7777777777777778,
              "#fb9f3a"
             ],
             [
              0.8888888888888888,
              "#fdca26"
             ],
             [
              1,
              "#f0f921"
             ]
            ],
            "type": "histogram2d"
           }
          ],
          "histogram2dcontour": [
           {
            "colorbar": {
             "outlinewidth": 0,
             "ticks": ""
            },
            "colorscale": [
             [
              0,
              "#0d0887"
             ],
             [
              0.1111111111111111,
              "#46039f"
             ],
             [
              0.2222222222222222,
              "#7201a8"
             ],
             [
              0.3333333333333333,
              "#9c179e"
             ],
             [
              0.4444444444444444,
              "#bd3786"
             ],
             [
              0.5555555555555556,
              "#d8576b"
             ],
             [
              0.6666666666666666,
              "#ed7953"
             ],
             [
              0.7777777777777778,
              "#fb9f3a"
             ],
             [
              0.8888888888888888,
              "#fdca26"
             ],
             [
              1,
              "#f0f921"
             ]
            ],
            "type": "histogram2dcontour"
           }
          ],
          "mesh3d": [
           {
            "colorbar": {
             "outlinewidth": 0,
             "ticks": ""
            },
            "type": "mesh3d"
           }
          ],
          "parcoords": [
           {
            "line": {
             "colorbar": {
              "outlinewidth": 0,
              "ticks": ""
             }
            },
            "type": "parcoords"
           }
          ],
          "pie": [
           {
            "automargin": true,
            "type": "pie"
           }
          ],
          "scatter": [
           {
            "fillpattern": {
             "fillmode": "overlay",
             "size": 10,
             "solidity": 0.2
            },
            "type": "scatter"
           }
          ],
          "scatter3d": [
           {
            "line": {
             "colorbar": {
              "outlinewidth": 0,
              "ticks": ""
             }
            },
            "marker": {
             "colorbar": {
              "outlinewidth": 0,
              "ticks": ""
             }
            },
            "type": "scatter3d"
           }
          ],
          "scattercarpet": [
           {
            "marker": {
             "colorbar": {
              "outlinewidth": 0,
              "ticks": ""
             }
            },
            "type": "scattercarpet"
           }
          ],
          "scattergeo": [
           {
            "marker": {
             "colorbar": {
              "outlinewidth": 0,
              "ticks": ""
             }
            },
            "type": "scattergeo"
           }
          ],
          "scattergl": [
           {
            "marker": {
             "colorbar": {
              "outlinewidth": 0,
              "ticks": ""
             }
            },
            "type": "scattergl"
           }
          ],
          "scattermapbox": [
           {
            "marker": {
             "colorbar": {
              "outlinewidth": 0,
              "ticks": ""
             }
            },
            "type": "scattermapbox"
           }
          ],
          "scatterpolar": [
           {
            "marker": {
             "colorbar": {
              "outlinewidth": 0,
              "ticks": ""
             }
            },
            "type": "scatterpolar"
           }
          ],
          "scatterpolargl": [
           {
            "marker": {
             "colorbar": {
              "outlinewidth": 0,
              "ticks": ""
             }
            },
            "type": "scatterpolargl"
           }
          ],
          "scatterternary": [
           {
            "marker": {
             "colorbar": {
              "outlinewidth": 0,
              "ticks": ""
             }
            },
            "type": "scatterternary"
           }
          ],
          "surface": [
           {
            "colorbar": {
             "outlinewidth": 0,
             "ticks": ""
            },
            "colorscale": [
             [
              0,
              "#0d0887"
             ],
             [
              0.1111111111111111,
              "#46039f"
             ],
             [
              0.2222222222222222,
              "#7201a8"
             ],
             [
              0.3333333333333333,
              "#9c179e"
             ],
             [
              0.4444444444444444,
              "#bd3786"
             ],
             [
              0.5555555555555556,
              "#d8576b"
             ],
             [
              0.6666666666666666,
              "#ed7953"
             ],
             [
              0.7777777777777778,
              "#fb9f3a"
             ],
             [
              0.8888888888888888,
              "#fdca26"
             ],
             [
              1,
              "#f0f921"
             ]
            ],
            "type": "surface"
           }
          ],
          "table": [
           {
            "cells": {
             "fill": {
              "color": "#EBF0F8"
             },
             "line": {
              "color": "white"
             }
            },
            "header": {
             "fill": {
              "color": "#C8D4E3"
             },
             "line": {
              "color": "white"
             }
            },
            "type": "table"
           }
          ]
         },
         "layout": {
          "annotationdefaults": {
           "arrowcolor": "#2a3f5f",
           "arrowhead": 0,
           "arrowwidth": 1
          },
          "autotypenumbers": "strict",
          "coloraxis": {
           "colorbar": {
            "outlinewidth": 0,
            "ticks": ""
           }
          },
          "colorscale": {
           "diverging": [
            [
             0,
             "#8e0152"
            ],
            [
             0.1,
             "#c51b7d"
            ],
            [
             0.2,
             "#de77ae"
            ],
            [
             0.3,
             "#f1b6da"
            ],
            [
             0.4,
             "#fde0ef"
            ],
            [
             0.5,
             "#f7f7f7"
            ],
            [
             0.6,
             "#e6f5d0"
            ],
            [
             0.7,
             "#b8e186"
            ],
            [
             0.8,
             "#7fbc41"
            ],
            [
             0.9,
             "#4d9221"
            ],
            [
             1,
             "#276419"
            ]
           ],
           "sequential": [
            [
             0,
             "#0d0887"
            ],
            [
             0.1111111111111111,
             "#46039f"
            ],
            [
             0.2222222222222222,
             "#7201a8"
            ],
            [
             0.3333333333333333,
             "#9c179e"
            ],
            [
             0.4444444444444444,
             "#bd3786"
            ],
            [
             0.5555555555555556,
             "#d8576b"
            ],
            [
             0.6666666666666666,
             "#ed7953"
            ],
            [
             0.7777777777777778,
             "#fb9f3a"
            ],
            [
             0.8888888888888888,
             "#fdca26"
            ],
            [
             1,
             "#f0f921"
            ]
           ],
           "sequentialminus": [
            [
             0,
             "#0d0887"
            ],
            [
             0.1111111111111111,
             "#46039f"
            ],
            [
             0.2222222222222222,
             "#7201a8"
            ],
            [
             0.3333333333333333,
             "#9c179e"
            ],
            [
             0.4444444444444444,
             "#bd3786"
            ],
            [
             0.5555555555555556,
             "#d8576b"
            ],
            [
             0.6666666666666666,
             "#ed7953"
            ],
            [
             0.7777777777777778,
             "#fb9f3a"
            ],
            [
             0.8888888888888888,
             "#fdca26"
            ],
            [
             1,
             "#f0f921"
            ]
           ]
          },
          "colorway": [
           "#636efa",
           "#EF553B",
           "#00cc96",
           "#ab63fa",
           "#FFA15A",
           "#19d3f3",
           "#FF6692",
           "#B6E880",
           "#FF97FF",
           "#FECB52"
          ],
          "font": {
           "color": "#2a3f5f"
          },
          "geo": {
           "bgcolor": "white",
           "lakecolor": "white",
           "landcolor": "#E5ECF6",
           "showlakes": true,
           "showland": true,
           "subunitcolor": "white"
          },
          "hoverlabel": {
           "align": "left"
          },
          "hovermode": "closest",
          "mapbox": {
           "style": "light"
          },
          "paper_bgcolor": "white",
          "plot_bgcolor": "#E5ECF6",
          "polar": {
           "angularaxis": {
            "gridcolor": "white",
            "linecolor": "white",
            "ticks": ""
           },
           "bgcolor": "#E5ECF6",
           "radialaxis": {
            "gridcolor": "white",
            "linecolor": "white",
            "ticks": ""
           }
          },
          "scene": {
           "xaxis": {
            "backgroundcolor": "#E5ECF6",
            "gridcolor": "white",
            "gridwidth": 2,
            "linecolor": "white",
            "showbackground": true,
            "ticks": "",
            "zerolinecolor": "white"
           },
           "yaxis": {
            "backgroundcolor": "#E5ECF6",
            "gridcolor": "white",
            "gridwidth": 2,
            "linecolor": "white",
            "showbackground": true,
            "ticks": "",
            "zerolinecolor": "white"
           },
           "zaxis": {
            "backgroundcolor": "#E5ECF6",
            "gridcolor": "white",
            "gridwidth": 2,
            "linecolor": "white",
            "showbackground": true,
            "ticks": "",
            "zerolinecolor": "white"
           }
          },
          "shapedefaults": {
           "line": {
            "color": "#2a3f5f"
           }
          },
          "ternary": {
           "aaxis": {
            "gridcolor": "white",
            "linecolor": "white",
            "ticks": ""
           },
           "baxis": {
            "gridcolor": "white",
            "linecolor": "white",
            "ticks": ""
           },
           "bgcolor": "#E5ECF6",
           "caxis": {
            "gridcolor": "white",
            "linecolor": "white",
            "ticks": ""
           }
          },
          "title": {
           "x": 0.05
          },
          "xaxis": {
           "automargin": true,
           "gridcolor": "white",
           "linecolor": "white",
           "ticks": "",
           "title": {
            "standoff": 15
           },
           "zerolinecolor": "white",
           "zerolinewidth": 2
          },
          "yaxis": {
           "automargin": true,
           "gridcolor": "white",
           "linecolor": "white",
           "ticks": "",
           "title": {
            "standoff": 15
           },
           "zerolinecolor": "white",
           "zerolinewidth": 2
          }
         }
        },
        "title": {
         "text": "Custos Anuais - Cenário Atual"
        },
        "xaxis": {
         "title": {
          "text": "Tempo (Meses)"
         }
        },
        "yaxis": {
         "dtick": 2000,
         "range": [
          0,
          17000
         ],
         "tickmode": "linear",
         "title": {
          "text": "Custo (R$)"
         }
        }
       }
      }
     },
     "metadata": {},
     "output_type": "display_data"
    },
    {
     "data": {
      "application/vnd.plotly.v1+json": {
       "config": {
        "plotlyServerURL": "https://plot.ly"
       },
       "data": [
        {
         "marker": {
          "color": "blue"
         },
         "name": "Custo demanda",
         "type": "bar",
         "x": [
          "MAR/22",
          "ABR/22",
          "MAI/22",
          "JUN/22",
          "JUL/22",
          "AGO/22",
          "SET/22",
          "OUT/22",
          "NOV/22",
          "DEZ/22",
          "JAN/23",
          "FEV/23"
         ],
         "y": [
          8198.0665712,
          8072.6100998,
          6888.07411,
          6677.708129,
          6191.1954625,
          6613.8352175,
          6761.0914041999995,
          7247.6040707,
          6233.2686587,
          6675.800336,
          7078.5481687,
          7500.8063651,
          84138.60859339999
         ]
        },
        {
         "marker": {
          "color": "red"
         },
         "name": "Custo demanda s/ICMS",
         "type": "bar",
         "x": [
          "MAR/22",
          "ABR/22",
          "MAI/22",
          "JUN/22",
          "JUL/22",
          "AGO/22",
          "SET/22",
          "OUT/22",
          "NOV/22",
          "DEZ/22",
          "JAN/23",
          "FEV/23"
         ],
         "y": [
          0,
          0,
          215.92,
          381.32,
          763.84,
          431.54,
          315.76,
          33.08,
          730.76,
          399.36,
          66.16,
          0,
          3337.74
         ]
        },
        {
         "marker": {
          "color": "orange"
         },
         "name": "Custo demanda Ultrapassagem",
         "type": "bar",
         "x": [
          "MAR/22",
          "ABR/22",
          "MAI/22",
          "JUN/22",
          "JUL/22",
          "AGO/22",
          "SET/22",
          "OUT/22",
          "NOV/22",
          "DEZ/22",
          "JAN/23",
          "FEV/23"
         ],
         "y": [
          2070.7440202,
          1777.7578812000002,
          0,
          0,
          0,
          0,
          0,
          0,
          0,
          0,
          0,
          0,
          3848.5019014
         ]
        },
        {
         "marker": {
          "color": "gray"
         },
         "name": "Custo Total mensal",
         "type": "bar",
         "x": [
          "MAR/22",
          "ABR/22",
          "MAI/22",
          "JUN/22",
          "JUL/22",
          "AGO/22",
          "SET/22",
          "OUT/22",
          "NOV/22",
          "DEZ/22",
          "JAN/23",
          "FEV/23"
         ],
         "y": [
          10268.8105914,
          9850.367981,
          7103.99411,
          7059.028129,
          6955.0354625,
          7045.3752175,
          7076.851404200001,
          7280.6840707,
          6964.028658699999,
          7075.160336,
          7144.708168700001,
          7500.8063651,
          91324.8504948
         ]
        }
       ],
       "layout": {
        "font": {
         "size": 12
        },
        "legend": {
         "bgcolor": "rgba(255, 255, 255,0.95)",
         "x": 0.01,
         "y": 0.99
        },
        "template": {
         "data": {
          "bar": [
           {
            "error_x": {
             "color": "#2a3f5f"
            },
            "error_y": {
             "color": "#2a3f5f"
            },
            "marker": {
             "line": {
              "color": "#E5ECF6",
              "width": 0.5
             },
             "pattern": {
              "fillmode": "overlay",
              "size": 10,
              "solidity": 0.2
             }
            },
            "type": "bar"
           }
          ],
          "barpolar": [
           {
            "marker": {
             "line": {
              "color": "#E5ECF6",
              "width": 0.5
             },
             "pattern": {
              "fillmode": "overlay",
              "size": 10,
              "solidity": 0.2
             }
            },
            "type": "barpolar"
           }
          ],
          "carpet": [
           {
            "aaxis": {
             "endlinecolor": "#2a3f5f",
             "gridcolor": "white",
             "linecolor": "white",
             "minorgridcolor": "white",
             "startlinecolor": "#2a3f5f"
            },
            "baxis": {
             "endlinecolor": "#2a3f5f",
             "gridcolor": "white",
             "linecolor": "white",
             "minorgridcolor": "white",
             "startlinecolor": "#2a3f5f"
            },
            "type": "carpet"
           }
          ],
          "choropleth": [
           {
            "colorbar": {
             "outlinewidth": 0,
             "ticks": ""
            },
            "type": "choropleth"
           }
          ],
          "contour": [
           {
            "colorbar": {
             "outlinewidth": 0,
             "ticks": ""
            },
            "colorscale": [
             [
              0,
              "#0d0887"
             ],
             [
              0.1111111111111111,
              "#46039f"
             ],
             [
              0.2222222222222222,
              "#7201a8"
             ],
             [
              0.3333333333333333,
              "#9c179e"
             ],
             [
              0.4444444444444444,
              "#bd3786"
             ],
             [
              0.5555555555555556,
              "#d8576b"
             ],
             [
              0.6666666666666666,
              "#ed7953"
             ],
             [
              0.7777777777777778,
              "#fb9f3a"
             ],
             [
              0.8888888888888888,
              "#fdca26"
             ],
             [
              1,
              "#f0f921"
             ]
            ],
            "type": "contour"
           }
          ],
          "contourcarpet": [
           {
            "colorbar": {
             "outlinewidth": 0,
             "ticks": ""
            },
            "type": "contourcarpet"
           }
          ],
          "heatmap": [
           {
            "colorbar": {
             "outlinewidth": 0,
             "ticks": ""
            },
            "colorscale": [
             [
              0,
              "#0d0887"
             ],
             [
              0.1111111111111111,
              "#46039f"
             ],
             [
              0.2222222222222222,
              "#7201a8"
             ],
             [
              0.3333333333333333,
              "#9c179e"
             ],
             [
              0.4444444444444444,
              "#bd3786"
             ],
             [
              0.5555555555555556,
              "#d8576b"
             ],
             [
              0.6666666666666666,
              "#ed7953"
             ],
             [
              0.7777777777777778,
              "#fb9f3a"
             ],
             [
              0.8888888888888888,
              "#fdca26"
             ],
             [
              1,
              "#f0f921"
             ]
            ],
            "type": "heatmap"
           }
          ],
          "heatmapgl": [
           {
            "colorbar": {
             "outlinewidth": 0,
             "ticks": ""
            },
            "colorscale": [
             [
              0,
              "#0d0887"
             ],
             [
              0.1111111111111111,
              "#46039f"
             ],
             [
              0.2222222222222222,
              "#7201a8"
             ],
             [
              0.3333333333333333,
              "#9c179e"
             ],
             [
              0.4444444444444444,
              "#bd3786"
             ],
             [
              0.5555555555555556,
              "#d8576b"
             ],
             [
              0.6666666666666666,
              "#ed7953"
             ],
             [
              0.7777777777777778,
              "#fb9f3a"
             ],
             [
              0.8888888888888888,
              "#fdca26"
             ],
             [
              1,
              "#f0f921"
             ]
            ],
            "type": "heatmapgl"
           }
          ],
          "histogram": [
           {
            "marker": {
             "pattern": {
              "fillmode": "overlay",
              "size": 10,
              "solidity": 0.2
             }
            },
            "type": "histogram"
           }
          ],
          "histogram2d": [
           {
            "colorbar": {
             "outlinewidth": 0,
             "ticks": ""
            },
            "colorscale": [
             [
              0,
              "#0d0887"
             ],
             [
              0.1111111111111111,
              "#46039f"
             ],
             [
              0.2222222222222222,
              "#7201a8"
             ],
             [
              0.3333333333333333,
              "#9c179e"
             ],
             [
              0.4444444444444444,
              "#bd3786"
             ],
             [
              0.5555555555555556,
              "#d8576b"
             ],
             [
              0.6666666666666666,
              "#ed7953"
             ],
             [
              0.7777777777777778,
              "#fb9f3a"
             ],
             [
              0.8888888888888888,
              "#fdca26"
             ],
             [
              1,
              "#f0f921"
             ]
            ],
            "type": "histogram2d"
           }
          ],
          "histogram2dcontour": [
           {
            "colorbar": {
             "outlinewidth": 0,
             "ticks": ""
            },
            "colorscale": [
             [
              0,
              "#0d0887"
             ],
             [
              0.1111111111111111,
              "#46039f"
             ],
             [
              0.2222222222222222,
              "#7201a8"
             ],
             [
              0.3333333333333333,
              "#9c179e"
             ],
             [
              0.4444444444444444,
              "#bd3786"
             ],
             [
              0.5555555555555556,
              "#d8576b"
             ],
             [
              0.6666666666666666,
              "#ed7953"
             ],
             [
              0.7777777777777778,
              "#fb9f3a"
             ],
             [
              0.8888888888888888,
              "#fdca26"
             ],
             [
              1,
              "#f0f921"
             ]
            ],
            "type": "histogram2dcontour"
           }
          ],
          "mesh3d": [
           {
            "colorbar": {
             "outlinewidth": 0,
             "ticks": ""
            },
            "type": "mesh3d"
           }
          ],
          "parcoords": [
           {
            "line": {
             "colorbar": {
              "outlinewidth": 0,
              "ticks": ""
             }
            },
            "type": "parcoords"
           }
          ],
          "pie": [
           {
            "automargin": true,
            "type": "pie"
           }
          ],
          "scatter": [
           {
            "fillpattern": {
             "fillmode": "overlay",
             "size": 10,
             "solidity": 0.2
            },
            "type": "scatter"
           }
          ],
          "scatter3d": [
           {
            "line": {
             "colorbar": {
              "outlinewidth": 0,
              "ticks": ""
             }
            },
            "marker": {
             "colorbar": {
              "outlinewidth": 0,
              "ticks": ""
             }
            },
            "type": "scatter3d"
           }
          ],
          "scattercarpet": [
           {
            "marker": {
             "colorbar": {
              "outlinewidth": 0,
              "ticks": ""
             }
            },
            "type": "scattercarpet"
           }
          ],
          "scattergeo": [
           {
            "marker": {
             "colorbar": {
              "outlinewidth": 0,
              "ticks": ""
             }
            },
            "type": "scattergeo"
           }
          ],
          "scattergl": [
           {
            "marker": {
             "colorbar": {
              "outlinewidth": 0,
              "ticks": ""
             }
            },
            "type": "scattergl"
           }
          ],
          "scattermapbox": [
           {
            "marker": {
             "colorbar": {
              "outlinewidth": 0,
              "ticks": ""
             }
            },
            "type": "scattermapbox"
           }
          ],
          "scatterpolar": [
           {
            "marker": {
             "colorbar": {
              "outlinewidth": 0,
              "ticks": ""
             }
            },
            "type": "scatterpolar"
           }
          ],
          "scatterpolargl": [
           {
            "marker": {
             "colorbar": {
              "outlinewidth": 0,
              "ticks": ""
             }
            },
            "type": "scatterpolargl"
           }
          ],
          "scatterternary": [
           {
            "marker": {
             "colorbar": {
              "outlinewidth": 0,
              "ticks": ""
             }
            },
            "type": "scatterternary"
           }
          ],
          "surface": [
           {
            "colorbar": {
             "outlinewidth": 0,
             "ticks": ""
            },
            "colorscale": [
             [
              0,
              "#0d0887"
             ],
             [
              0.1111111111111111,
              "#46039f"
             ],
             [
              0.2222222222222222,
              "#7201a8"
             ],
             [
              0.3333333333333333,
              "#9c179e"
             ],
             [
              0.4444444444444444,
              "#bd3786"
             ],
             [
              0.5555555555555556,
              "#d8576b"
             ],
             [
              0.6666666666666666,
              "#ed7953"
             ],
             [
              0.7777777777777778,
              "#fb9f3a"
             ],
             [
              0.8888888888888888,
              "#fdca26"
             ],
             [
              1,
              "#f0f921"
             ]
            ],
            "type": "surface"
           }
          ],
          "table": [
           {
            "cells": {
             "fill": {
              "color": "#EBF0F8"
             },
             "line": {
              "color": "white"
             }
            },
            "header": {
             "fill": {
              "color": "#C8D4E3"
             },
             "line": {
              "color": "white"
             }
            },
            "type": "table"
           }
          ]
         },
         "layout": {
          "annotationdefaults": {
           "arrowcolor": "#2a3f5f",
           "arrowhead": 0,
           "arrowwidth": 1
          },
          "autotypenumbers": "strict",
          "coloraxis": {
           "colorbar": {
            "outlinewidth": 0,
            "ticks": ""
           }
          },
          "colorscale": {
           "diverging": [
            [
             0,
             "#8e0152"
            ],
            [
             0.1,
             "#c51b7d"
            ],
            [
             0.2,
             "#de77ae"
            ],
            [
             0.3,
             "#f1b6da"
            ],
            [
             0.4,
             "#fde0ef"
            ],
            [
             0.5,
             "#f7f7f7"
            ],
            [
             0.6,
             "#e6f5d0"
            ],
            [
             0.7,
             "#b8e186"
            ],
            [
             0.8,
             "#7fbc41"
            ],
            [
             0.9,
             "#4d9221"
            ],
            [
             1,
             "#276419"
            ]
           ],
           "sequential": [
            [
             0,
             "#0d0887"
            ],
            [
             0.1111111111111111,
             "#46039f"
            ],
            [
             0.2222222222222222,
             "#7201a8"
            ],
            [
             0.3333333333333333,
             "#9c179e"
            ],
            [
             0.4444444444444444,
             "#bd3786"
            ],
            [
             0.5555555555555556,
             "#d8576b"
            ],
            [
             0.6666666666666666,
             "#ed7953"
            ],
            [
             0.7777777777777778,
             "#fb9f3a"
            ],
            [
             0.8888888888888888,
             "#fdca26"
            ],
            [
             1,
             "#f0f921"
            ]
           ],
           "sequentialminus": [
            [
             0,
             "#0d0887"
            ],
            [
             0.1111111111111111,
             "#46039f"
            ],
            [
             0.2222222222222222,
             "#7201a8"
            ],
            [
             0.3333333333333333,
             "#9c179e"
            ],
            [
             0.4444444444444444,
             "#bd3786"
            ],
            [
             0.5555555555555556,
             "#d8576b"
            ],
            [
             0.6666666666666666,
             "#ed7953"
            ],
            [
             0.7777777777777778,
             "#fb9f3a"
            ],
            [
             0.8888888888888888,
             "#fdca26"
            ],
            [
             1,
             "#f0f921"
            ]
           ]
          },
          "colorway": [
           "#636efa",
           "#EF553B",
           "#00cc96",
           "#ab63fa",
           "#FFA15A",
           "#19d3f3",
           "#FF6692",
           "#B6E880",
           "#FF97FF",
           "#FECB52"
          ],
          "font": {
           "color": "#2a3f5f"
          },
          "geo": {
           "bgcolor": "white",
           "lakecolor": "white",
           "landcolor": "#E5ECF6",
           "showlakes": true,
           "showland": true,
           "subunitcolor": "white"
          },
          "hoverlabel": {
           "align": "left"
          },
          "hovermode": "closest",
          "mapbox": {
           "style": "light"
          },
          "paper_bgcolor": "white",
          "plot_bgcolor": "#E5ECF6",
          "polar": {
           "angularaxis": {
            "gridcolor": "white",
            "linecolor": "white",
            "ticks": ""
           },
           "bgcolor": "#E5ECF6",
           "radialaxis": {
            "gridcolor": "white",
            "linecolor": "white",
            "ticks": ""
           }
          },
          "scene": {
           "xaxis": {
            "backgroundcolor": "#E5ECF6",
            "gridcolor": "white",
            "gridwidth": 2,
            "linecolor": "white",
            "showbackground": true,
            "ticks": "",
            "zerolinecolor": "white"
           },
           "yaxis": {
            "backgroundcolor": "#E5ECF6",
            "gridcolor": "white",
            "gridwidth": 2,
            "linecolor": "white",
            "showbackground": true,
            "ticks": "",
            "zerolinecolor": "white"
           },
           "zaxis": {
            "backgroundcolor": "#E5ECF6",
            "gridcolor": "white",
            "gridwidth": 2,
            "linecolor": "white",
            "showbackground": true,
            "ticks": "",
            "zerolinecolor": "white"
           }
          },
          "shapedefaults": {
           "line": {
            "color": "#2a3f5f"
           }
          },
          "ternary": {
           "aaxis": {
            "gridcolor": "white",
            "linecolor": "white",
            "ticks": ""
           },
           "baxis": {
            "gridcolor": "white",
            "linecolor": "white",
            "ticks": ""
           },
           "bgcolor": "#E5ECF6",
           "caxis": {
            "gridcolor": "white",
            "linecolor": "white",
            "ticks": ""
           }
          },
          "title": {
           "x": 0.05
          },
          "xaxis": {
           "automargin": true,
           "gridcolor": "white",
           "linecolor": "white",
           "ticks": "",
           "title": {
            "standoff": 15
           },
           "zerolinecolor": "white",
           "zerolinewidth": 2
          },
          "yaxis": {
           "automargin": true,
           "gridcolor": "white",
           "linecolor": "white",
           "ticks": "",
           "title": {
            "standoff": 15
           },
           "zerolinecolor": "white",
           "zerolinewidth": 2
          }
         }
        },
        "title": {
         "text": "Custos Anuais - Cenário Otimizado"
        },
        "xaxis": {
         "title": {
          "text": "Tempo (Meses)"
         }
        },
        "yaxis": {
         "dtick": 2000,
         "range": [
          0,
          17000
         ],
         "tickmode": "linear",
         "title": {
          "text": "Custo (R$)"
         }
        }
       }
      }
     },
     "metadata": {},
     "output_type": "display_data"
    }
   ],
   "source": [
    "plot = go.Figure()\n",
    "plot.add_trace(go.Bar(x=input[0]['mes'], y=df_soma_atual.iloc[:,0], name='Custo demanda', marker=dict(color='blue')))\n",
    "plot.add_trace(go.Bar(x=input[0]['mes'], y=df_soma_atual.iloc[:,1], name='Custo demanda s/ICMS', marker=dict(color='red')))\n",
    "plot.add_trace(go.Bar(x=input[0]['mes'], y=df_soma_atual.iloc[:,2], name='Custo demanda Ultrapassagem', marker=dict(color='orange')))\n",
    "plot.add_trace(go.Bar(x=input[0]['mes'], y=df_soma_atual.iloc[:,3], name='Custo Total mensal', marker=dict(color='gray')))\n",
    "plot.update_layout(yaxis_range=[0,17000], \n",
    "                  title='Custos Anuais - Cenário Atual',\n",
    "                   yaxis_title='Custo (R$)',\n",
    "                   xaxis_title='Tempo (Meses)',\n",
    "                   yaxis=dict(tickmode='linear',dtick=2000))\n",
    "plot.update_layout(font=dict(size=12)) \n",
    "plot.update_layout(legend=dict(x=0.01, y=0.99, bgcolor='rgba(255, 255, 255,0.95)'))\n",
    "plot.write_image(\"Custos Anuais - Cenário Atual.jpg\", format=\"jpg\", scale=10, width=854, height=480)\n",
    "\n",
    "\n",
    "\n",
    "                    \n",
    "plot.show()\n",
    "\n",
    "plot = go.Figure()\n",
    "plot.add_trace(go.Bar(x=input[0]['mes'], y=df_soma_otimo.iloc[:,0], name='Custo demanda', marker=dict(color='blue')))\n",
    "plot.add_trace(go.Bar(x=input[0]['mes'], y=df_soma_otimo.iloc[:,1], name='Custo demanda s/ICMS', marker=dict(color='red')))\n",
    "plot.add_trace(go.Bar(x=input[0]['mes'], y=df_soma_otimo.iloc[:,2], name='Custo demanda Ultrapassagem', marker=dict(color='orange')))\n",
    "plot.add_trace(go.Bar(x=input[0]['mes'], y=df_soma_otimo.iloc[:,3], name='Custo Total mensal', marker=dict(color='gray')))\n",
    "plot.update_layout(yaxis_range=[0,17000], \n",
    "                   title='Custos Anuais - Cenário Otimizado',\n",
    "                   yaxis_title='Custo (R$)',\n",
    "                   xaxis_title='Tempo (Meses)',\n",
    "                   yaxis=dict(tickmode='linear',dtick=2000))\n",
    "plot.update_layout(font=dict(size=12)) \n",
    "plot.update_layout(legend=dict(x=0.01, y=0.99, bgcolor='rgba(255, 255, 255,0.95)'))\n",
    "plot.write_image(\"Custos Anuais - Cenário Otimizado.jpg\", format=\"jpg\", scale=10, width=854, height=480)\n",
    "                    \n",
    "plot.show()"
   ]
  },
  {
   "cell_type": "code",
   "execution_count": 60,
   "id": "ecd19341",
   "metadata": {},
   "outputs": [],
   "source": [
    "import pandas as pd\n",
    "import time\n",
    "import pyautogui\n",
    "from PIL import Image\n",
    "\n",
    "\n",
    "# Salvar o dataframe estilizado em um arquivo HTML temporário\n",
    "temp_file = 'temp.html'\n",
    "df.to_html(temp_file)\n"
   ]
  },
  {
   "cell_type": "markdown",
   "id": "78e0d3c7",
   "metadata": {},
   "source": [
    "pip install pandas_screenshot\n"
   ]
  },
  {
   "cell_type": "code",
   "execution_count": null,
   "id": "12eecf10",
   "metadata": {},
   "outputs": [],
   "source": []
  },
  {
   "cell_type": "code",
   "execution_count": null,
   "id": "966a96c0",
   "metadata": {},
   "outputs": [],
   "source": []
  },
  {
   "cell_type": "code",
   "execution_count": null,
   "id": "9a9d2ea3",
   "metadata": {},
   "outputs": [],
   "source": []
  },
  {
   "cell_type": "code",
   "execution_count": null,
   "id": "0eb9ff84",
   "metadata": {},
   "outputs": [],
   "source": []
  },
  {
   "cell_type": "code",
   "execution_count": null,
   "id": "eb65df2d",
   "metadata": {},
   "outputs": [],
   "source": []
  }
 ],
 "metadata": {
  "kernelspec": {
   "display_name": "Python 3 (ipykernel)",
   "language": "python",
   "name": "python3"
  },
  "language_info": {
   "codemirror_mode": {
    "name": "ipython",
    "version": 3
   },
   "file_extension": ".py",
   "mimetype": "text/x-python",
   "name": "python",
   "nbconvert_exporter": "python",
   "pygments_lexer": "ipython3",
   "version": "3.12.1"
  }
 },
 "nbformat": 4,
 "nbformat_minor": 5
}
